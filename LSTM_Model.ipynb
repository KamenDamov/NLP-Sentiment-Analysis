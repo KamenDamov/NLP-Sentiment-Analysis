{
 "cells": [
  {
   "cell_type": "code",
   "execution_count": 1,
   "metadata": {},
   "outputs": [
    {
     "name": "stderr",
     "output_type": "stream",
     "text": [
      "[nltk_data] Downloading package omw-1.4 to\n",
      "[nltk_data]     C:\\Users\\Kamen\\AppData\\Roaming\\nltk_data...\n",
      "[nltk_data]   Package omw-1.4 is already up-to-date!\n"
     ]
    }
   ],
   "source": [
    "import numpy as np\n",
    "import pandas as pd\n",
    "import seaborn as sns\n",
    "import re\n",
    "from nltk.corpus import stopwords\n",
    "from nltk.stem import WordNetLemmatizer\n",
    "from sklearn.model_selection import train_test_split\n",
    "import string\n",
    "import pickle\n",
    "import emoji\n",
    "import scipy.stats as ss\n",
    "import sklearn\n",
    "from sklearn.base import TransformerMixin, BaseEstimator\n",
    "from sklearn.ensemble import RandomForestClassifier\n",
    "from sklearn.feature_extraction.text import CountVectorizer\n",
    "from sklearn.metrics import confusion_matrix, accuracy_score, classification_report,plot_confusion_matrix\n",
    "from sklearn.model_selection import cross_val_score, RandomizedSearchCV, GridSearchCV\n",
    "from sklearn.neighbors import KNeighborsClassifier\n",
    "from sklearn.pipeline import Pipeline\n",
    "from sklearn.svm import LinearSVC\n",
    "from sklearn.utils.validation import check_is_fitted\n",
    "from sklearn.feature_extraction.text import TfidfTransformer\n",
    "from sklearn.pipeline import Pipeline\n",
    "from sklearn.model_selection import train_test_split\n",
    "from sklearn.pipeline import make_pipeline\n",
    "from sklearn.model_selection import GridSearchCV\n",
    "from sklearn.naive_bayes import MultinomialNB\n",
    "from sklearn.feature_extraction.text import CountVectorizer\n",
    "from sklearn.metrics import classification_report\n",
    "import nltk\n",
    "nltk.download('omw-1.4')\n",
    "import keras\n",
    "from keras.preprocessing import sequence\n",
    "from keras.preprocessing.text import Tokenizer\n",
    "from keras.models import load_model\n",
    "from keras.utils import to_categorical, pad_sequences\n",
    "from textblob import TextBlob\n",
    "import langid\n",
    "from langdetect import detect\n",
    "\n",
    "%matplotlib inline"
   ]
  },
  {
   "cell_type": "code",
   "execution_count": 2,
   "metadata": {},
   "outputs": [],
   "source": [
    "#Convert emojis to words \n",
    "with open('Emoji_Dict.p', 'rb') as fp:\n",
    "        Emoji_Dict = pickle.load(fp)\n",
    "Emoji_Dict = {v: k for k, v in Emoji_Dict.items()}\n",
    "\n",
    "def convert_emojis_to_word(mess):\n",
    "    for emot in Emoji_Dict:\n",
    "        mess = re.sub(r'('+emot+')', \"_\".join(Emoji_Dict[emot].replace(\",\",\"\").replace(\":\",\"\").split()), mess)\n",
    "    return mess\n",
    "\n",
    "str_punc = string.punctuation.replace(',', '').replace(\"'\",'')\n",
    "\n",
    "def clean(text):\n",
    "    global str_punc\n",
    "    text = convert_emojis_to_word(text)\n",
    "    text = re.sub(r'[^a-zA-Z ]', '', text)\n",
    "    text = text.lower()\n",
    "    return text \n",
    "    \n",
    "#def text_process(mess):\n",
    "    \n",
    "#    #Convert emojis to words\n",
    "#    mess = convert_emojis_to_word(mess)\n",
    "#    mess = mess.lower() # lowercase text\n",
    "#    mess = REPLACE_BY_SPACE_RE.sub('', mess) # replace REPLACE_BY_SPACE_RE symbols by space in text. substitute the matched string in REPLACE_BY_SPACE_RE with space.\n",
    "#    mess = BAD_SYMBOLS_RE.sub('', mess)\n",
    "\n",
    "    # Check characters to see if they are in punctuation\n",
    "#    nopunc = [char for char in mess if char not in string.punctuation]\n",
    "    \n",
    "    # Join the characters again to form the string.\n",
    "#    nopunc = ''.join(nopunc)\n",
    "    \n",
    "    # Now just remove any stopwords\n",
    "#    stop = ' '.join([word for word in nopunc.split() if word.lower() not in stopwords.words('english')])\n",
    "\n",
    "#    return stop"
   ]
  },
  {
   "cell_type": "code",
   "execution_count": 3,
   "metadata": {},
   "outputs": [],
   "source": [
    "df_tr_2 = pd.read_csv('emotion-labels-train.csv')\n",
    "df_te_2 = pd.read_csv('emotion-labels-test.csv')\n",
    "df_v_2 = pd.read_csv(\"emotion-labels-val.csv\")"
   ]
  },
  {
   "cell_type": "code",
   "execution_count": 4,
   "metadata": {},
   "outputs": [
    {
     "data": {
      "text/html": [
       "<div>\n",
       "<style scoped>\n",
       "    .dataframe tbody tr th:only-of-type {\n",
       "        vertical-align: middle;\n",
       "    }\n",
       "\n",
       "    .dataframe tbody tr th {\n",
       "        vertical-align: top;\n",
       "    }\n",
       "\n",
       "    .dataframe thead th {\n",
       "        text-align: right;\n",
       "    }\n",
       "</style>\n",
       "<table border=\"1\" class=\"dataframe\">\n",
       "  <thead>\n",
       "    <tr style=\"text-align: right;\">\n",
       "      <th></th>\n",
       "      <th>text</th>\n",
       "      <th>label</th>\n",
       "    </tr>\n",
       "  </thead>\n",
       "  <tbody>\n",
       "    <tr>\n",
       "      <th>0</th>\n",
       "      <td>You must be knowing #blithe means (adj.)  Happ...</td>\n",
       "      <td>joy</td>\n",
       "    </tr>\n",
       "    <tr>\n",
       "      <th>1</th>\n",
       "      <td>Old saying 'A #smile shared is one gained for ...</td>\n",
       "      <td>joy</td>\n",
       "    </tr>\n",
       "    <tr>\n",
       "      <th>2</th>\n",
       "      <td>Bridget Jones' Baby was bloody hilarious 😅 #Br...</td>\n",
       "      <td>joy</td>\n",
       "    </tr>\n",
       "    <tr>\n",
       "      <th>3</th>\n",
       "      <td>@Elaminova sparkling water makes your life spa...</td>\n",
       "      <td>joy</td>\n",
       "    </tr>\n",
       "    <tr>\n",
       "      <th>4</th>\n",
       "      <td>I'm tired of everybody telling me to chill out...</td>\n",
       "      <td>joy</td>\n",
       "    </tr>\n",
       "    <tr>\n",
       "      <th>...</th>\n",
       "      <td>...</td>\n",
       "      <td>...</td>\n",
       "    </tr>\n",
       "    <tr>\n",
       "      <th>3137</th>\n",
       "      <td>Why does Candice constantly pout #GBBO 💄😒</td>\n",
       "      <td>sadness</td>\n",
       "    </tr>\n",
       "    <tr>\n",
       "      <th>3138</th>\n",
       "      <td>@redBus_in #unhappy with #redbus CC, when I ta...</td>\n",
       "      <td>sadness</td>\n",
       "    </tr>\n",
       "    <tr>\n",
       "      <th>3139</th>\n",
       "      <td>@AceOperative789 no pull him afew weeks ago, s...</td>\n",
       "      <td>sadness</td>\n",
       "    </tr>\n",
       "    <tr>\n",
       "      <th>3140</th>\n",
       "      <td>I'm buying art supplies and I'm debating how s...</td>\n",
       "      <td>sadness</td>\n",
       "    </tr>\n",
       "    <tr>\n",
       "      <th>3141</th>\n",
       "      <td>@sainsburys Could you ask your Chafford Hundre...</td>\n",
       "      <td>sadness</td>\n",
       "    </tr>\n",
       "  </tbody>\n",
       "</table>\n",
       "<p>3142 rows × 2 columns</p>\n",
       "</div>"
      ],
      "text/plain": [
       "                                                   text    label\n",
       "0     You must be knowing #blithe means (adj.)  Happ...      joy\n",
       "1     Old saying 'A #smile shared is one gained for ...      joy\n",
       "2     Bridget Jones' Baby was bloody hilarious 😅 #Br...      joy\n",
       "3     @Elaminova sparkling water makes your life spa...      joy\n",
       "4     I'm tired of everybody telling me to chill out...      joy\n",
       "...                                                 ...      ...\n",
       "3137          Why does Candice constantly pout #GBBO 💄😒  sadness\n",
       "3138  @redBus_in #unhappy with #redbus CC, when I ta...  sadness\n",
       "3139  @AceOperative789 no pull him afew weeks ago, s...  sadness\n",
       "3140  I'm buying art supplies and I'm debating how s...  sadness\n",
       "3141  @sainsburys Could you ask your Chafford Hundre...  sadness\n",
       "\n",
       "[3142 rows x 2 columns]"
      ]
     },
     "execution_count": 4,
     "metadata": {},
     "output_type": "execute_result"
    }
   ],
   "source": [
    "df_te_2"
   ]
  },
  {
   "cell_type": "code",
   "execution_count": 5,
   "metadata": {},
   "outputs": [],
   "source": [
    "#A NEW DAY, NEW OPPORTUNITY\n",
    "df_tr = pd.read_csv('train.txt',sep=';')\n",
    "df_tr.rename({'i didnt feel humiliated':'text','sadness':'label'}, axis = 1, inplace=True)\n",
    "df_v = pd.read_csv('val.txt', sep=';')\n",
    "df_v.rename({'im feeling quite sad and sorry for myself but ill snap out of it soon':'text','sadness':'label'}, axis = 1, inplace=True)\n",
    "df_te = pd.read_csv('test.csv', sep=';')\n",
    "df_te.rename({'im feeling rather rotten so im not very ambitious right now':'text','sadness':'label'}, axis = 1, inplace=True)"
   ]
  },
  {
   "cell_type": "code",
   "execution_count": 6,
   "metadata": {},
   "outputs": [],
   "source": [
    "df_tr = pd.concat([df_tr,df_tr_2])\n",
    "df_te = pd.concat([df_te, df_te_2])\n",
    "df_v = pd.concat([df_v, df_v_2])"
   ]
  },
  {
   "cell_type": "code",
   "execution_count": 7,
   "metadata": {},
   "outputs": [
    {
     "name": "stdout",
     "output_type": "stream",
     "text": [
      "19612\n",
      "5141\n",
      "2346\n"
     ]
    }
   ],
   "source": [
    "print(len(df_tr))\n",
    "print(len(df_te))\n",
    "print(len(df_v))"
   ]
  },
  {
   "cell_type": "code",
   "execution_count": 8,
   "metadata": {},
   "outputs": [
    {
     "name": "stdout",
     "output_type": "stream",
     "text": [
      "Training data length:  19612\n",
      "Validation data length:  2346\n",
      "Testing data length:  5141\n"
     ]
    }
   ],
   "source": [
    "print('Training data length: ', len(df_tr))\n",
    "print('Validation data length: ', len(df_v))\n",
    "print('Testing data length: ', len(df_te))"
   ]
  },
  {
   "cell_type": "code",
   "execution_count": 9,
   "metadata": {},
   "outputs": [
    {
     "data": {
      "text/html": [
       "<div>\n",
       "<style scoped>\n",
       "    .dataframe tbody tr th:only-of-type {\n",
       "        vertical-align: middle;\n",
       "    }\n",
       "\n",
       "    .dataframe tbody tr th {\n",
       "        vertical-align: top;\n",
       "    }\n",
       "\n",
       "    .dataframe thead th {\n",
       "        text-align: right;\n",
       "    }\n",
       "</style>\n",
       "<table border=\"1\" class=\"dataframe\">\n",
       "  <thead>\n",
       "    <tr style=\"text-align: right;\">\n",
       "      <th></th>\n",
       "      <th>text</th>\n",
       "      <th>label</th>\n",
       "    </tr>\n",
       "  </thead>\n",
       "  <tbody>\n",
       "    <tr>\n",
       "      <th>1474</th>\n",
       "      <td>@iTriborg — make him feel vigorous. 'Fine. You...</td>\n",
       "      <td>fear</td>\n",
       "    </tr>\n",
       "    <tr>\n",
       "      <th>2463</th>\n",
       "      <td>Not by wrath does one kill, but by laughter.  ...</td>\n",
       "      <td>anger</td>\n",
       "    </tr>\n",
       "    <tr>\n",
       "      <th>2474</th>\n",
       "      <td>@spamvicious I've just found out it's Candice ...</td>\n",
       "      <td>sadness</td>\n",
       "    </tr>\n",
       "    <tr>\n",
       "      <th>2489</th>\n",
       "      <td>Time for some despair #SDR3 #despair #fuckthis...</td>\n",
       "      <td>sadness</td>\n",
       "    </tr>\n",
       "    <tr>\n",
       "      <th>2500</th>\n",
       "      <td>@NikeSupport ok, thats it. After 2 weeks not b...</td>\n",
       "      <td>sadness</td>\n",
       "    </tr>\n",
       "    <tr>\n",
       "      <th>2513</th>\n",
       "      <td>@ThomasHCrown @laurakfillault As a historic ev...</td>\n",
       "      <td>sadness</td>\n",
       "    </tr>\n",
       "    <tr>\n",
       "      <th>2533</th>\n",
       "      <td>@mar_de_palabras But I do think we need to exp...</td>\n",
       "      <td>sadness</td>\n",
       "    </tr>\n",
       "    <tr>\n",
       "      <th>2570</th>\n",
       "      <td>Migraine hangover all day. Stood up to do dish...</td>\n",
       "      <td>sadness</td>\n",
       "    </tr>\n",
       "    <tr>\n",
       "      <th>2594</th>\n",
       "      <td>I am going to make it my life's mission to dis...</td>\n",
       "      <td>sadness</td>\n",
       "    </tr>\n",
       "    <tr>\n",
       "      <th>2604</th>\n",
       "      <td>@MarianKeyes the pout tips me over the edge. I...</td>\n",
       "      <td>sadness</td>\n",
       "    </tr>\n",
       "    <tr>\n",
       "      <th>2609</th>\n",
       "      <td>@ShannonBeador we know the truth about her, th...</td>\n",
       "      <td>sadness</td>\n",
       "    </tr>\n",
       "    <tr>\n",
       "      <th>2634</th>\n",
       "      <td>@DatGuydARK I wouldn't fret. There's too many ...</td>\n",
       "      <td>sadness</td>\n",
       "    </tr>\n",
       "    <tr>\n",
       "      <th>2645</th>\n",
       "      <td>In other news. My legs hurt. #running #5kin26m...</td>\n",
       "      <td>sadness</td>\n",
       "    </tr>\n",
       "    <tr>\n",
       "      <th>2683</th>\n",
       "      <td>@loueezecee I don't know how much more of that...</td>\n",
       "      <td>sadness</td>\n",
       "    </tr>\n",
       "    <tr>\n",
       "      <th>2706</th>\n",
       "      <td>@broadly you should be criminalized for postin...</td>\n",
       "      <td>sadness</td>\n",
       "    </tr>\n",
       "    <tr>\n",
       "      <th>2718</th>\n",
       "      <td>I want my highlight to be so bright that if I ...</td>\n",
       "      <td>sadness</td>\n",
       "    </tr>\n",
       "    <tr>\n",
       "      <th>2746</th>\n",
       "      <td>@Jake_Martin74 Oh and I play it capo 2nd fret ...</td>\n",
       "      <td>sadness</td>\n",
       "    </tr>\n",
       "    <tr>\n",
       "      <th>2766</th>\n",
       "      <td>@Cassena13 I know if I wasn't an optimist I wo...</td>\n",
       "      <td>sadness</td>\n",
       "    </tr>\n",
       "    <tr>\n",
       "      <th>2789</th>\n",
       "      <td>(whisper) I cannot frown.</td>\n",
       "      <td>sadness</td>\n",
       "    </tr>\n",
       "    <tr>\n",
       "      <th>2793</th>\n",
       "      <td>Dentist just said to me' I'm going to numb you...</td>\n",
       "      <td>sadness</td>\n",
       "    </tr>\n",
       "    <tr>\n",
       "      <th>2794</th>\n",
       "      <td>@haileywiggins_ @flenner_alisha good. Takes mo...</td>\n",
       "      <td>sadness</td>\n",
       "    </tr>\n",
       "    <tr>\n",
       "      <th>2801</th>\n",
       "      <td>@jamiesmart Huh! It's always my fault isn't it...</td>\n",
       "      <td>sadness</td>\n",
       "    </tr>\n",
       "    <tr>\n",
       "      <th>2805</th>\n",
       "      <td>The ghost of Stefano reflects on the grim indi...</td>\n",
       "      <td>sadness</td>\n",
       "    </tr>\n",
       "    <tr>\n",
       "      <th>2831</th>\n",
       "      <td>@ScottCarmichae1 @Murican_Stuff don't fret -- ...</td>\n",
       "      <td>sadness</td>\n",
       "    </tr>\n",
       "    <tr>\n",
       "      <th>2847</th>\n",
       "      <td>UPLIFT: If you're still discouraged it means y...</td>\n",
       "      <td>sadness</td>\n",
       "    </tr>\n",
       "    <tr>\n",
       "      <th>2868</th>\n",
       "      <td>Go away please ... I'm begging »»» #depression...</td>\n",
       "      <td>sadness</td>\n",
       "    </tr>\n",
       "    <tr>\n",
       "      <th>2891</th>\n",
       "      <td>@kagehime3 I'm so starved for content I'd take...</td>\n",
       "      <td>sadness</td>\n",
       "    </tr>\n",
       "    <tr>\n",
       "      <th>2892</th>\n",
       "      <td>@ChrisWarcraft species cf. Don Jr. refugees/Sk...</td>\n",
       "      <td>sadness</td>\n",
       "    </tr>\n",
       "    <tr>\n",
       "      <th>2914</th>\n",
       "      <td>#2 complained then while his head and then cal...</td>\n",
       "      <td>sadness</td>\n",
       "    </tr>\n",
       "    <tr>\n",
       "      <th>2920</th>\n",
       "      <td>♪OLD FISH  #discourage</td>\n",
       "      <td>sadness</td>\n",
       "    </tr>\n",
       "    <tr>\n",
       "      <th>2924</th>\n",
       "      <td>@tariqmateen but sadly he missed some crucial ...</td>\n",
       "      <td>sadness</td>\n",
       "    </tr>\n",
       "    <tr>\n",
       "      <th>2925</th>\n",
       "      <td>Remember your journey is unique! Don't get dis...</td>\n",
       "      <td>sadness</td>\n",
       "    </tr>\n",
       "    <tr>\n",
       "      <th>2947</th>\n",
       "      <td>@grumpy_pumper I involuntarily smile when you ...</td>\n",
       "      <td>sadness</td>\n",
       "    </tr>\n",
       "    <tr>\n",
       "      <th>2958</th>\n",
       "      <td>I'd pay good money to watch someone slap that ...</td>\n",
       "      <td>sadness</td>\n",
       "    </tr>\n",
       "    <tr>\n",
       "      <th>2959</th>\n",
       "      <td>#PeopleLikeMeBecause they see the happy exteri...</td>\n",
       "      <td>sadness</td>\n",
       "    </tr>\n",
       "    <tr>\n",
       "      <th>2961</th>\n",
       "      <td>@todofuku dreadful day at work n now im gonna ...</td>\n",
       "      <td>sadness</td>\n",
       "    </tr>\n",
       "    <tr>\n",
       "      <th>2977</th>\n",
       "      <td>You forever straight so fix that frown u good😇...</td>\n",
       "      <td>sadness</td>\n",
       "    </tr>\n",
       "    <tr>\n",
       "      <th>2989</th>\n",
       "      <td>@susanbrodigan @lyricconcert Ha yes- the look ...</td>\n",
       "      <td>sadness</td>\n",
       "    </tr>\n",
       "    <tr>\n",
       "      <th>2991</th>\n",
       "      <td>@_JuliaSteiner : YES ! Right ? I mean I wish y...</td>\n",
       "      <td>sadness</td>\n",
       "    </tr>\n",
       "    <tr>\n",
       "      <th>3008</th>\n",
       "      <td>@HartRamsey #UPLIFT If you're still discourage...</td>\n",
       "      <td>sadness</td>\n",
       "    </tr>\n",
       "    <tr>\n",
       "      <th>3071</th>\n",
       "      <td>@Simon_Barrett I will watch @BlairWitchMovie w...</td>\n",
       "      <td>sadness</td>\n",
       "    </tr>\n",
       "    <tr>\n",
       "      <th>3086</th>\n",
       "      <td>Rooneys fucking untouchable isn't he? Been fuc...</td>\n",
       "      <td>sadness</td>\n",
       "    </tr>\n",
       "    <tr>\n",
       "      <th>3125</th>\n",
       "      <td>Boy oh boy! our weekday schedule is crazy! But...</td>\n",
       "      <td>sadness</td>\n",
       "    </tr>\n",
       "  </tbody>\n",
       "</table>\n",
       "</div>"
      ],
      "text/plain": [
       "                                                   text    label\n",
       "1474  @iTriborg — make him feel vigorous. 'Fine. You...     fear\n",
       "2463  Not by wrath does one kill, but by laughter.  ...    anger\n",
       "2474  @spamvicious I've just found out it's Candice ...  sadness\n",
       "2489  Time for some despair #SDR3 #despair #fuckthis...  sadness\n",
       "2500  @NikeSupport ok, thats it. After 2 weeks not b...  sadness\n",
       "2513  @ThomasHCrown @laurakfillault As a historic ev...  sadness\n",
       "2533  @mar_de_palabras But I do think we need to exp...  sadness\n",
       "2570  Migraine hangover all day. Stood up to do dish...  sadness\n",
       "2594  I am going to make it my life's mission to dis...  sadness\n",
       "2604  @MarianKeyes the pout tips me over the edge. I...  sadness\n",
       "2609  @ShannonBeador we know the truth about her, th...  sadness\n",
       "2634  @DatGuydARK I wouldn't fret. There's too many ...  sadness\n",
       "2645  In other news. My legs hurt. #running #5kin26m...  sadness\n",
       "2683  @loueezecee I don't know how much more of that...  sadness\n",
       "2706  @broadly you should be criminalized for postin...  sadness\n",
       "2718  I want my highlight to be so bright that if I ...  sadness\n",
       "2746  @Jake_Martin74 Oh and I play it capo 2nd fret ...  sadness\n",
       "2766  @Cassena13 I know if I wasn't an optimist I wo...  sadness\n",
       "2789                          (whisper) I cannot frown.  sadness\n",
       "2793  Dentist just said to me' I'm going to numb you...  sadness\n",
       "2794  @haileywiggins_ @flenner_alisha good. Takes mo...  sadness\n",
       "2801  @jamiesmart Huh! It's always my fault isn't it...  sadness\n",
       "2805  The ghost of Stefano reflects on the grim indi...  sadness\n",
       "2831  @ScottCarmichae1 @Murican_Stuff don't fret -- ...  sadness\n",
       "2847  UPLIFT: If you're still discouraged it means y...  sadness\n",
       "2868  Go away please ... I'm begging »»» #depression...  sadness\n",
       "2891  @kagehime3 I'm so starved for content I'd take...  sadness\n",
       "2892  @ChrisWarcraft species cf. Don Jr. refugees/Sk...  sadness\n",
       "2914  #2 complained then while his head and then cal...  sadness\n",
       "2920                             ♪OLD FISH  #discourage  sadness\n",
       "2924  @tariqmateen but sadly he missed some crucial ...  sadness\n",
       "2925  Remember your journey is unique! Don't get dis...  sadness\n",
       "2947  @grumpy_pumper I involuntarily smile when you ...  sadness\n",
       "2958  I'd pay good money to watch someone slap that ...  sadness\n",
       "2959  #PeopleLikeMeBecause they see the happy exteri...  sadness\n",
       "2961  @todofuku dreadful day at work n now im gonna ...  sadness\n",
       "2977  You forever straight so fix that frown u good😇...  sadness\n",
       "2989  @susanbrodigan @lyricconcert Ha yes- the look ...  sadness\n",
       "2991  @_JuliaSteiner : YES ! Right ? I mean I wish y...  sadness\n",
       "3008  @HartRamsey #UPLIFT If you're still discourage...  sadness\n",
       "3071  @Simon_Barrett I will watch @BlairWitchMovie w...  sadness\n",
       "3086  Rooneys fucking untouchable isn't he? Been fuc...  sadness\n",
       "3125  Boy oh boy! our weekday schedule is crazy! But...  sadness"
      ]
     },
     "execution_count": 9,
     "metadata": {},
     "output_type": "execute_result"
    }
   ],
   "source": [
    "duplicateRows = df_te[df_te['text'].duplicated()]\n",
    "duplicateRows"
   ]
  },
  {
   "cell_type": "code",
   "execution_count": 10,
   "metadata": {},
   "outputs": [],
   "source": [
    "#LSTM\n",
    "from keras.utils.data_utils import pad_sequences\n",
    "from keras.utils import np_utils\n",
    "from keras.models import Sequential\n",
    "from keras.layers import Dense, LSTM, Dropout, Embedding, Bidirectional"
   ]
  },
  {
   "cell_type": "code",
   "execution_count": 11,
   "metadata": {},
   "outputs": [
    {
     "name": "stdout",
     "output_type": "stream",
     "text": [
      "Processing text data\n",
      "Encoding y values\n",
      "\n",
      "\n",
      "Processing text data\n",
      "Encoding y values\n",
      "\n",
      "\n",
      "Processing text data\n",
      "Encoding y values\n",
      "\n",
      "\n"
     ]
    }
   ],
   "source": [
    "dfs = [df_tr, df_v, df_te]\n",
    "for df in dfs:\n",
    "    print('Processing text data')\n",
    "    df['to_check'] = df['text'].apply(clean)\n",
    "    print('Encoding y values')\n",
    "    df['label']=df['label'].replace({'joy':0,'anger':1,'love':2,'sadness':3,'fear':4,'surprise':5})\n",
    "    print('\\n')"
   ]
  },
  {
   "cell_type": "code",
   "execution_count": 12,
   "metadata": {},
   "outputs": [
    {
     "data": {
      "text/html": [
       "<div>\n",
       "<style scoped>\n",
       "    .dataframe tbody tr th:only-of-type {\n",
       "        vertical-align: middle;\n",
       "    }\n",
       "\n",
       "    .dataframe tbody tr th {\n",
       "        vertical-align: top;\n",
       "    }\n",
       "\n",
       "    .dataframe thead th {\n",
       "        text-align: right;\n",
       "    }\n",
       "</style>\n",
       "<table border=\"1\" class=\"dataframe\">\n",
       "  <thead>\n",
       "    <tr style=\"text-align: right;\">\n",
       "      <th></th>\n",
       "      <th>text</th>\n",
       "      <th>label</th>\n",
       "      <th>to_check</th>\n",
       "    </tr>\n",
       "  </thead>\n",
       "  <tbody>\n",
       "    <tr>\n",
       "      <th>0</th>\n",
       "      <td>im updating my blog because i feel shitty</td>\n",
       "      <td>3</td>\n",
       "      <td>im updating my blog because i feel shitty</td>\n",
       "    </tr>\n",
       "    <tr>\n",
       "      <th>1</th>\n",
       "      <td>i never make her separate from me because i do...</td>\n",
       "      <td>3</td>\n",
       "      <td>i never make her separate from me because i do...</td>\n",
       "    </tr>\n",
       "    <tr>\n",
       "      <th>2</th>\n",
       "      <td>i left with my bouquet of red and yellow tulip...</td>\n",
       "      <td>0</td>\n",
       "      <td>i left with my bouquet of red and yellow tulip...</td>\n",
       "    </tr>\n",
       "    <tr>\n",
       "      <th>3</th>\n",
       "      <td>i was feeling a little vain when i did this one</td>\n",
       "      <td>3</td>\n",
       "      <td>i was feeling a little vain when i did this one</td>\n",
       "    </tr>\n",
       "    <tr>\n",
       "      <th>4</th>\n",
       "      <td>i cant walk into a shop anywhere where i do no...</td>\n",
       "      <td>4</td>\n",
       "      <td>i cant walk into a shop anywhere where i do no...</td>\n",
       "    </tr>\n",
       "  </tbody>\n",
       "</table>\n",
       "</div>"
      ],
      "text/plain": [
       "                                                text  label  \\\n",
       "0          im updating my blog because i feel shitty      3   \n",
       "1  i never make her separate from me because i do...      3   \n",
       "2  i left with my bouquet of red and yellow tulip...      0   \n",
       "3    i was feeling a little vain when i did this one      3   \n",
       "4  i cant walk into a shop anywhere where i do no...      4   \n",
       "\n",
       "                                            to_check  \n",
       "0          im updating my blog because i feel shitty  \n",
       "1  i never make her separate from me because i do...  \n",
       "2  i left with my bouquet of red and yellow tulip...  \n",
       "3    i was feeling a little vain when i did this one  \n",
       "4  i cant walk into a shop anywhere where i do no...  "
      ]
     },
     "execution_count": 12,
     "metadata": {},
     "output_type": "execute_result"
    }
   ],
   "source": [
    "df_te.head()"
   ]
  },
  {
   "cell_type": "code",
   "execution_count": 13,
   "metadata": {},
   "outputs": [
    {
     "name": "stdout",
     "output_type": "stream",
     "text": [
      "Training data shape:  (19612,) (19612,)\n",
      "Validation data shape:  (2346,) (2346,)\n",
      "test data shape:  (5141,) (5141,)\n"
     ]
    }
   ],
   "source": [
    "X_tr = df_tr['to_check'].values\n",
    "y_tr = df_tr['label'].values\n",
    "X_v = df_v['to_check'].values\n",
    "y_v = df_v['label'].values\n",
    "X_te = df_te['to_check'].values\n",
    "y_te = df_te['label'].values\n",
    "#X_train, X_test, y_train, y_test = train_test_split(X,y, test_size = 0.1, random_state = 42)\n",
    "print('Training data shape: ',X_tr.shape,y_tr.shape)\n",
    "print('Validation data shape: ',X_v.shape,y_v.shape)\n",
    "print('test data shape: ',X_te.shape,y_te.shape)"
   ]
  },
  {
   "cell_type": "code",
   "execution_count": 14,
   "metadata": {},
   "outputs": [],
   "source": [
    "#Prepare parameters\n",
    "n_words = 20000 # cut texts after this \n",
    "maxlen = 80\n",
    "batch_size = 128 "
   ]
  },
  {
   "cell_type": "code",
   "execution_count": 15,
   "metadata": {},
   "outputs": [
    {
     "name": "stdout",
     "output_type": "stream",
     "text": [
      "Found 20984 unique tokens.\n"
     ]
    }
   ],
   "source": [
    "tokenizer = Tokenizer(num_words=n_words, lower=True)\n",
    "tokenizer.fit_on_texts(X_tr)\n",
    "word_index = tokenizer.word_index\n",
    "print('Found %s unique tokens.' % len(word_index))"
   ]
  },
  {
   "cell_type": "code",
   "execution_count": 16,
   "metadata": {},
   "outputs": [
    {
     "name": "stdout",
     "output_type": "stream",
     "text": [
      "Shape of data tensor: (19612, 80)\n"
     ]
    }
   ],
   "source": [
    "X_tr = tokenizer.texts_to_sequences(X_tr)\n",
    "X_tr = pad_sequences(X_tr, maxlen=maxlen)\n",
    "print('Shape of data tensor:', X_tr.shape)"
   ]
  },
  {
   "cell_type": "code",
   "execution_count": 17,
   "metadata": {},
   "outputs": [
    {
     "data": {
      "text/plain": [
       "array([[0., 0., 0., 1., 0., 0.],\n",
       "       [0., 1., 0., 0., 0., 0.],\n",
       "       [0., 0., 1., 0., 0., 0.],\n",
       "       ...,\n",
       "       [0., 0., 0., 1., 0., 0.],\n",
       "       [0., 0., 0., 1., 0., 0.],\n",
       "       [0., 0., 0., 1., 0., 0.]], dtype=float32)"
      ]
     },
     "execution_count": 17,
     "metadata": {},
     "output_type": "execute_result"
    }
   ],
   "source": [
    "#One Hot Encoding Training data\n",
    "y_tr=to_categorical(y_tr)\n",
    "y_tr"
   ]
  },
  {
   "cell_type": "code",
   "execution_count": 18,
   "metadata": {},
   "outputs": [],
   "source": [
    "#X_test\n",
    "X_v = tokenizer.texts_to_sequences(X_v)\n",
    "X_v = pad_sequences(X_v, maxlen=maxlen)"
   ]
  },
  {
   "cell_type": "code",
   "execution_count": 19,
   "metadata": {},
   "outputs": [],
   "source": [
    "#One Hot Encode validation data\n",
    "y_v = to_categorical(y_v)"
   ]
  },
  {
   "cell_type": "code",
   "execution_count": 26,
   "metadata": {},
   "outputs": [
    {
     "name": "stdout",
     "output_type": "stream",
     "text": [
      "Model: \"sequential_2\"\n",
      "_________________________________________________________________\n",
      " Layer (type)                Output Shape              Param #   \n",
      "=================================================================\n",
      " embedding_2 (Embedding)     (None, 80, 64)            1344000   \n",
      "                                                                 \n",
      " dropout_2 (Dropout)         (None, 80, 64)            0         \n",
      "                                                                 \n",
      " bidirectional_4 (Bidirectio  (None, 80, 160)          92800     \n",
      " nal)                                                            \n",
      "                                                                 \n",
      " bidirectional_5 (Bidirectio  (None, 320)              410880    \n",
      " nal)                                                            \n",
      "                                                                 \n",
      " dense_2 (Dense)             (None, 6)                 1926      \n",
      "                                                                 \n",
      "=================================================================\n",
      "Total params: 1,849,606\n",
      "Trainable params: 1,849,606\n",
      "Non-trainable params: 0\n",
      "_________________________________________________________________\n",
      "None\n"
     ]
    }
   ],
   "source": [
    "#Bidirectional LSTM Model creation\n",
    "model=Sequential()\n",
    "model.add(Embedding(21000,64,input_length=80))\n",
    "model.add(Dropout(0.6))\n",
    "model.add(Bidirectional(LSTM(80,return_sequences=True)))\n",
    "model.add(Bidirectional(LSTM(160)))\n",
    "model.add(Dense(6,activation='softmax'))\n",
    "print(model.summary())\n",
    "model.compile(optimizer='adam',loss='categorical_crossentropy',metrics=['accuracy'])"
   ]
  },
  {
   "cell_type": "code",
   "execution_count": 29,
   "metadata": {},
   "outputs": [
    {
     "name": "stdout",
     "output_type": "stream",
     "text": [
      "Epoch 1/10\n",
      "613/613 [==============================] - 816s 1s/step - loss: 0.0804 - accuracy: 0.9684 - val_loss: 0.2795 - val_accuracy: 0.9113\n",
      "Epoch 2/10\n",
      "613/613 [==============================] - 890s 1s/step - loss: 0.0726 - accuracy: 0.9729 - val_loss: 0.2909 - val_accuracy: 0.9096\n",
      "Epoch 3/10\n",
      "613/613 [==============================] - 979s 2s/step - loss: 0.0641 - accuracy: 0.9747 - val_loss: 0.2871 - val_accuracy: 0.9096\n",
      "Epoch 4/10\n",
      "613/613 [==============================] - 938s 2s/step - loss: 0.0580 - accuracy: 0.9768 - val_loss: 0.3015 - val_accuracy: 0.9054\n",
      "Epoch 5/10\n",
      "613/613 [==============================] - 1005s 2s/step - loss: 0.0550 - accuracy: 0.9777 - val_loss: 0.3012 - val_accuracy: 0.9088\n",
      "Epoch 6/10\n",
      "613/613 [==============================] - 863s 1s/step - loss: 0.0518 - accuracy: 0.9785 - val_loss: 0.3082 - val_accuracy: 0.9084\n",
      "Epoch 7/10\n",
      "613/613 [==============================] - 948s 2s/step - loss: 0.0503 - accuracy: 0.9804 - val_loss: 0.3034 - val_accuracy: 0.9101\n",
      "Epoch 8/10\n",
      "613/613 [==============================] - 934s 2s/step - loss: 0.0431 - accuracy: 0.9828 - val_loss: 0.3252 - val_accuracy: 0.9058\n",
      "Epoch 9/10\n",
      "613/613 [==============================] - 878s 1s/step - loss: 0.0441 - accuracy: 0.9827 - val_loss: 0.3764 - val_accuracy: 0.9028\n",
      "Epoch 10/10\n",
      "613/613 [==============================] - 826s 1s/step - loss: 0.0411 - accuracy: 0.9836 - val_loss: 0.3348 - val_accuracy: 0.9084\n"
     ]
    }
   ],
   "source": [
    "hist=model.fit(X_tr,y_tr,epochs=10,validation_data=(X_v,y_v))"
   ]
  },
  {
   "cell_type": "code",
   "execution_count": 30,
   "metadata": {},
   "outputs": [
    {
     "data": {
      "image/png": "[encoded data removed]",
      "text/plain": [
       "<Figure size 432x288 with 1 Axes>"
      ]
     },
     "metadata": {
      "needs_background": "light"
     },
     "output_type": "display_data"
    }
   ],
   "source": [
    "\"\"\"\n",
    "IMPORTANT:\n",
    "Training data has to come from train.txt\n",
    "Validation data has to come from val.txt\n",
    "Test data has to from test.txt\n",
    "\"\"\"\n",
    "import matplotlib.pyplot as plt \n",
    "%matplotlib inline\n",
    "plt.plot(hist.history['accuracy'],c='b',label='train')\n",
    "plt.plot(hist.history['val_accuracy'],c='r',label='validation')\n",
    "plt.legend(loc='lower right')\n",
    "plt.show()"
   ]
  },
  {
   "cell_type": "code",
   "execution_count": 31,
   "metadata": {},
   "outputs": [
    {
     "data": {
      "image/png": "[encoded data removed]",
      "text/plain": [
       "<Figure size 432x288 with 1 Axes>"
      ]
     },
     "metadata": {
      "needs_background": "light"
     },
     "output_type": "display_data"
    }
   ],
   "source": [
    "plt.plot(hist.history['loss'],c='orange',label='train')\n",
    "plt.plot(hist.history['val_loss'],c='g',label='validation')\n",
    "plt.legend(loc='upper right')\n",
    "plt.show()"
   ]
  },
  {
   "cell_type": "code",
   "execution_count": 32,
   "metadata": {},
   "outputs": [],
   "source": [
    "#Let's test the model\n",
    "X_te = tokenizer.texts_to_sequences(X_te)\n",
    "X_te = pad_sequences(X_te, maxlen=maxlen)"
   ]
  },
  {
   "cell_type": "code",
   "execution_count": 33,
   "metadata": {},
   "outputs": [],
   "source": [
    "y_te = to_categorical(y_te)"
   ]
  },
  {
   "cell_type": "code",
   "execution_count": 34,
   "metadata": {},
   "outputs": [
    {
     "data": {
      "text/plain": [
       "(5141, 80)"
      ]
     },
     "execution_count": 34,
     "metadata": {},
     "output_type": "execute_result"
    }
   ],
   "source": [
    "X_te.shape"
   ]
  },
  {
   "cell_type": "code",
   "execution_count": 35,
   "metadata": {},
   "outputs": [
    {
     "name": "stdout",
     "output_type": "stream",
     "text": [
      "161/161 [==============================] - 15s 93ms/step - loss: 0.7586 - accuracy: 0.8228\n"
     ]
    },
    {
     "data": {
      "text/plain": [
       "[0.7586392164230347, 0.8227971196174622]"
      ]
     },
     "execution_count": 35,
     "metadata": {},
     "output_type": "execute_result"
    }
   ],
   "source": [
    "model.evaluate(X_te,y_te)"
   ]
  },
  {
   "cell_type": "code",
   "execution_count": 36,
   "metadata": {},
   "outputs": [
    {
     "name": "stdout",
     "output_type": "stream",
     "text": [
      "161/161 [==============================] - 17s 95ms/step\n"
     ]
    }
   ],
   "source": [
    "y_pred=model.predict(X_te)"
   ]
  },
  {
   "cell_type": "code",
   "execution_count": 37,
   "metadata": {},
   "outputs": [
    {
     "name": "stdout",
     "output_type": "stream",
     "text": [
      "161/161 [==============================] - 19s 117ms/step\n",
      "Confusion Matrix\n",
      "[[1289   27   15   34   39    5]\n",
      " [  54  861    2   62   56    0]\n",
      " [  31    1  126    1    0    0]\n",
      " [  38   70    4 1070   71    0]\n",
      " [ 116   81    5  169  834   14]\n",
      " [   6    1    0    0    9   50]]\n"
     ]
    }
   ],
   "source": [
    "y_test_arg=np.argmax(y_te,axis=1)\n",
    "Y_pred = np.argmax(model.predict(X_te),axis=1)\n",
    "print('Confusion Matrix')\n",
    "print(confusion_matrix(y_test_arg, Y_pred))"
   ]
  },
  {
   "cell_type": "code",
   "execution_count": 38,
   "metadata": {},
   "outputs": [
    {
     "name": "stdout",
     "output_type": "stream",
     "text": [
      "              precision    recall  f1-score   support\n",
      "\n",
      "           0       0.84      0.91      0.88      1409\n",
      "           1       0.83      0.83      0.83      1035\n",
      "           2       0.83      0.79      0.81       159\n",
      "           3       0.80      0.85      0.83      1253\n",
      "           4       0.83      0.68      0.75      1219\n",
      "           5       0.72      0.76      0.74        66\n",
      "\n",
      "    accuracy                           0.82      5141\n",
      "   macro avg       0.81      0.81      0.81      5141\n",
      "weighted avg       0.82      0.82      0.82      5141\n",
      "\n"
     ]
    }
   ],
   "source": [
    "#classification report\n",
    "print(classification_report(y_test_arg, Y_pred))"
   ]
  },
  {
   "cell_type": "code",
   "execution_count": 39,
   "metadata": {},
   "outputs": [],
   "source": [
    "model.save('LSTM_mod3.h5')"
   ]
  },
  {
   "cell_type": "code",
   "execution_count": 40,
   "metadata": {},
   "outputs": [],
   "source": [
    "#Define function for new input\n",
    "#Add textBlob to have all languages included\n",
    "#Prepare parameters\n",
    "n_words = 20000 # cut texts after this \n",
    "maxlen = 80\n",
    "batch_size = 128\n",
    "tokenizer = Tokenizer(num_words=n_words, lower=True)\n",
    "def dico(arg): \n",
    "    val_dict = {'joy':0,\n",
    "                'anger':1,\n",
    "                'love':2,\n",
    "                'sadness':3,\n",
    "                'fear':4,\n",
    "                'surprise':5}\n",
    "    for key, val in val_dict.items():\n",
    "        if val == arg: \n",
    "            return key\n",
    "\n",
    "def predict_new_data(text):\n",
    "\n",
    "    #Handle data that is not english\n",
    "    text = TextBlob(text).correct()\n",
    "    text = str(text)\n",
    "    lang_detect = str(langid.classify(text))[2:4]\n",
    "    print(lang_detect)\n",
    "    if lang_detect != \"en\": \n",
    "        text = TextBlob(text).translate(from_lang = lang_detect, to = \"en\")\n",
    "        print(text)\n",
    "        \n",
    "    text = str(text)\n",
    "    #Prepare data to feed the model\n",
    "    text = clean(text)\n",
    "    sen_list = []\n",
    "    sen_list.append(text) \n",
    "    tokenizer.fit_on_texts(sen_list)\n",
    "    text_seq = tokenizer.texts_to_sequences(sen_list)\n",
    "    text_pad = pad_sequences(text_seq, maxlen=maxlen)\n",
    "    model = load_model('LSTM_mod3.h5')\n",
    "    return dico(np.argmax(model.predict(text_pad)))"
   ]
  },
  {
   "cell_type": "code",
   "execution_count": 42,
   "metadata": {},
   "outputs": [
    {
     "name": "stdout",
     "output_type": "stream",
     "text": [
      "What the human said:  What is this bullshit\n",
      "en\n",
      "1/1 [==============================] - 6s 6s/step\n",
      "Predicted emotion by the AI:  joy\n"
     ]
    }
   ],
   "source": [
    "string = \"What is this bullshit\"\n",
    "print(\"What the human said: \", string)\n",
    "print(\"Predicted emotion by the AI: \", predict_new_data(string))"
   ]
  },
  {
   "cell_type": "code",
   "execution_count": null,
   "metadata": {},
   "outputs": [],
   "source": []
  }
 ],
 "metadata": {
  "interpreter": {
   "hash": "432661d2962cb742e4547be49fd1bd1a3aad3863ddba98d84d2d501011667c5d"
  },
  "kernelspec": {
   "display_name": "Python 3.8.3 ('base')",
   "language": "python",
   "name": "python3"
  },
  "language_info": {
   "codemirror_mode": {
    "name": "ipython",
    "version": 3
   },
   "file_extension": ".py",
   "mimetype": "text/x-python",
   "name": "python",
   "nbconvert_exporter": "python",
   "pygments_lexer": "ipython3",
   "version": "3.8.5"
  },
  "orig_nbformat": 4
 },
 "nbformat": 4,
 "nbformat_minor": 2
}
