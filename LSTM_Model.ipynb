{
 "cells": [
  {
   "cell_type": "code",
   "execution_count": 22,
   "metadata": {},
   "outputs": [
    {
     "name": "stderr",
     "output_type": "stream",
     "text": [
      "[nltk_data] Downloading package omw-1.4 to\n",
      "[nltk_data]     C:\\Users\\Kamen\\AppData\\Roaming\\nltk_data...\n",
      "[nltk_data]   Package omw-1.4 is already up-to-date!\n"
     ]
    }
   ],
   "source": [
    "import numpy as np\n",
    "import pandas as pd\n",
    "import seaborn as sns\n",
    "import re\n",
    "from nltk.corpus import stopwords\n",
    "from nltk.stem import WordNetLemmatizer\n",
    "from sklearn.model_selection import train_test_split\n",
    "import string\n",
    "import pickle\n",
    "import emoji\n",
    "import scipy.stats as ss\n",
    "import sklearn\n",
    "from sklearn.base import TransformerMixin, BaseEstimator\n",
    "from sklearn.ensemble import RandomForestClassifier\n",
    "from sklearn.feature_extraction.text import CountVectorizer\n",
    "from sklearn.metrics import confusion_matrix, accuracy_score, classification_report,plot_confusion_matrix\n",
    "from sklearn.model_selection import cross_val_score, RandomizedSearchCV, GridSearchCV\n",
    "from sklearn.neighbors import KNeighborsClassifier\n",
    "from sklearn.pipeline import Pipeline\n",
    "from sklearn.svm import LinearSVC\n",
    "from sklearn.utils.validation import check_is_fitted\n",
    "from sklearn.feature_extraction.text import TfidfTransformer\n",
    "from sklearn.pipeline import Pipeline\n",
    "from sklearn.model_selection import train_test_split\n",
    "from sklearn.pipeline import make_pipeline\n",
    "from sklearn.model_selection import GridSearchCV\n",
    "from sklearn.naive_bayes import MultinomialNB\n",
    "from sklearn.feature_extraction.text import CountVectorizer\n",
    "from sklearn.metrics import classification_report\n",
    "import nltk\n",
    "nltk.download('omw-1.4')\n",
    "import keras\n",
    "from keras.preprocessing import sequence\n",
    "from keras.preprocessing.text import Tokenizer\n",
    "from keras.models import load_model\n",
    "from keras.utils import to_categorical, pad_sequences\n",
    "from textblob import TextBlob\n",
    "import langid\n",
    "from langdetect import detect\n",
    "\n",
    "%matplotlib inline"
   ]
  },
  {
   "cell_type": "code",
   "execution_count": 2,
   "metadata": {},
   "outputs": [],
   "source": [
    "#Convert emojis to words \n",
    "with open('Emoji_Dict.p', 'rb') as fp:\n",
    "        Emoji_Dict = pickle.load(fp)\n",
    "Emoji_Dict = {v: k for k, v in Emoji_Dict.items()}\n",
    "\n",
    "def convert_emojis_to_word(mess):\n",
    "    for emot in Emoji_Dict:\n",
    "        mess = re.sub(r'('+emot+')', \"_\".join(Emoji_Dict[emot].replace(\",\",\"\").replace(\":\",\"\").split()), mess)\n",
    "    return mess\n",
    "\n",
    "str_punc = string.punctuation.replace(',', '').replace(\"'\",'')\n",
    "\n",
    "def clean(text):\n",
    "    global str_punc\n",
    "    text = convert_emojis_to_word(text)\n",
    "    text = re.sub(r'[^a-zA-Z ]', '', text)\n",
    "    text = text.lower()\n",
    "    return text \n",
    "    \n",
    "#def text_process(mess):\n",
    "    \n",
    "#    #Convert emojis to words\n",
    "#    mess = convert_emojis_to_word(mess)\n",
    "#    mess = mess.lower() # lowercase text\n",
    "#    mess = REPLACE_BY_SPACE_RE.sub('', mess) # replace REPLACE_BY_SPACE_RE symbols by space in text. substitute the matched string in REPLACE_BY_SPACE_RE with space.\n",
    "#    mess = BAD_SYMBOLS_RE.sub('', mess)\n",
    "\n",
    "    # Check characters to see if they are in punctuation\n",
    "#    nopunc = [char for char in mess if char not in string.punctuation]\n",
    "    \n",
    "    # Join the characters again to form the string.\n",
    "#    nopunc = ''.join(nopunc)\n",
    "    \n",
    "    # Now just remove any stopwords\n",
    "#    stop = ' '.join([word for word in nopunc.split() if word.lower() not in stopwords.words('english')])\n",
    "\n",
    "#    return stop"
   ]
  },
  {
   "cell_type": "code",
   "execution_count": 3,
   "metadata": {},
   "outputs": [
    {
     "data": {
      "text/plain": [
       "'hello my name is kamen i hope you have a good day'"
      ]
     },
     "execution_count": 3,
     "metadata": {},
     "output_type": "execute_result"
    }
   ],
   "source": [
    "clean('Hello, my name is Kamen. I hope you have a good day.')"
   ]
  },
  {
   "cell_type": "code",
   "execution_count": 4,
   "metadata": {},
   "outputs": [],
   "source": [
    "#A NEW DAY, NEW OPPORTUNITY\n",
    "df_tr = pd.read_csv('train.txt',sep=';')\n",
    "df_tr.rename({'i didnt feel humiliated':'text','sadness':'label'}, axis = 1, inplace=True)\n",
    "df_v = pd.read_csv('val.txt', sep=';')\n",
    "df_v.rename({'im feeling quite sad and sorry for myself but ill snap out of it soon':'text','sadness':'label'}, axis = 1, inplace=True)\n",
    "df_te = pd.read_csv('test.csv', sep=';')\n",
    "df_te.rename({'im feeling rather rotten so im not very ambitious right now':'text','sadness':'label'}, axis = 1, inplace=True)"
   ]
  },
  {
   "cell_type": "code",
   "execution_count": 5,
   "metadata": {},
   "outputs": [
    {
     "data": {
      "text/html": [
       "<div>\n",
       "<style scoped>\n",
       "    .dataframe tbody tr th:only-of-type {\n",
       "        vertical-align: middle;\n",
       "    }\n",
       "\n",
       "    .dataframe tbody tr th {\n",
       "        vertical-align: top;\n",
       "    }\n",
       "\n",
       "    .dataframe thead th {\n",
       "        text-align: right;\n",
       "    }\n",
       "</style>\n",
       "<table border=\"1\" class=\"dataframe\">\n",
       "  <thead>\n",
       "    <tr style=\"text-align: right;\">\n",
       "      <th></th>\n",
       "      <th>text</th>\n",
       "      <th>label</th>\n",
       "    </tr>\n",
       "  </thead>\n",
       "  <tbody>\n",
       "    <tr>\n",
       "      <th>0</th>\n",
       "      <td>im updating my blog because i feel shitty</td>\n",
       "      <td>sadness</td>\n",
       "    </tr>\n",
       "    <tr>\n",
       "      <th>1</th>\n",
       "      <td>i never make her separate from me because i do...</td>\n",
       "      <td>sadness</td>\n",
       "    </tr>\n",
       "    <tr>\n",
       "      <th>2</th>\n",
       "      <td>i left with my bouquet of red and yellow tulip...</td>\n",
       "      <td>joy</td>\n",
       "    </tr>\n",
       "    <tr>\n",
       "      <th>3</th>\n",
       "      <td>i was feeling a little vain when i did this one</td>\n",
       "      <td>sadness</td>\n",
       "    </tr>\n",
       "    <tr>\n",
       "      <th>4</th>\n",
       "      <td>i cant walk into a shop anywhere where i do no...</td>\n",
       "      <td>fear</td>\n",
       "    </tr>\n",
       "    <tr>\n",
       "      <th>...</th>\n",
       "      <td>...</td>\n",
       "      <td>...</td>\n",
       "    </tr>\n",
       "    <tr>\n",
       "      <th>1994</th>\n",
       "      <td>i just keep feeling like someone is being unki...</td>\n",
       "      <td>anger</td>\n",
       "    </tr>\n",
       "    <tr>\n",
       "      <th>1995</th>\n",
       "      <td>im feeling a little cranky negative after this...</td>\n",
       "      <td>anger</td>\n",
       "    </tr>\n",
       "    <tr>\n",
       "      <th>1996</th>\n",
       "      <td>i feel that i am useful to my people and that ...</td>\n",
       "      <td>joy</td>\n",
       "    </tr>\n",
       "    <tr>\n",
       "      <th>1997</th>\n",
       "      <td>im feeling more comfortable with derby i feel ...</td>\n",
       "      <td>joy</td>\n",
       "    </tr>\n",
       "    <tr>\n",
       "      <th>1998</th>\n",
       "      <td>i feel all weird when i have to meet w people ...</td>\n",
       "      <td>fear</td>\n",
       "    </tr>\n",
       "  </tbody>\n",
       "</table>\n",
       "<p>1999 rows × 2 columns</p>\n",
       "</div>"
      ],
      "text/plain": [
       "                                                   text    label\n",
       "0             im updating my blog because i feel shitty  sadness\n",
       "1     i never make her separate from me because i do...  sadness\n",
       "2     i left with my bouquet of red and yellow tulip...      joy\n",
       "3       i was feeling a little vain when i did this one  sadness\n",
       "4     i cant walk into a shop anywhere where i do no...     fear\n",
       "...                                                 ...      ...\n",
       "1994  i just keep feeling like someone is being unki...    anger\n",
       "1995  im feeling a little cranky negative after this...    anger\n",
       "1996  i feel that i am useful to my people and that ...      joy\n",
       "1997  im feeling more comfortable with derby i feel ...      joy\n",
       "1998  i feel all weird when i have to meet w people ...     fear\n",
       "\n",
       "[1999 rows x 2 columns]"
      ]
     },
     "execution_count": 5,
     "metadata": {},
     "output_type": "execute_result"
    }
   ],
   "source": [
    "df_te"
   ]
  },
  {
   "cell_type": "code",
   "execution_count": 6,
   "metadata": {},
   "outputs": [
    {
     "name": "stdout",
     "output_type": "stream",
     "text": [
      "Training data length:  15999\n",
      "Validation data length:  1999\n",
      "Testing data length:  1999\n"
     ]
    }
   ],
   "source": [
    "print('Training data length: ', len(df_tr))\n",
    "print('Validation data length: ', len(df_v))\n",
    "print('Testing data length: ', len(df_te))"
   ]
  },
  {
   "cell_type": "code",
   "execution_count": 3,
   "metadata": {},
   "outputs": [],
   "source": [
    "#LSTM\n",
    "from keras.utils.data_utils import pad_sequences\n",
    "from keras.utils import np_utils\n",
    "from keras.models import Sequential\n",
    "from keras.layers import Dense, LSTM, Dropout, Embedding, Bidirectional"
   ]
  },
  {
   "cell_type": "code",
   "execution_count": 8,
   "metadata": {},
   "outputs": [
    {
     "name": "stdout",
     "output_type": "stream",
     "text": [
      "Processing text data\n",
      "Encoding y values\n",
      "\n",
      "\n",
      "Processing text data\n",
      "Encoding y values\n",
      "\n",
      "\n",
      "Processing text data\n",
      "Encoding y values\n",
      "\n",
      "\n"
     ]
    }
   ],
   "source": [
    "dfs = [df_tr, df_v, df_te]\n",
    "for df in dfs:\n",
    "    print('Processing text data')\n",
    "    df['to_check'] = df['text'].apply(clean)\n",
    "    print('Encoding y values')\n",
    "    df['label']=df['label'].replace({'joy':0,'anger':1,'love':2,'sadness':3,'fear':4,'surprise':5})\n",
    "    print('\\n')"
   ]
  },
  {
   "cell_type": "code",
   "execution_count": 9,
   "metadata": {},
   "outputs": [
    {
     "data": {
      "text/html": [
       "<div>\n",
       "<style scoped>\n",
       "    .dataframe tbody tr th:only-of-type {\n",
       "        vertical-align: middle;\n",
       "    }\n",
       "\n",
       "    .dataframe tbody tr th {\n",
       "        vertical-align: top;\n",
       "    }\n",
       "\n",
       "    .dataframe thead th {\n",
       "        text-align: right;\n",
       "    }\n",
       "</style>\n",
       "<table border=\"1\" class=\"dataframe\">\n",
       "  <thead>\n",
       "    <tr style=\"text-align: right;\">\n",
       "      <th></th>\n",
       "      <th>text</th>\n",
       "      <th>label</th>\n",
       "      <th>to_check</th>\n",
       "    </tr>\n",
       "  </thead>\n",
       "  <tbody>\n",
       "    <tr>\n",
       "      <th>0</th>\n",
       "      <td>im updating my blog because i feel shitty</td>\n",
       "      <td>3</td>\n",
       "      <td>im updating my blog because i feel shitty</td>\n",
       "    </tr>\n",
       "    <tr>\n",
       "      <th>1</th>\n",
       "      <td>i never make her separate from me because i do...</td>\n",
       "      <td>3</td>\n",
       "      <td>i never make her separate from me because i do...</td>\n",
       "    </tr>\n",
       "    <tr>\n",
       "      <th>2</th>\n",
       "      <td>i left with my bouquet of red and yellow tulip...</td>\n",
       "      <td>0</td>\n",
       "      <td>i left with my bouquet of red and yellow tulip...</td>\n",
       "    </tr>\n",
       "    <tr>\n",
       "      <th>3</th>\n",
       "      <td>i was feeling a little vain when i did this one</td>\n",
       "      <td>3</td>\n",
       "      <td>i was feeling a little vain when i did this one</td>\n",
       "    </tr>\n",
       "    <tr>\n",
       "      <th>4</th>\n",
       "      <td>i cant walk into a shop anywhere where i do no...</td>\n",
       "      <td>4</td>\n",
       "      <td>i cant walk into a shop anywhere where i do no...</td>\n",
       "    </tr>\n",
       "  </tbody>\n",
       "</table>\n",
       "</div>"
      ],
      "text/plain": [
       "                                                text  label  \\\n",
       "0          im updating my blog because i feel shitty      3   \n",
       "1  i never make her separate from me because i do...      3   \n",
       "2  i left with my bouquet of red and yellow tulip...      0   \n",
       "3    i was feeling a little vain when i did this one      3   \n",
       "4  i cant walk into a shop anywhere where i do no...      4   \n",
       "\n",
       "                                            to_check  \n",
       "0          im updating my blog because i feel shitty  \n",
       "1  i never make her separate from me because i do...  \n",
       "2  i left with my bouquet of red and yellow tulip...  \n",
       "3    i was feeling a little vain when i did this one  \n",
       "4  i cant walk into a shop anywhere where i do no...  "
      ]
     },
     "execution_count": 9,
     "metadata": {},
     "output_type": "execute_result"
    }
   ],
   "source": [
    "df_te.head()"
   ]
  },
  {
   "cell_type": "code",
   "execution_count": 10,
   "metadata": {},
   "outputs": [
    {
     "name": "stdout",
     "output_type": "stream",
     "text": [
      "Training data shape:  (15999,) (15999,)\n",
      "Validation data shape:  (1999,) (1999,)\n",
      "test data shape:  (1999,) (1999,)\n"
     ]
    }
   ],
   "source": [
    "X_tr = df_tr['to_check'].values\n",
    "y_tr = df_tr['label'].values\n",
    "X_v = df_v['to_check'].values\n",
    "y_v = df_v['label'].values\n",
    "X_te = df_te['to_check'].values\n",
    "y_te = df_te['label'].values\n",
    "#X_train, X_test, y_train, y_test = train_test_split(X,y, test_size = 0.1, random_state = 42)\n",
    "print('Training data shape: ',X_tr.shape,y_tr.shape)\n",
    "print('Validation data shape: ',X_v.shape,y_v.shape)\n",
    "print('test data shape: ',X_te.shape,y_te.shape)"
   ]
  },
  {
   "cell_type": "code",
   "execution_count": 11,
   "metadata": {},
   "outputs": [],
   "source": [
    "#Prepare parameters\n",
    "n_words = 20000 # cut texts after this \n",
    "maxlen = 80\n",
    "batch_size = 128 "
   ]
  },
  {
   "cell_type": "code",
   "execution_count": 12,
   "metadata": {},
   "outputs": [
    {
     "name": "stdout",
     "output_type": "stream",
     "text": [
      "Found 15212 unique tokens.\n"
     ]
    }
   ],
   "source": [
    "tokenizer = Tokenizer(num_words=n_words, lower=True)\n",
    "tokenizer.fit_on_texts(X_tr)\n",
    "word_index = tokenizer.word_index\n",
    "print('Found %s unique tokens.' % len(word_index))"
   ]
  },
  {
   "cell_type": "code",
   "execution_count": 13,
   "metadata": {},
   "outputs": [
    {
     "name": "stdout",
     "output_type": "stream",
     "text": [
      "Shape of data tensor: (15999, 80)\n"
     ]
    }
   ],
   "source": [
    "X_tr = tokenizer.texts_to_sequences(X_tr)\n",
    "X_tr = pad_sequences(X_tr, maxlen=maxlen)\n",
    "print('Shape of data tensor:', X_tr.shape)"
   ]
  },
  {
   "cell_type": "code",
   "execution_count": 14,
   "metadata": {},
   "outputs": [
    {
     "data": {
      "text/plain": [
       "array([[0., 0., 0., 1., 0., 0.],\n",
       "       [0., 1., 0., 0., 0., 0.],\n",
       "       [0., 0., 1., 0., 0., 0.],\n",
       "       ...,\n",
       "       [1., 0., 0., 0., 0., 0.],\n",
       "       [0., 1., 0., 0., 0., 0.],\n",
       "       [0., 0., 0., 1., 0., 0.]], dtype=float32)"
      ]
     },
     "execution_count": 14,
     "metadata": {},
     "output_type": "execute_result"
    }
   ],
   "source": [
    "#One Hot Encoding Training data\n",
    "y_tr=to_categorical(y_tr)\n",
    "y_tr"
   ]
  },
  {
   "cell_type": "code",
   "execution_count": 15,
   "metadata": {},
   "outputs": [],
   "source": [
    "#X_test\n",
    "X_v = tokenizer.texts_to_sequences(X_v)\n",
    "X_v = pad_sequences(X_v, maxlen=maxlen)"
   ]
  },
  {
   "cell_type": "code",
   "execution_count": 16,
   "metadata": {},
   "outputs": [],
   "source": [
    "#One Hot Encode validation data\n",
    "y_v = to_categorical(y_v)"
   ]
  },
  {
   "cell_type": "code",
   "execution_count": 19,
   "metadata": {},
   "outputs": [
    {
     "name": "stdout",
     "output_type": "stream",
     "text": [
      "Model: \"sequential_1\"\n",
      "_________________________________________________________________\n",
      " Layer (type)                Output Shape              Param #   \n",
      "=================================================================\n",
      " embedding_1 (Embedding)     (None, 80, 64)            1023936   \n",
      "                                                                 \n",
      " dropout_1 (Dropout)         (None, 80, 64)            0         \n",
      "                                                                 \n",
      " bidirectional_2 (Bidirectio  (None, 80, 160)          92800     \n",
      " nal)                                                            \n",
      "                                                                 \n",
      " bidirectional_3 (Bidirectio  (None, 320)              410880    \n",
      " nal)                                                            \n",
      "                                                                 \n",
      " dense_1 (Dense)             (None, 6)                 1926      \n",
      "                                                                 \n",
      "=================================================================\n",
      "Total params: 1,529,542\n",
      "Trainable params: 1,529,542\n",
      "Non-trainable params: 0\n",
      "_________________________________________________________________\n",
      "None\n"
     ]
    }
   ],
   "source": [
    "#Bidirectional LSTM Model creation\n",
    "model=Sequential()\n",
    "model.add(Embedding(15999,64,input_length=80))\n",
    "model.add(Dropout(0.6))\n",
    "model.add(Bidirectional(LSTM(80,return_sequences=True)))\n",
    "model.add(Bidirectional(LSTM(160)))\n",
    "model.add(Dense(6,activation='softmax'))\n",
    "print(model.summary())\n",
    "model.compile(optimizer='adam',loss='categorical_crossentropy',metrics=['accuracy'])"
   ]
  },
  {
   "cell_type": "code",
   "execution_count": 20,
   "metadata": {},
   "outputs": [
    {
     "name": "stdout",
     "output_type": "stream",
     "text": [
      "Epoch 1/10\n",
      "500/500 [==============================] - 681s 1s/step - loss: 1.2609 - accuracy: 0.5130 - val_loss: 0.6959 - val_accuracy: 0.7484\n",
      "Epoch 2/10\n",
      "500/500 [==============================] - 618s 1s/step - loss: 0.5438 - accuracy: 0.8074 - val_loss: 0.3256 - val_accuracy: 0.8944\n",
      "Epoch 3/10\n",
      "500/500 [==============================] - 616s 1s/step - loss: 0.2889 - accuracy: 0.9016 - val_loss: 0.2525 - val_accuracy: 0.9130\n",
      "Epoch 4/10\n",
      "500/500 [==============================] - 629s 1s/step - loss: 0.1957 - accuracy: 0.9314 - val_loss: 0.1916 - val_accuracy: 0.9235\n",
      "Epoch 5/10\n",
      "500/500 [==============================] - 627s 1s/step - loss: 0.1546 - accuracy: 0.9451 - val_loss: 0.1861 - val_accuracy: 0.9240\n",
      "Epoch 6/10\n",
      "500/500 [==============================] - 646s 1s/step - loss: 0.1280 - accuracy: 0.9519 - val_loss: 0.1836 - val_accuracy: 0.9285\n",
      "Epoch 7/10\n",
      "500/500 [==============================] - 620s 1s/step - loss: 0.1164 - accuracy: 0.9559 - val_loss: 0.1734 - val_accuracy: 0.9305\n",
      "Epoch 8/10\n",
      "500/500 [==============================] - 640s 1s/step - loss: 0.0928 - accuracy: 0.9639 - val_loss: 0.1933 - val_accuracy: 0.9330\n",
      "Epoch 9/10\n",
      "500/500 [==============================] - 671s 1s/step - loss: 0.0845 - accuracy: 0.9682 - val_loss: 0.1624 - val_accuracy: 0.9340\n",
      "Epoch 10/10\n",
      "500/500 [==============================] - 664s 1s/step - loss: 0.0734 - accuracy: 0.9723 - val_loss: 0.1709 - val_accuracy: 0.9335\n"
     ]
    }
   ],
   "source": [
    "hist=model.fit(X_tr,y_tr,epochs=10,validation_data=(X_v,y_v))"
   ]
  },
  {
   "cell_type": "code",
   "execution_count": 21,
   "metadata": {},
   "outputs": [
    {
     "data": {
      "image/png": "[encoded data removed]",
      "text/plain": [
       "<Figure size 432x288 with 1 Axes>"
      ]
     },
     "metadata": {
      "needs_background": "light"
     },
     "output_type": "display_data"
    }
   ],
   "source": [
    "\"\"\"\n",
    "IMPORTANT:\n",
    "Training data has to come from train.txt\n",
    "Validation data has to come from val.txt\n",
    "Test data has to from test.txt\n",
    "\"\"\"\n",
    "import matplotlib.pyplot as plt \n",
    "%matplotlib inline\n",
    "plt.plot(hist.history['accuracy'],c='b',label='train')\n",
    "plt.plot(hist.history['val_accuracy'],c='r',label='validation')\n",
    "plt.legend(loc='lower right')\n",
    "plt.show()"
   ]
  },
  {
   "cell_type": "code",
   "execution_count": 22,
   "metadata": {},
   "outputs": [
    {
     "data": {
      "image/png": "[encoded data removed]",
      "text/plain": [
       "<Figure size 432x288 with 1 Axes>"
      ]
     },
     "metadata": {
      "needs_background": "light"
     },
     "output_type": "display_data"
    }
   ],
   "source": [
    "plt.plot(hist.history['loss'],c='orange',label='train')\n",
    "plt.plot(hist.history['val_loss'],c='g',label='validation')\n",
    "plt.legend(loc='upper right')\n",
    "plt.show()"
   ]
  },
  {
   "cell_type": "code",
   "execution_count": 23,
   "metadata": {},
   "outputs": [],
   "source": [
    "#Let's test the model\n",
    "X_te = tokenizer.texts_to_sequences(X_te)\n",
    "X_te = pad_sequences(X_te, maxlen=maxlen)"
   ]
  },
  {
   "cell_type": "code",
   "execution_count": 24,
   "metadata": {},
   "outputs": [],
   "source": [
    "y_te = to_categorical(y_te)"
   ]
  },
  {
   "cell_type": "code",
   "execution_count": 25,
   "metadata": {},
   "outputs": [
    {
     "data": {
      "text/plain": [
       "(1999, 80)"
      ]
     },
     "execution_count": 25,
     "metadata": {},
     "output_type": "execute_result"
    }
   ],
   "source": [
    "X_te.shape"
   ]
  },
  {
   "cell_type": "code",
   "execution_count": 26,
   "metadata": {},
   "outputs": [
    {
     "name": "stdout",
     "output_type": "stream",
     "text": [
      "63/63 [==============================] - 6s 90ms/step - loss: 0.1756 - accuracy: 0.9300\n"
     ]
    },
    {
     "data": {
      "text/plain": [
       "[0.17562060058116913, 0.9299649596214294]"
      ]
     },
     "execution_count": 26,
     "metadata": {},
     "output_type": "execute_result"
    }
   ],
   "source": [
    "model.evaluate(X_te,y_te)"
   ]
  },
  {
   "cell_type": "code",
   "execution_count": 27,
   "metadata": {},
   "outputs": [
    {
     "name": "stdout",
     "output_type": "stream",
     "text": [
      "63/63 [==============================] - 8s 97ms/step\n"
     ]
    }
   ],
   "source": [
    "y_pred=model.predict(X_te)"
   ]
  },
  {
   "cell_type": "code",
   "execution_count": 28,
   "metadata": {},
   "outputs": [
    {
     "data": {
      "text/plain": [
       "array([1.3325469e-05, 1.3220779e-04, 5.6969202e-06, 9.9983454e-01,\n",
       "       9.4822481e-06, 4.7011895e-06], dtype=float32)"
      ]
     },
     "execution_count": 28,
     "metadata": {},
     "output_type": "execute_result"
    }
   ],
   "source": [
    "y_pred[1]"
   ]
  },
  {
   "cell_type": "code",
   "execution_count": 29,
   "metadata": {},
   "outputs": [
    {
     "name": "stdout",
     "output_type": "stream",
     "text": [
      "63/63 [==============================] - 5s 86ms/step\n",
      "Confusion Matrix\n",
      "[[654   3  31   2   0   5]\n",
      " [  6 255   0   9   5   0]\n",
      " [ 22   0 137   0   0   0]\n",
      " [  1   8   0 563   8   0]\n",
      " [  0   8   0   5 202   9]\n",
      " [  2   1   0   2  13  48]]\n"
     ]
    }
   ],
   "source": [
    "y_test_arg=np.argmax(y_te,axis=1)\n",
    "Y_pred = np.argmax(model.predict(X_te),axis=1)\n",
    "print('Confusion Matrix')\n",
    "print(confusion_matrix(y_test_arg, Y_pred))"
   ]
  },
  {
   "cell_type": "code",
   "execution_count": 30,
   "metadata": {},
   "outputs": [
    {
     "name": "stdout",
     "output_type": "stream",
     "text": [
      "              precision    recall  f1-score   support\n",
      "\n",
      "           0       0.95      0.94      0.95       695\n",
      "           1       0.93      0.93      0.93       275\n",
      "           2       0.82      0.86      0.84       159\n",
      "           3       0.97      0.97      0.97       580\n",
      "           4       0.89      0.90      0.89       224\n",
      "           5       0.77      0.73      0.75        66\n",
      "\n",
      "    accuracy                           0.93      1999\n",
      "   macro avg       0.89      0.89      0.89      1999\n",
      "weighted avg       0.93      0.93      0.93      1999\n",
      "\n"
     ]
    }
   ],
   "source": [
    "#classification report\n",
    "print(classification_report(y_test_arg, Y_pred))"
   ]
  },
  {
   "cell_type": "code",
   "execution_count": 31,
   "metadata": {},
   "outputs": [],
   "source": [
    "model.save('LSTM_mod2.h5')"
   ]
  },
  {
   "cell_type": "code",
   "execution_count": 45,
   "metadata": {},
   "outputs": [],
   "source": [
    "#Define function for new input\n",
    "#Add textBlob to have all languages included\n",
    "#Prepare parameters\n",
    "n_words = 20000 # cut texts after this \n",
    "maxlen = 80\n",
    "batch_size = 128\n",
    "tokenizer = Tokenizer(num_words=n_words, lower=True)\n",
    "def dico(arg): \n",
    "    val_dict = {'joy':0,\n",
    "                'anger':1,\n",
    "                'love':2,\n",
    "                'sadness':3,\n",
    "                'fear':4,\n",
    "                'surprise':5}\n",
    "    for key, val in val_dict.items():\n",
    "        if val == arg: \n",
    "            return key\n",
    "\n",
    "def predict_new_data(text):\n",
    "\n",
    "    #Handle data that is not english\n",
    "    text = TextBlob(text).correct()\n",
    "    text = str(text)\n",
    "    lang_detect = str(langid.classify(text))[2:4]\n",
    "    print(lang_detect)\n",
    "    if lang_detect != \"en\": \n",
    "        text = TextBlob(text).translate(from_lang = lang_detect, to = \"en\")\n",
    "        print(text)\n",
    "        \n",
    "    text = str(text)\n",
    "    #Prepare data to feed the model\n",
    "    text = clean(text)\n",
    "    sen_list = []\n",
    "    sen_list.append(text) \n",
    "    tokenizer.fit_on_texts(sen_list)\n",
    "    text_seq = tokenizer.texts_to_sequences(sen_list)\n",
    "    text_pad = pad_sequences(text_seq, maxlen=maxlen)\n",
    "    model = load_model('LSTM_mod2.h5')\n",
    "    return dico(np.argmax(model.predict(text_pad)))"
   ]
  },
  {
   "cell_type": "code",
   "execution_count": 47,
   "metadata": {},
   "outputs": [
    {
     "name": "stdout",
     "output_type": "stream",
     "text": [
      "What the human said:  i don't know what to do\n",
      "en\n",
      "1/1 [==============================] - 2s 2s/step\n",
      "Predicted emotion by the AI:  surprise\n"
     ]
    }
   ],
   "source": [
    "string = \"i don't know what to do\"\n",
    "print(\"What the human said: \", string)\n",
    "print(\"Predicted emotion by the AI: \", predict_new_data(string))"
   ]
  },
  {
   "cell_type": "code",
   "execution_count": null,
   "metadata": {},
   "outputs": [],
   "source": []
  }
 ],
 "metadata": {
  "interpreter": {
   "hash": "432661d2962cb742e4547be49fd1bd1a3aad3863ddba98d84d2d501011667c5d"
  },
  "kernelspec": {
   "display_name": "Python 3.8.3 ('base')",
   "language": "python",
   "name": "python3"
  },
  "language_info": {
   "codemirror_mode": {
    "name": "ipython",
    "version": 3
   },
   "file_extension": ".py",
   "mimetype": "text/x-python",
   "name": "python",
   "nbconvert_exporter": "python",
   "pygments_lexer": "ipython3",
   "version": "3.8.5"
  },
  "orig_nbformat": 4
 },
 "nbformat": 4,
 "nbformat_minor": 2
}
