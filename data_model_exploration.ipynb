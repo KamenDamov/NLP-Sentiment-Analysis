{
 "cells": [
  {
   "cell_type": "code",
   "execution_count": 1,
   "metadata": {},
   "outputs": [],
   "source": [
    "import numpy as np\n",
    "import pandas as pd\n",
    "import seaborn as sns\n",
    "import re\n",
    "from nltk.corpus import stopwords\n",
    "from nltk.stem import WordNetLemmatizer\n",
    "from sklearn.model_selection import train_test_split\n",
    "import string\n",
    "import pickle\n",
    "import emoji\n",
    "import scipy.stats as ss\n",
    "import sklearn\n",
    "from sklearn.base import TransformerMixin, BaseEstimator\n",
    "from sklearn.ensemble import RandomForestClassifier\n",
    "from sklearn.feature_extraction.text import CountVectorizer\n",
    "from sklearn.metrics import confusion_matrix, accuracy_score, classification_report\n",
    "from sklearn.model_selection import cross_val_score, RandomizedSearchCV, GridSearchCV\n",
    "from sklearn.neighbors import KNeighborsClassifier\n",
    "from sklearn.pipeline import Pipeline\n",
    "from sklearn.svm import LinearSVC\n",
    "from sklearn.utils.validation import check_is_fitted\n",
    "\n",
    "%matplotlib inline"
   ]
  },
  {
   "cell_type": "code",
   "execution_count": 2,
   "metadata": {},
   "outputs": [],
   "source": [
    "df1 = pd.read_csv('emotion-labels-test.csv')\n",
    "df2 = pd.read_csv('emotion-labels-train.csv')\n",
    "df = pd.DataFrame(pd.concat([df1,df2]))"
   ]
  },
  {
   "cell_type": "code",
   "execution_count": 3,
   "metadata": {},
   "outputs": [
    {
     "data": {
      "text/html": [
       "<div>\n",
       "<style scoped>\n",
       "    .dataframe tbody tr th:only-of-type {\n",
       "        vertical-align: middle;\n",
       "    }\n",
       "\n",
       "    .dataframe tbody tr th {\n",
       "        vertical-align: top;\n",
       "    }\n",
       "\n",
       "    .dataframe thead th {\n",
       "        text-align: right;\n",
       "    }\n",
       "</style>\n",
       "<table border=\"1\" class=\"dataframe\">\n",
       "  <thead>\n",
       "    <tr style=\"text-align: right;\">\n",
       "      <th></th>\n",
       "      <th>text</th>\n",
       "      <th>label</th>\n",
       "    </tr>\n",
       "  </thead>\n",
       "  <tbody>\n",
       "    <tr>\n",
       "      <th>0</th>\n",
       "      <td>You must be knowing #blithe means (adj.)  Happ...</td>\n",
       "      <td>joy</td>\n",
       "    </tr>\n",
       "    <tr>\n",
       "      <th>1</th>\n",
       "      <td>Old saying 'A #smile shared is one gained for ...</td>\n",
       "      <td>joy</td>\n",
       "    </tr>\n",
       "    <tr>\n",
       "      <th>2</th>\n",
       "      <td>Bridget Jones' Baby was bloody hilarious 😅 #Br...</td>\n",
       "      <td>joy</td>\n",
       "    </tr>\n",
       "    <tr>\n",
       "      <th>3</th>\n",
       "      <td>@Elaminova sparkling water makes your life spa...</td>\n",
       "      <td>joy</td>\n",
       "    </tr>\n",
       "    <tr>\n",
       "      <th>4</th>\n",
       "      <td>I'm tired of everybody telling me to chill out...</td>\n",
       "      <td>joy</td>\n",
       "    </tr>\n",
       "    <tr>\n",
       "      <th>...</th>\n",
       "      <td>...</td>\n",
       "      <td>...</td>\n",
       "    </tr>\n",
       "    <tr>\n",
       "      <th>3608</th>\n",
       "      <td>@VivienLloyd Thank you so much! Just home - st...</td>\n",
       "      <td>sadness</td>\n",
       "    </tr>\n",
       "    <tr>\n",
       "      <th>3609</th>\n",
       "      <td>Just put the winter duvet on ☃️❄️🌬☔️</td>\n",
       "      <td>sadness</td>\n",
       "    </tr>\n",
       "    <tr>\n",
       "      <th>3610</th>\n",
       "      <td>@SilkInSide @TommyJoeRatliff that's so pretty!...</td>\n",
       "      <td>sadness</td>\n",
       "    </tr>\n",
       "    <tr>\n",
       "      <th>3611</th>\n",
       "      <td>@BluesfestByron second artist announcement loo...</td>\n",
       "      <td>sadness</td>\n",
       "    </tr>\n",
       "    <tr>\n",
       "      <th>3612</th>\n",
       "      <td>I can literally eat creamy pesto pasta topped ...</td>\n",
       "      <td>sadness</td>\n",
       "    </tr>\n",
       "  </tbody>\n",
       "</table>\n",
       "<p>6755 rows × 2 columns</p>\n",
       "</div>"
      ],
      "text/plain": [
       "                                                   text    label\n",
       "0     You must be knowing #blithe means (adj.)  Happ...      joy\n",
       "1     Old saying 'A #smile shared is one gained for ...      joy\n",
       "2     Bridget Jones' Baby was bloody hilarious 😅 #Br...      joy\n",
       "3     @Elaminova sparkling water makes your life spa...      joy\n",
       "4     I'm tired of everybody telling me to chill out...      joy\n",
       "...                                                 ...      ...\n",
       "3608  @VivienLloyd Thank you so much! Just home - st...  sadness\n",
       "3609              Just put the winter duvet on ☃️❄️🌬☔️   sadness\n",
       "3610  @SilkInSide @TommyJoeRatliff that's so pretty!...  sadness\n",
       "3611  @BluesfestByron second artist announcement loo...  sadness\n",
       "3612  I can literally eat creamy pesto pasta topped ...  sadness\n",
       "\n",
       "[6755 rows x 2 columns]"
      ]
     },
     "execution_count": 3,
     "metadata": {},
     "output_type": "execute_result"
    }
   ],
   "source": [
    "df"
   ]
  },
  {
   "cell_type": "code",
   "execution_count": 4,
   "metadata": {},
   "outputs": [
    {
     "data": {
      "text/plain": [
       "<matplotlib.axes._subplots.AxesSubplot at 0x11294499610>"
      ]
     },
     "execution_count": 4,
     "metadata": {},
     "output_type": "execute_result"
    },
    {
     "data": {
      "image/png": "[encoded data removed]",
      "text/plain": [
       "<Figure size 432x288 with 1 Axes>"
      ]
     },
     "metadata": {
      "needs_background": "light"
     },
     "output_type": "display_data"
    }
   ],
   "source": [
    "sns.countplot(data=df, x='label')"
   ]
  },
  {
   "cell_type": "code",
   "execution_count": 5,
   "metadata": {},
   "outputs": [],
   "source": [
    "#Let's see if the length of the message affects the label \n",
    "df['text_len'] = df['text'].apply(lambda x: len(x))\n",
    "df_bylabel = df.groupby('label').sum()"
   ]
  },
  {
   "cell_type": "code",
   "execution_count": 6,
   "metadata": {},
   "outputs": [
    {
     "data": {
      "text/plain": [
       "<matplotlib.axes._subplots.AxesSubplot at 0x112aa8d8ac0>"
      ]
     },
     "execution_count": 6,
     "metadata": {},
     "output_type": "execute_result"
    },
    {
     "data": {
      "image/png": "[encoded data removed]",
      "text/plain": [
       "<Figure size 432x288 with 1 Axes>"
      ]
     },
     "metadata": {
      "needs_background": "light"
     },
     "output_type": "display_data"
    }
   ],
   "source": [
    "df_bylabel.plot.bar()\n",
    "#We see the same distribution per category"
   ]
  },
  {
   "cell_type": "code",
   "execution_count": 8,
   "metadata": {},
   "outputs": [],
   "source": [
    "df = df.applymap(str)"
   ]
  },
  {
   "cell_type": "code",
   "execution_count": 9,
   "metadata": {},
   "outputs": [],
   "source": [
    "lemmatizer = WordNetLemmatizer()\n",
    "\n",
    "#Convert emojis to words \n",
    "with open('Emoji_Dict.p', 'rb') as fp:\n",
    "        Emoji_Dict = pickle.load(fp)\n",
    "Emoji_Dict = {v: k for k, v in Emoji_Dict.items()}\n",
    "\n",
    "def convert_emojis_to_word(mess):\n",
    "    for emot in Emoji_Dict:\n",
    "        mess = re.sub(r'('+emot+')', \"_\".join(Emoji_Dict[emot].replace(\",\",\"\").replace(\":\",\"\").split()), mess)\n",
    "    return mess\n",
    "\n",
    "def text_process(mess):\n",
    "    #Convert emojis to words\n",
    "    mess = convert_emojis_to_word(mess)\n",
    "\n",
    "    # Check characters to see if they are in punctuation\n",
    "    nopunc = [char for char in mess if char not in string.punctuation]\n",
    "    \n",
    "    # Join the characters again to form the string.\n",
    "    nopunc = ''.join(nopunc)\n",
    "    \n",
    "    # Now just remove any stopwords\n",
    "    stop = [word for word in nopunc.split() if word.lower() not in stopwords.words('english')]\n",
    "    \n",
    "    #Lemmatize\n",
    "    lemma = []\n",
    "    for lem in stop: \n",
    "        lemma.append(lemmatizer.lemmatize(lem, pos =\"v\"))\n",
    "\n",
    "    return lemma"
   ]
  },
  {
   "cell_type": "code",
   "execution_count": 10,
   "metadata": {},
   "outputs": [],
   "source": [
    "#Now let's tokenize the data\n",
    "#df['text'] = df['text'].apply(text_process)"
   ]
  },
  {
   "cell_type": "code",
   "execution_count": 11,
   "metadata": {},
   "outputs": [
    {
     "data": {
      "text/html": [
       "<div>\n",
       "<style scoped>\n",
       "    .dataframe tbody tr th:only-of-type {\n",
       "        vertical-align: middle;\n",
       "    }\n",
       "\n",
       "    .dataframe tbody tr th {\n",
       "        vertical-align: top;\n",
       "    }\n",
       "\n",
       "    .dataframe thead th {\n",
       "        text-align: right;\n",
       "    }\n",
       "</style>\n",
       "<table border=\"1\" class=\"dataframe\">\n",
       "  <thead>\n",
       "    <tr style=\"text-align: right;\">\n",
       "      <th></th>\n",
       "      <th>text</th>\n",
       "      <th>label</th>\n",
       "      <th>text_len</th>\n",
       "    </tr>\n",
       "  </thead>\n",
       "  <tbody>\n",
       "    <tr>\n",
       "      <th>0</th>\n",
       "      <td>You must be knowing #blithe means (adj.)  Happ...</td>\n",
       "      <td>joy</td>\n",
       "      <td>58</td>\n",
       "    </tr>\n",
       "    <tr>\n",
       "      <th>1</th>\n",
       "      <td>Old saying 'A #smile shared is one gained for ...</td>\n",
       "      <td>joy</td>\n",
       "      <td>82</td>\n",
       "    </tr>\n",
       "    <tr>\n",
       "      <th>2</th>\n",
       "      <td>Bridget Jones' Baby was bloody hilarious 😅 #Br...</td>\n",
       "      <td>joy</td>\n",
       "      <td>60</td>\n",
       "    </tr>\n",
       "    <tr>\n",
       "      <th>3</th>\n",
       "      <td>@Elaminova sparkling water makes your life spa...</td>\n",
       "      <td>joy</td>\n",
       "      <td>50</td>\n",
       "    </tr>\n",
       "    <tr>\n",
       "      <th>4</th>\n",
       "      <td>I'm tired of everybody telling me to chill out...</td>\n",
       "      <td>joy</td>\n",
       "      <td>125</td>\n",
       "    </tr>\n",
       "  </tbody>\n",
       "</table>\n",
       "</div>"
      ],
      "text/plain": [
       "                                                text label text_len\n",
       "0  You must be knowing #blithe means (adj.)  Happ...   joy       58\n",
       "1  Old saying 'A #smile shared is one gained for ...   joy       82\n",
       "2  Bridget Jones' Baby was bloody hilarious 😅 #Br...   joy       60\n",
       "3  @Elaminova sparkling water makes your life spa...   joy       50\n",
       "4  I'm tired of everybody telling me to chill out...   joy      125"
      ]
     },
     "execution_count": 11,
     "metadata": {},
     "output_type": "execute_result"
    }
   ],
   "source": [
    "df.head()"
   ]
  },
  {
   "cell_type": "code",
   "execution_count": 12,
   "metadata": {},
   "outputs": [],
   "source": [
    "#Time to create the Count Vectorizer\n",
    "from sklearn.feature_extraction.text import CountVectorizer"
   ]
  },
  {
   "cell_type": "code",
   "execution_count": 13,
   "metadata": {},
   "outputs": [],
   "source": [
    "bow_transformer = CountVectorizer(analyzer=text_process).fit(df['text'])"
   ]
  },
  {
   "cell_type": "code",
   "execution_count": 14,
   "metadata": {},
   "outputs": [],
   "source": [
    "text_bow = bow_transformer.transform(df['text'])"
   ]
  },
  {
   "cell_type": "code",
   "execution_count": 15,
   "metadata": {},
   "outputs": [
    {
     "name": "stdout",
     "output_type": "stream",
     "text": [
      "Shape of Sparse Matrix:  (6755, 16522)\n",
      "Amount of Non-Zero occurences:  63481\n"
     ]
    }
   ],
   "source": [
    "print('Shape of Sparse Matrix: ', text_bow.shape)\n",
    "print('Amount of Non-Zero occurences: ', text_bow.nnz)"
   ]
  },
  {
   "cell_type": "code",
   "execution_count": 16,
   "metadata": {},
   "outputs": [
    {
     "name": "stdout",
     "output_type": "stream",
     "text": [
      "sparsity: 0\n"
     ]
    }
   ],
   "source": [
    "sparsity = (100.0 * text_bow.nnz / (text_bow.shape[0] * text_bow.shape[1]))\n",
    "print('sparsity: {}'.format(round(sparsity)))"
   ]
  },
  {
   "cell_type": "code",
   "execution_count": 17,
   "metadata": {},
   "outputs": [
    {
     "name": "stdout",
     "output_type": "stream",
     "text": [
      "(6755, 16522)\n"
     ]
    }
   ],
   "source": [
    "from sklearn.feature_extraction.text import TfidfTransformer\n",
    "\n",
    "tfidf_transformer = TfidfTransformer().fit(text_bow)\n",
    "text_tfidf = tfidf_transformer.transform(text_bow)\n",
    "print(text_tfidf.shape)"
   ]
  },
  {
   "cell_type": "code",
   "execution_count": 18,
   "metadata": {},
   "outputs": [],
   "source": [
    "from sklearn.naive_bayes import MultinomialNB\n",
    "sentiment_analysis_model = MultinomialNB().fit(text_tfidf, df['label'])"
   ]
  },
  {
   "cell_type": "code",
   "execution_count": 19,
   "metadata": {},
   "outputs": [
    {
     "name": "stdout",
     "output_type": "stream",
     "text": [
      "['joy' 'joy' 'joy' ... 'sadness' 'sadness' 'sadness']\n"
     ]
    }
   ],
   "source": [
    "all_predictions = sentiment_analysis_model.predict(text_tfidf)\n",
    "print(all_predictions)"
   ]
  },
  {
   "cell_type": "code",
   "execution_count": 20,
   "metadata": {},
   "outputs": [
    {
     "name": "stdout",
     "output_type": "stream",
     "text": [
      "5404 1351 6755\n"
     ]
    }
   ],
   "source": [
    "from sklearn.model_selection import train_test_split\n",
    "\n",
    "msg_train, msg_test, label_train, label_test = \\\n",
    "train_test_split(df['text'], df['label'], test_size=0.2)\n",
    "\n",
    "print(len(msg_train), len(msg_test), len(msg_train) + len(msg_test))"
   ]
  },
  {
   "cell_type": "code",
   "execution_count": 21,
   "metadata": {},
   "outputs": [],
   "source": [
    "from sklearn.pipeline import Pipeline"
   ]
  },
  {
   "cell_type": "code",
   "execution_count": 24,
   "metadata": {},
   "outputs": [],
   "source": [
    "from sklearn.metrics import classification_report"
   ]
  },
  {
   "cell_type": "markdown",
   "metadata": {},
   "source": [
    "Random Forest"
   ]
  },
  {
   "cell_type": "code",
   "execution_count": 25,
   "metadata": {},
   "outputs": [],
   "source": [
    "#Try RFC!\n",
    "from sklearn import preprocessing\n",
    "Encode = preprocessing.LabelEncoder()\n",
    "from sklearn.ensemble import RandomForestClassifier"
   ]
  },
  {
   "cell_type": "code",
   "execution_count": 26,
   "metadata": {},
   "outputs": [],
   "source": [
    "vect = CountVectorizer()\n",
    "msg_train_vect = vect.fit_transform(msg_train)\n",
    "msg_test_vect = vect.fit_transform(msg_test)"
   ]
  },
  {
   "cell_type": "code",
   "execution_count": 33,
   "metadata": {},
   "outputs": [
    {
     "name": "stdout",
     "output_type": "stream",
     "text": [
      "Model used:  Naive Bayes\n",
      "Cross Validation Scores:  [0.80481036 0.81128585 0.80018501 0.81128585 0.79166667]\n",
      "Classification Report: \n",
      "              precision    recall  f1-score   support\n",
      "\n",
      "       anger       0.78      0.87      0.82       290\n",
      "        fear       0.95      0.67      0.78       626\n",
      "         joy       0.76      0.95      0.85       246\n",
      "     sadness       0.56      0.84      0.67       189\n",
      "\n",
      "    accuracy                           0.79      1351\n",
      "   macro avg       0.76      0.83      0.78      1351\n",
      "weighted avg       0.83      0.79      0.79      1351\n",
      "\n",
      "Confusion Matrix: \n",
      "[[252   9   7  22]\n",
      " [ 49 417  64  96]\n",
      " [  6   0 234   6]\n",
      " [ 17  11   2 159]]\n",
      "Accuracy Score:  0.7860843819393042\n",
      "\n",
      "\n",
      "\n",
      "Model used:  Random Forest Classifier\n",
      "Cross Validation Scores:  [0.84181314 0.84088807 0.84828862 0.86123959 0.84259259]\n",
      "Classification Report: \n",
      "              precision    recall  f1-score   support\n",
      "\n",
      "       anger       0.79      0.90      0.85       284\n",
      "        fear       0.94      0.77      0.85       531\n",
      "         joy       0.88      0.94      0.91       287\n",
      "     sadness       0.75      0.85      0.80       249\n",
      "\n",
      "    accuracy                           0.85      1351\n",
      "   macro avg       0.84      0.87      0.85      1351\n",
      "weighted avg       0.86      0.85      0.85      1351\n",
      "\n",
      "Confusion Matrix: \n",
      "[[257   7   3  17]\n",
      " [ 41 411  34  45]\n",
      " [  6   2 270   9]\n",
      " [ 20  17   0 212]]\n",
      "Accuracy Score:  0.851221317542561\n",
      "\n",
      "\n",
      "\n",
      "Model used:  Support Vector Machine\n",
      "Cross Validation Scores:  [0.86771508 0.86308973 0.87049029 0.85476411 0.84814815]\n",
      "Classification Report: \n",
      "              precision    recall  f1-score   support\n",
      "\n",
      "       anger       0.88      0.90      0.89       315\n",
      "        fear       0.94      0.89      0.92       459\n",
      "         joy       0.93      0.94      0.93       303\n",
      "     sadness       0.82      0.85      0.84       274\n",
      "\n",
      "    accuracy                           0.90      1351\n",
      "   macro avg       0.89      0.90      0.89      1351\n",
      "weighted avg       0.90      0.90      0.90      1351\n",
      "\n",
      "Confusion Matrix: \n",
      "[[285   9   4  17]\n",
      " [ 10 410  14  25]\n",
      " [  7   4 284   8]\n",
      " [ 22  14   5 233]]\n",
      "Accuracy Score:  0.8971132494448557\n",
      "\n",
      "\n",
      "\n",
      "Model used:  K-Nearest-Neighbor\n",
      "Cross Validation Scores:  [0.42923219 0.4079556  0.41535615 0.4079556  0.38888889]\n",
      "Classification Report: \n",
      "              precision    recall  f1-score   support\n",
      "\n",
      "       anger       0.77      0.58      0.66       426\n",
      "        fear       0.66      0.65      0.65       444\n",
      "         joy       0.57      0.69      0.62       254\n",
      "     sadness       0.50      0.63      0.56       227\n",
      "\n",
      "    accuracy                           0.63      1351\n",
      "   macro avg       0.62      0.64      0.62      1351\n",
      "weighted avg       0.65      0.63      0.63      1351\n",
      "\n",
      "Confusion Matrix: \n",
      "[[248  77  57  44]\n",
      " [ 28 288  56  72]\n",
      " [ 21  33 175  25]\n",
      " [ 27  39  19 142]]\n",
      "Accuracy Score:  0.6313841598815693\n",
      "\n",
      "\n",
      "\n"
     ]
    }
   ],
   "source": [
    "#Test the models\n",
    "classifiers = {\n",
    "    'Naive Bayes': MultinomialNB(),\n",
    "    'Random Forest Classifier': RandomForestClassifier(random_state=143, n_jobs=8),\n",
    "    'Support Vector Machine': LinearSVC(max_iter=10000, random_state=143),\n",
    "    'K-Nearest-Neighbor': KNeighborsClassifier(n_neighbors=4)\n",
    "}\n",
    "\n",
    "for clas in classifiers: \n",
    "    \n",
    "    #Create pipeline\n",
    "    pipeline = Pipeline([\n",
    "    ('bow', CountVectorizer(analyzer=text_process)),  # strings to token integer counts\n",
    "    ('tfidf', TfidfTransformer()),  # integer counts to weighted TF-IDF scores\n",
    "    ('classifier', classifiers[clas])  # train on TF-IDF vectors\n",
    "    ])\n",
    "\n",
    "    #Fitting pipeline\n",
    "    pipeline.fit(msg_train,label_train)\n",
    "\n",
    "    #Cross-Validation\n",
    "    scores = cross_val_score(classifiers[clas], msg_train_vect, label_train)\n",
    "\n",
    "    #Model resulting metrics\n",
    "    preds = pipeline.predict(msg_test)\n",
    "    print('Model used: ', clas)\n",
    "    print('Cross Validation Scores: ',scores)\n",
    "    print('Classification Report: ')\n",
    "    print(classification_report(preds,label_test))\n",
    "    print('Confusion Matrix: ')\n",
    "    print(confusion_matrix(preds,label_test))\n",
    "    print(\"Accuracy Score: \", accuracy_score(preds, label_test))\n",
    "    print('\\n\\n')\n",
    "    "
   ]
  },
  {
   "cell_type": "markdown",
   "metadata": {},
   "source": [
    "Random Forest Classifier - Grid Search"
   ]
  },
  {
   "cell_type": "code",
   "execution_count": 34,
   "metadata": {},
   "outputs": [
    {
     "name": "stdout",
     "output_type": "stream",
     "text": [
      "Fitting 10 folds for each of 125 candidates, totalling 1250 fits\n",
      "[CV] randomforestclassifier__max_depth=2, randomforestclassifier__max_features=2, randomforestclassifier__n_estimators=1 \n"
     ]
    },
    {
     "name": "stderr",
     "output_type": "stream",
     "text": [
      "[Parallel(n_jobs=1)]: Using backend SequentialBackend with 1 concurrent workers.\n"
     ]
    },
    {
     "name": "stdout",
     "output_type": "stream",
     "text": [
      "[CV]  randomforestclassifier__max_depth=2, randomforestclassifier__max_features=2, randomforestclassifier__n_estimators=1, score=0.316, total=15.0min\n",
      "[CV] randomforestclassifier__max_depth=2, randomforestclassifier__max_features=2, randomforestclassifier__n_estimators=1 \n"
     ]
    },
    {
     "name": "stderr",
     "output_type": "stream",
     "text": [
      "[Parallel(n_jobs=1)]: Done   1 out of   1 | elapsed: 15.0min remaining:    0.0s\n"
     ]
    },
    {
     "name": "stdout",
     "output_type": "stream",
     "text": [
      "[CV]  randomforestclassifier__max_depth=2, randomforestclassifier__max_features=2, randomforestclassifier__n_estimators=1, score=0.316, total=14.5min\n",
      "[CV] randomforestclassifier__max_depth=2, randomforestclassifier__max_features=2, randomforestclassifier__n_estimators=1 \n"
     ]
    },
    {
     "name": "stderr",
     "output_type": "stream",
     "text": [
      "[Parallel(n_jobs=1)]: Done   2 out of   2 | elapsed: 29.6min remaining:    0.0s\n"
     ]
    },
    {
     "name": "stdout",
     "output_type": "stream",
     "text": [
      "[CV]  randomforestclassifier__max_depth=2, randomforestclassifier__max_features=2, randomforestclassifier__n_estimators=1, score=0.316, total=14.9min\n",
      "[CV] randomforestclassifier__max_depth=2, randomforestclassifier__max_features=2, randomforestclassifier__n_estimators=1 \n"
     ]
    },
    {
     "name": "stderr",
     "output_type": "stream",
     "text": [
      "[Parallel(n_jobs=1)]: Done   3 out of   3 | elapsed: 44.4min remaining:    0.0s\n"
     ]
    },
    {
     "name": "stdout",
     "output_type": "stream",
     "text": [
      "[CV]  randomforestclassifier__max_depth=2, randomforestclassifier__max_features=2, randomforestclassifier__n_estimators=1, score=0.316, total=15.3min\n",
      "[CV] randomforestclassifier__max_depth=2, randomforestclassifier__max_features=2, randomforestclassifier__n_estimators=1 \n"
     ]
    },
    {
     "name": "stderr",
     "output_type": "stream",
     "text": [
      "[Parallel(n_jobs=1)]: Done   4 out of   4 | elapsed: 59.8min remaining:    0.0s\n"
     ]
    },
    {
     "name": "stdout",
     "output_type": "stream",
     "text": [
      "[CV]  randomforestclassifier__max_depth=2, randomforestclassifier__max_features=2, randomforestclassifier__n_estimators=1, score=0.317, total=15.7min\n",
      "[CV] randomforestclassifier__max_depth=2, randomforestclassifier__max_features=2, randomforestclassifier__n_estimators=1 \n"
     ]
    },
    {
     "name": "stderr",
     "output_type": "stream",
     "text": [
      "[Parallel(n_jobs=1)]: Done   5 out of   5 | elapsed: 75.5min remaining:    0.0s\n"
     ]
    },
    {
     "name": "stdout",
     "output_type": "stream",
     "text": [
      "[CV]  randomforestclassifier__max_depth=2, randomforestclassifier__max_features=2, randomforestclassifier__n_estimators=1, score=0.315, total=16.5min\n",
      "[CV] randomforestclassifier__max_depth=2, randomforestclassifier__max_features=2, randomforestclassifier__n_estimators=1 \n"
     ]
    },
    {
     "name": "stderr",
     "output_type": "stream",
     "text": [
      "[Parallel(n_jobs=1)]: Done   6 out of   6 | elapsed: 91.9min remaining:    0.0s\n"
     ]
    },
    {
     "name": "stdout",
     "output_type": "stream",
     "text": [
      "[CV]  randomforestclassifier__max_depth=2, randomforestclassifier__max_features=2, randomforestclassifier__n_estimators=1, score=0.315, total=19.2min\n",
      "[CV] randomforestclassifier__max_depth=2, randomforestclassifier__max_features=2, randomforestclassifier__n_estimators=1 \n"
     ]
    },
    {
     "name": "stderr",
     "output_type": "stream",
     "text": [
      "[Parallel(n_jobs=1)]: Done   7 out of   7 | elapsed: 111.1min remaining:    0.0s\n"
     ]
    },
    {
     "name": "stdout",
     "output_type": "stream",
     "text": [
      "[CV]  randomforestclassifier__max_depth=2, randomforestclassifier__max_features=2, randomforestclassifier__n_estimators=1, score=0.315, total=13.7min\n",
      "[CV] randomforestclassifier__max_depth=2, randomforestclassifier__max_features=2, randomforestclassifier__n_estimators=1 \n"
     ]
    },
    {
     "name": "stderr",
     "output_type": "stream",
     "text": [
      "[Parallel(n_jobs=1)]: Done   8 out of   8 | elapsed: 124.8min remaining:    0.0s\n"
     ]
    },
    {
     "name": "stdout",
     "output_type": "stream",
     "text": [
      "[CV]  randomforestclassifier__max_depth=2, randomforestclassifier__max_features=2, randomforestclassifier__n_estimators=1, score=0.315, total=15.0min\n",
      "[CV] randomforestclassifier__max_depth=2, randomforestclassifier__max_features=2, randomforestclassifier__n_estimators=1 \n"
     ]
    },
    {
     "name": "stderr",
     "output_type": "stream",
     "text": [
      "[Parallel(n_jobs=1)]: Done   9 out of   9 | elapsed: 139.8min remaining:    0.0s\n"
     ]
    },
    {
     "name": "stdout",
     "output_type": "stream",
     "text": [
      "[CV]  randomforestclassifier__max_depth=2, randomforestclassifier__max_features=2, randomforestclassifier__n_estimators=1, score=0.315, total=16.6min\n",
      "[CV] randomforestclassifier__max_depth=2, randomforestclassifier__max_features=2, randomforestclassifier__n_estimators=5 \n",
      "[CV]  randomforestclassifier__max_depth=2, randomforestclassifier__max_features=2, randomforestclassifier__n_estimators=5, score=0.318, total=16.5min\n",
      "[CV] randomforestclassifier__max_depth=2, randomforestclassifier__max_features=2, randomforestclassifier__n_estimators=5 \n",
      "[CV]  randomforestclassifier__max_depth=2, randomforestclassifier__max_features=2, randomforestclassifier__n_estimators=5, score=0.318, total=15.9min\n",
      "[CV] randomforestclassifier__max_depth=2, randomforestclassifier__max_features=2, randomforestclassifier__n_estimators=5 \n",
      "[CV]  randomforestclassifier__max_depth=2, randomforestclassifier__max_features=2, randomforestclassifier__n_estimators=5, score=0.314, total=14.6min\n",
      "[CV] randomforestclassifier__max_depth=2, randomforestclassifier__max_features=2, randomforestclassifier__n_estimators=5 \n",
      "[CV]  randomforestclassifier__max_depth=2, randomforestclassifier__max_features=2, randomforestclassifier__n_estimators=5, score=0.318, total=11.6min\n",
      "[CV] randomforestclassifier__max_depth=2, randomforestclassifier__max_features=2, randomforestclassifier__n_estimators=5 \n",
      "[CV]  randomforestclassifier__max_depth=2, randomforestclassifier__max_features=2, randomforestclassifier__n_estimators=5, score=0.317, total=10.6min\n",
      "[CV] randomforestclassifier__max_depth=2, randomforestclassifier__max_features=2, randomforestclassifier__n_estimators=5 \n",
      "[CV]  randomforestclassifier__max_depth=2, randomforestclassifier__max_features=2, randomforestclassifier__n_estimators=5, score=0.313, total=11.4min\n",
      "[CV] randomforestclassifier__max_depth=2, randomforestclassifier__max_features=2, randomforestclassifier__n_estimators=5 \n",
      "[CV]  randomforestclassifier__max_depth=2, randomforestclassifier__max_features=2, randomforestclassifier__n_estimators=5, score=0.326, total=15.3min\n",
      "[CV] randomforestclassifier__max_depth=2, randomforestclassifier__max_features=2, randomforestclassifier__n_estimators=5 \n",
      "[CV]  randomforestclassifier__max_depth=2, randomforestclassifier__max_features=2, randomforestclassifier__n_estimators=5, score=0.317, total=10.7min\n",
      "[CV] randomforestclassifier__max_depth=2, randomforestclassifier__max_features=2, randomforestclassifier__n_estimators=5 \n",
      "[CV]  randomforestclassifier__max_depth=2, randomforestclassifier__max_features=2, randomforestclassifier__n_estimators=5, score=0.315, total=15.5min\n",
      "[CV] randomforestclassifier__max_depth=2, randomforestclassifier__max_features=2, randomforestclassifier__n_estimators=5 \n",
      "[CV]  randomforestclassifier__max_depth=2, randomforestclassifier__max_features=2, randomforestclassifier__n_estimators=5, score=0.315, total=12.0min\n",
      "[CV] randomforestclassifier__max_depth=2, randomforestclassifier__max_features=2, randomforestclassifier__n_estimators=10 \n",
      "[CV]  randomforestclassifier__max_depth=2, randomforestclassifier__max_features=2, randomforestclassifier__n_estimators=10, score=0.314, total=14.1min\n",
      "[CV] randomforestclassifier__max_depth=2, randomforestclassifier__max_features=2, randomforestclassifier__n_estimators=10 \n",
      "[CV]  randomforestclassifier__max_depth=2, randomforestclassifier__max_features=2, randomforestclassifier__n_estimators=10, score=0.318, total=12.0min\n",
      "[CV] randomforestclassifier__max_depth=2, randomforestclassifier__max_features=2, randomforestclassifier__n_estimators=10 \n",
      "[CV]  randomforestclassifier__max_depth=2, randomforestclassifier__max_features=2, randomforestclassifier__n_estimators=10, score=0.314, total=12.9min\n",
      "[CV] randomforestclassifier__max_depth=2, randomforestclassifier__max_features=2, randomforestclassifier__n_estimators=10 \n",
      "[CV]  randomforestclassifier__max_depth=2, randomforestclassifier__max_features=2, randomforestclassifier__n_estimators=10, score=0.316, total=13.3min\n",
      "[CV] randomforestclassifier__max_depth=2, randomforestclassifier__max_features=2, randomforestclassifier__n_estimators=10 \n",
      "[CV]  randomforestclassifier__max_depth=2, randomforestclassifier__max_features=2, randomforestclassifier__n_estimators=10, score=0.317, total=11.2min\n",
      "[CV] randomforestclassifier__max_depth=2, randomforestclassifier__max_features=2, randomforestclassifier__n_estimators=10 \n",
      "[CV]  randomforestclassifier__max_depth=2, randomforestclassifier__max_features=2, randomforestclassifier__n_estimators=10, score=0.315, total=11.3min\n",
      "[CV] randomforestclassifier__max_depth=2, randomforestclassifier__max_features=2, randomforestclassifier__n_estimators=10 \n",
      "[CV]  randomforestclassifier__max_depth=2, randomforestclassifier__max_features=2, randomforestclassifier__n_estimators=10, score=0.333, total=13.9min\n",
      "[CV] randomforestclassifier__max_depth=2, randomforestclassifier__max_features=2, randomforestclassifier__n_estimators=10 \n",
      "[CV]  randomforestclassifier__max_depth=2, randomforestclassifier__max_features=2, randomforestclassifier__n_estimators=10, score=0.319, total=11.5min\n",
      "[CV] randomforestclassifier__max_depth=2, randomforestclassifier__max_features=2, randomforestclassifier__n_estimators=10 \n",
      "[CV]  randomforestclassifier__max_depth=2, randomforestclassifier__max_features=2, randomforestclassifier__n_estimators=10, score=0.317, total=12.7min\n",
      "[CV] randomforestclassifier__max_depth=2, randomforestclassifier__max_features=2, randomforestclassifier__n_estimators=10 \n",
      "[CV]  randomforestclassifier__max_depth=2, randomforestclassifier__max_features=2, randomforestclassifier__n_estimators=10, score=0.319, total=11.4min\n",
      "[CV] randomforestclassifier__max_depth=2, randomforestclassifier__max_features=2, randomforestclassifier__n_estimators=20 \n",
      "[CV]  randomforestclassifier__max_depth=2, randomforestclassifier__max_features=2, randomforestclassifier__n_estimators=20, score=0.316, total=11.5min\n",
      "[CV] randomforestclassifier__max_depth=2, randomforestclassifier__max_features=2, randomforestclassifier__n_estimators=20 \n",
      "[CV]  randomforestclassifier__max_depth=2, randomforestclassifier__max_features=2, randomforestclassifier__n_estimators=20, score=0.316, total=11.9min\n",
      "[CV] randomforestclassifier__max_depth=2, randomforestclassifier__max_features=2, randomforestclassifier__n_estimators=20 \n",
      "[CV]  randomforestclassifier__max_depth=2, randomforestclassifier__max_features=2, randomforestclassifier__n_estimators=20, score=0.316, total=11.5min\n",
      "[CV] randomforestclassifier__max_depth=2, randomforestclassifier__max_features=2, randomforestclassifier__n_estimators=20 \n",
      "[CV]  randomforestclassifier__max_depth=2, randomforestclassifier__max_features=2, randomforestclassifier__n_estimators=20, score=0.316, total=11.5min\n",
      "[CV] randomforestclassifier__max_depth=2, randomforestclassifier__max_features=2, randomforestclassifier__n_estimators=20 \n",
      "[CV]  randomforestclassifier__max_depth=2, randomforestclassifier__max_features=2, randomforestclassifier__n_estimators=20, score=0.317, total=11.9min\n",
      "[CV] randomforestclassifier__max_depth=2, randomforestclassifier__max_features=2, randomforestclassifier__n_estimators=20 \n",
      "[CV]  randomforestclassifier__max_depth=2, randomforestclassifier__max_features=2, randomforestclassifier__n_estimators=20, score=0.315, total=11.5min\n",
      "[CV] randomforestclassifier__max_depth=2, randomforestclassifier__max_features=2, randomforestclassifier__n_estimators=20 \n",
      "[CV]  randomforestclassifier__max_depth=2, randomforestclassifier__max_features=2, randomforestclassifier__n_estimators=20, score=0.315, total=11.9min\n",
      "[CV] randomforestclassifier__max_depth=2, randomforestclassifier__max_features=2, randomforestclassifier__n_estimators=20 \n",
      "[CV]  randomforestclassifier__max_depth=2, randomforestclassifier__max_features=2, randomforestclassifier__n_estimators=20, score=0.315, total=11.5min\n",
      "[CV] randomforestclassifier__max_depth=2, randomforestclassifier__max_features=2, randomforestclassifier__n_estimators=20 \n",
      "[CV]  randomforestclassifier__max_depth=2, randomforestclassifier__max_features=2, randomforestclassifier__n_estimators=20, score=0.315, total=11.5min\n",
      "[CV] randomforestclassifier__max_depth=2, randomforestclassifier__max_features=2, randomforestclassifier__n_estimators=20 \n",
      "[CV]  randomforestclassifier__max_depth=2, randomforestclassifier__max_features=2, randomforestclassifier__n_estimators=20, score=0.315, total=12.3min\n",
      "[CV] randomforestclassifier__max_depth=2, randomforestclassifier__max_features=2, randomforestclassifier__n_estimators=100 \n",
      "[CV]  randomforestclassifier__max_depth=2, randomforestclassifier__max_features=2, randomforestclassifier__n_estimators=100, score=0.316, total=12.2min\n",
      "[CV] randomforestclassifier__max_depth=2, randomforestclassifier__max_features=2, randomforestclassifier__n_estimators=100 \n",
      "[CV]  randomforestclassifier__max_depth=2, randomforestclassifier__max_features=2, randomforestclassifier__n_estimators=100, score=0.316, total=12.0min\n",
      "[CV] randomforestclassifier__max_depth=2, randomforestclassifier__max_features=2, randomforestclassifier__n_estimators=100 \n",
      "[CV]  randomforestclassifier__max_depth=2, randomforestclassifier__max_features=2, randomforestclassifier__n_estimators=100, score=0.316, total=12.2min\n",
      "[CV] randomforestclassifier__max_depth=2, randomforestclassifier__max_features=2, randomforestclassifier__n_estimators=100 \n",
      "[CV]  randomforestclassifier__max_depth=2, randomforestclassifier__max_features=2, randomforestclassifier__n_estimators=100, score=0.316, total=12.6min\n",
      "[CV] randomforestclassifier__max_depth=2, randomforestclassifier__max_features=2, randomforestclassifier__n_estimators=100 \n",
      "[CV]  randomforestclassifier__max_depth=2, randomforestclassifier__max_features=2, randomforestclassifier__n_estimators=100, score=0.317, total=12.0min\n",
      "[CV] randomforestclassifier__max_depth=2, randomforestclassifier__max_features=2, randomforestclassifier__n_estimators=100 \n",
      "[CV]  randomforestclassifier__max_depth=2, randomforestclassifier__max_features=2, randomforestclassifier__n_estimators=100, score=0.315, total=12.2min\n",
      "[CV] randomforestclassifier__max_depth=2, randomforestclassifier__max_features=2, randomforestclassifier__n_estimators=100 \n",
      "[CV]  randomforestclassifier__max_depth=2, randomforestclassifier__max_features=2, randomforestclassifier__n_estimators=100, score=0.315, total=12.4min\n",
      "[CV] randomforestclassifier__max_depth=2, randomforestclassifier__max_features=2, randomforestclassifier__n_estimators=100 \n",
      "[CV]  randomforestclassifier__max_depth=2, randomforestclassifier__max_features=2, randomforestclassifier__n_estimators=100, score=0.315, total=12.2min\n",
      "[CV] randomforestclassifier__max_depth=2, randomforestclassifier__max_features=2, randomforestclassifier__n_estimators=100 \n",
      "[CV]  randomforestclassifier__max_depth=2, randomforestclassifier__max_features=2, randomforestclassifier__n_estimators=100, score=0.315, total=11.7min\n",
      "[CV] randomforestclassifier__max_depth=2, randomforestclassifier__max_features=2, randomforestclassifier__n_estimators=100 \n",
      "[CV]  randomforestclassifier__max_depth=2, randomforestclassifier__max_features=2, randomforestclassifier__n_estimators=100, score=0.315, total=11.4min\n",
      "[CV] randomforestclassifier__max_depth=2, randomforestclassifier__max_features=3, randomforestclassifier__n_estimators=1 \n",
      "[CV]  randomforestclassifier__max_depth=2, randomforestclassifier__max_features=3, randomforestclassifier__n_estimators=1, score=0.316, total=11.5min\n",
      "[CV] randomforestclassifier__max_depth=2, randomforestclassifier__max_features=3, randomforestclassifier__n_estimators=1 \n",
      "[CV]  randomforestclassifier__max_depth=2, randomforestclassifier__max_features=3, randomforestclassifier__n_estimators=1, score=0.316, total=12.4min\n",
      "[CV] randomforestclassifier__max_depth=2, randomforestclassifier__max_features=3, randomforestclassifier__n_estimators=1 \n",
      "[CV]  randomforestclassifier__max_depth=2, randomforestclassifier__max_features=3, randomforestclassifier__n_estimators=1, score=0.316, total=11.9min\n",
      "[CV] randomforestclassifier__max_depth=2, randomforestclassifier__max_features=3, randomforestclassifier__n_estimators=1 \n",
      "[CV]  randomforestclassifier__max_depth=2, randomforestclassifier__max_features=3, randomforestclassifier__n_estimators=1, score=0.318, total=12.1min\n",
      "[CV] randomforestclassifier__max_depth=2, randomforestclassifier__max_features=3, randomforestclassifier__n_estimators=1 \n",
      "[CV]  randomforestclassifier__max_depth=2, randomforestclassifier__max_features=3, randomforestclassifier__n_estimators=1, score=0.317, total=12.5min\n",
      "[CV] randomforestclassifier__max_depth=2, randomforestclassifier__max_features=3, randomforestclassifier__n_estimators=1 \n",
      "[CV]  randomforestclassifier__max_depth=2, randomforestclassifier__max_features=3, randomforestclassifier__n_estimators=1, score=0.313, total=11.9min\n",
      "[CV] randomforestclassifier__max_depth=2, randomforestclassifier__max_features=3, randomforestclassifier__n_estimators=1 \n",
      "[CV]  randomforestclassifier__max_depth=2, randomforestclassifier__max_features=3, randomforestclassifier__n_estimators=1, score=0.315, total=13.8min\n",
      "[CV] randomforestclassifier__max_depth=2, randomforestclassifier__max_features=3, randomforestclassifier__n_estimators=1 \n",
      "[CV]  randomforestclassifier__max_depth=2, randomforestclassifier__max_features=3, randomforestclassifier__n_estimators=1, score=0.315, total=13.8min\n",
      "[CV] randomforestclassifier__max_depth=2, randomforestclassifier__max_features=3, randomforestclassifier__n_estimators=1 \n",
      "[CV]  randomforestclassifier__max_depth=2, randomforestclassifier__max_features=3, randomforestclassifier__n_estimators=1, score=0.313, total=13.5min\n",
      "[CV] randomforestclassifier__max_depth=2, randomforestclassifier__max_features=3, randomforestclassifier__n_estimators=1 \n",
      "[CV]  randomforestclassifier__max_depth=2, randomforestclassifier__max_features=3, randomforestclassifier__n_estimators=1, score=0.317, total=12.3min\n",
      "[CV] randomforestclassifier__max_depth=2, randomforestclassifier__max_features=3, randomforestclassifier__n_estimators=5 \n",
      "[CV]  randomforestclassifier__max_depth=2, randomforestclassifier__max_features=3, randomforestclassifier__n_estimators=5, score=0.318, total=12.8min\n",
      "[CV] randomforestclassifier__max_depth=2, randomforestclassifier__max_features=3, randomforestclassifier__n_estimators=5 \n",
      "[CV]  randomforestclassifier__max_depth=2, randomforestclassifier__max_features=3, randomforestclassifier__n_estimators=5, score=0.316, total=11.9min\n",
      "[CV] randomforestclassifier__max_depth=2, randomforestclassifier__max_features=3, randomforestclassifier__n_estimators=5 \n",
      "[CV]  randomforestclassifier__max_depth=2, randomforestclassifier__max_features=3, randomforestclassifier__n_estimators=5, score=0.314, total=11.6min\n",
      "[CV] randomforestclassifier__max_depth=2, randomforestclassifier__max_features=3, randomforestclassifier__n_estimators=5 \n",
      "[CV]  randomforestclassifier__max_depth=2, randomforestclassifier__max_features=3, randomforestclassifier__n_estimators=5, score=0.316, total=13.9min\n",
      "[CV] randomforestclassifier__max_depth=2, randomforestclassifier__max_features=3, randomforestclassifier__n_estimators=5 \n",
      "[CV]  randomforestclassifier__max_depth=2, randomforestclassifier__max_features=3, randomforestclassifier__n_estimators=5, score=0.317, total=11.6min\n",
      "[CV] randomforestclassifier__max_depth=2, randomforestclassifier__max_features=3, randomforestclassifier__n_estimators=5 \n",
      "[CV]  randomforestclassifier__max_depth=2, randomforestclassifier__max_features=3, randomforestclassifier__n_estimators=5, score=0.313, total=13.6min\n",
      "[CV] randomforestclassifier__max_depth=2, randomforestclassifier__max_features=3, randomforestclassifier__n_estimators=5 \n"
     ]
    }
   ],
   "source": [
    "#Let's do a grid search for the rfc (model that might be used)\n",
    "from sklearn.pipeline import make_pipeline\n",
    "from sklearn.model_selection import GridSearchCV\n",
    "\n",
    "pipeline_gs = Pipeline([\n",
    "    ('bow', CountVectorizer(analyzer=text_process)),  # strings to token integer counts\n",
    "    ('tfidf', TfidfTransformer())  # integer counts to weighted TF-IDF scores\n",
    "    ])\n",
    "\n",
    "pip = make_pipeline(pipeline_gs, RandomForestClassifier(criterion='gini', random_state=1))\n",
    "param_grid_rfc = [{\n",
    "    'randomforestclassifier__max_depth':[2,5,10,100,200],\n",
    "    'randomforestclassifier__max_features':[2, 3, 4, 5, 6],\n",
    "    'randomforestclassifier__n_estimators':[1,5,10,20,100]\n",
    "}]\n",
    "\n",
    "gs = GridSearchCV(estimator = pip,\n",
    "                     param_grid = param_grid_rfc,\n",
    "                     scoring = 'accuracy',\n",
    "                     cv = 10,\n",
    "                     refit = True,\n",
    "                     n_jobs = 1,\n",
    "                     verbose = 10)\n",
    "        \n",
    "gs = gs.fit(msg_train, label_train)\n",
    "# Print the training score of the best model\n",
    "print(gs.best_score_)\n",
    "\n",
    "# Print the model parameters of the best model\n",
    "print(gs.best_params_)\n",
    "\n",
    "# Print the test score of the best model\n",
    "clfRFC = gs.best_estimator_\n",
    "print('Test accuracy: %.3f' % clfRFC.score(msg_test, label_test))"
   ]
  },
  {
   "cell_type": "markdown",
   "metadata": {},
   "source": [
    "K-Nearest-Neighbor - Grid Search"
   ]
  },
  {
   "cell_type": "code",
   "execution_count": null,
   "metadata": {},
   "outputs": [],
   "source": [
    "knn_gs = KNeighborsClassifier()\n",
    "k_range = list(range(1, 100))\n",
    "param_grid_knn = dict(n_neighbors=k_range)\n",
    "  \n",
    "# defining parameter range\n",
    "pip = make_pipeline(pipeline_gs, KNeighborsClassifier())\n",
    "grid = GridSearchCV(estimator = pip,\n",
    "                     param_grid = param_grid_knn,\n",
    "                     cv=10,\n",
    "                     scoring='accuracy',\n",
    "                     return_train_score=False,\n",
    "                     verbose=10)\n",
    "  \n",
    "# fitting the model for grid search\n",
    "grid_search = grid.fit(msg_train, label_train)\n",
    "print(grid_search.best_params_)\n",
    "accuracy = grid_search.best_score_ *100\n",
    "print(\"Accuracy for our training dataset with tuning is : {:.2f}%\".format(accuracy))"
   ]
  },
  {
   "cell_type": "markdown",
   "metadata": {},
   "source": [
    "Support Vector Machine - Grid Search"
   ]
  },
  {
   "cell_type": "code",
   "execution_count": null,
   "metadata": {},
   "outputs": [],
   "source": [
    "#TODO\n",
    "svc_gs = LinearSVC()\n",
    "\n",
    "pip = make_pipeline(pipeline_gs, svc_gs)\n",
    "\n",
    "# defining parameter range\n",
    "param_grid_svc = {'C': [0.1, 1, 10, 100, 1000],\n",
    "              'gamma': [1, 0.1, 0.01, 0.001, 0.0001],\n",
    "              'kernel': ['rbf']}\n",
    " \n",
    "grid = GridSearchCV(estimator=pip,\n",
    "                    param_grid = param_grid_svc,\n",
    "                    refit = True, \n",
    "                    verbose = 10)\n",
    " \n",
    "# fitting the model for grid search\n",
    "grid_search = grid.fit(msg_train, label_train)\n",
    "print(grid_search.best_params_)\n",
    "accuracy = grid_search.best_score_ *100\n",
    "print(\"Accuracy for our training dataset with tuning is : {:.2f}%\".format(accuracy))"
   ]
  }
 ],
 "metadata": {
  "interpreter": {
   "hash": "432661d2962cb742e4547be49fd1bd1a3aad3863ddba98d84d2d501011667c5d"
  },
  "kernelspec": {
   "display_name": "Python 3.8.3 ('base')",
   "language": "python",
   "name": "python3"
  },
  "language_info": {
   "codemirror_mode": {
    "name": "ipython",
    "version": 3
   },
   "file_extension": ".py",
   "mimetype": "text/x-python",
   "name": "python",
   "nbconvert_exporter": "python",
   "pygments_lexer": "ipython3",
   "version": "3.8.3"
  },
  "orig_nbformat": 4
 },
 "nbformat": 4,
 "nbformat_minor": 2
}
