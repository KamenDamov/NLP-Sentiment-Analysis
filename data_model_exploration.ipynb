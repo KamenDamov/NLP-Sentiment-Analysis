{
 "cells": [
  {
   "cell_type": "code",
   "execution_count": 1,
   "metadata": {},
   "outputs": [],
   "source": [
    "import numpy as np\n",
    "import pandas as pd\n",
    "import seaborn as sns\n",
    "import re\n",
    "from nltk.corpus import stopwords\n",
    "from nltk.stem import WordNetLemmatizer\n",
    "from sklearn.model_selection import train_test_split\n",
    "import string\n",
    "import pickle\n",
    "import emoji\n",
    "import scipy.stats as ss\n",
    "import sklearn\n",
    "from sklearn.base import TransformerMixin, BaseEstimator\n",
    "from sklearn.ensemble import RandomForestClassifier\n",
    "from sklearn.feature_extraction.text import CountVectorizer\n",
    "from sklearn.metrics import confusion_matrix, accuracy_score, classification_report\n",
    "from sklearn.model_selection import cross_val_score, RandomizedSearchCV, GridSearchCV\n",
    "from sklearn.neighbors import KNeighborsClassifier\n",
    "from sklearn.pipeline import Pipeline\n",
    "from sklearn.svm import LinearSVC\n",
    "from sklearn.utils.validation import check_is_fitted\n",
    "from sklearn.feature_extraction.text import TfidfTransformer\n",
    "from sklearn.pipeline import Pipeline\n",
    "from sklearn.model_selection import train_test_split\n",
    "from sklearn.pipeline import make_pipeline\n",
    "from sklearn.model_selection import GridSearchCV\n",
    "from sklearn.naive_bayes import MultinomialNB\n",
    "%matplotlib inline"
   ]
  },
  {
   "cell_type": "code",
   "execution_count": 2,
   "metadata": {},
   "outputs": [],
   "source": [
    "df_test = pd.read_csv('Emotion_final.csv')"
   ]
  },
  {
   "cell_type": "code",
   "execution_count": 3,
   "metadata": {},
   "outputs": [
    {
     "data": {
      "text/html": [
       "<div>\n",
       "<style scoped>\n",
       "    .dataframe tbody tr th:only-of-type {\n",
       "        vertical-align: middle;\n",
       "    }\n",
       "\n",
       "    .dataframe tbody tr th {\n",
       "        vertical-align: top;\n",
       "    }\n",
       "\n",
       "    .dataframe thead th {\n",
       "        text-align: right;\n",
       "    }\n",
       "</style>\n",
       "<table border=\"1\" class=\"dataframe\">\n",
       "  <thead>\n",
       "    <tr style=\"text-align: right;\">\n",
       "      <th></th>\n",
       "      <th>Text</th>\n",
       "      <th>Emotion</th>\n",
       "    </tr>\n",
       "  </thead>\n",
       "  <tbody>\n",
       "    <tr>\n",
       "      <th>0</th>\n",
       "      <td>i didnt feel humiliated</td>\n",
       "      <td>sadness</td>\n",
       "    </tr>\n",
       "    <tr>\n",
       "      <th>1</th>\n",
       "      <td>i can go from feeling so hopeless to so damned...</td>\n",
       "      <td>sadness</td>\n",
       "    </tr>\n",
       "    <tr>\n",
       "      <th>2</th>\n",
       "      <td>im grabbing a minute to post i feel greedy wrong</td>\n",
       "      <td>anger</td>\n",
       "    </tr>\n",
       "    <tr>\n",
       "      <th>3</th>\n",
       "      <td>i am ever feeling nostalgic about the fireplac...</td>\n",
       "      <td>love</td>\n",
       "    </tr>\n",
       "    <tr>\n",
       "      <th>4</th>\n",
       "      <td>i am feeling grouchy</td>\n",
       "      <td>anger</td>\n",
       "    </tr>\n",
       "  </tbody>\n",
       "</table>\n",
       "</div>"
      ],
      "text/plain": [
       "                                                Text  Emotion\n",
       "0                            i didnt feel humiliated  sadness\n",
       "1  i can go from feeling so hopeless to so damned...  sadness\n",
       "2   im grabbing a minute to post i feel greedy wrong    anger\n",
       "3  i am ever feeling nostalgic about the fireplac...     love\n",
       "4                               i am feeling grouchy    anger"
      ]
     },
     "execution_count": 3,
     "metadata": {},
     "output_type": "execute_result"
    }
   ],
   "source": [
    "df_test.head()"
   ]
  },
  {
   "cell_type": "code",
   "execution_count": 13,
   "metadata": {},
   "outputs": [],
   "source": [
    "df_test['num words'] = df_test['Text'].apply(lambda x: len(x.split()))"
   ]
  },
  {
   "cell_type": "code",
   "execution_count": 16,
   "metadata": {},
   "outputs": [
    {
     "data": {
      "text/html": [
       "<div>\n",
       "<style scoped>\n",
       "    .dataframe tbody tr th:only-of-type {\n",
       "        vertical-align: middle;\n",
       "    }\n",
       "\n",
       "    .dataframe tbody tr th {\n",
       "        vertical-align: top;\n",
       "    }\n",
       "\n",
       "    .dataframe thead th {\n",
       "        text-align: right;\n",
       "    }\n",
       "</style>\n",
       "<table border=\"1\" class=\"dataframe\">\n",
       "  <thead>\n",
       "    <tr style=\"text-align: right;\">\n",
       "      <th></th>\n",
       "      <th>Text</th>\n",
       "      <th>Emotion</th>\n",
       "      <th>num words</th>\n",
       "    </tr>\n",
       "  </thead>\n",
       "  <tbody>\n",
       "    <tr>\n",
       "      <th>0</th>\n",
       "      <td>i didnt feel humiliated</td>\n",
       "      <td>sadness</td>\n",
       "      <td>4</td>\n",
       "    </tr>\n",
       "    <tr>\n",
       "      <th>1</th>\n",
       "      <td>i can go from feeling so hopeless to so damned...</td>\n",
       "      <td>sadness</td>\n",
       "      <td>21</td>\n",
       "    </tr>\n",
       "    <tr>\n",
       "      <th>2</th>\n",
       "      <td>im grabbing a minute to post i feel greedy wrong</td>\n",
       "      <td>anger</td>\n",
       "      <td>10</td>\n",
       "    </tr>\n",
       "    <tr>\n",
       "      <th>3</th>\n",
       "      <td>i am ever feeling nostalgic about the fireplac...</td>\n",
       "      <td>love</td>\n",
       "      <td>18</td>\n",
       "    </tr>\n",
       "    <tr>\n",
       "      <th>4</th>\n",
       "      <td>i am feeling grouchy</td>\n",
       "      <td>anger</td>\n",
       "      <td>4</td>\n",
       "    </tr>\n",
       "  </tbody>\n",
       "</table>\n",
       "</div>"
      ],
      "text/plain": [
       "                                                Text  Emotion  num words\n",
       "0                            i didnt feel humiliated  sadness          4\n",
       "1  i can go from feeling so hopeless to so damned...  sadness         21\n",
       "2   im grabbing a minute to post i feel greedy wrong    anger         10\n",
       "3  i am ever feeling nostalgic about the fireplac...     love         18\n",
       "4                               i am feeling grouchy    anger          4"
      ]
     },
     "execution_count": 16,
     "metadata": {},
     "output_type": "execute_result"
    }
   ],
   "source": [
    "df_test.head()"
   ]
  },
  {
   "cell_type": "code",
   "execution_count": 15,
   "metadata": {},
   "outputs": [
    {
     "data": {
      "text/plain": [
       "<matplotlib.axes._subplots.AxesSubplot at 0x25a22eace50>"
      ]
     },
     "execution_count": 15,
     "metadata": {},
     "output_type": "execute_result"
    },
    {
     "data": {
      "image/png": "[encoded data removed]",
      "text/plain": [
       "<Figure size 432x288 with 1 Axes>"
      ]
     },
     "metadata": {
      "needs_background": "light"
     },
     "output_type": "display_data"
    }
   ],
   "source": [
    "sns.distplot(df_test['num words'])"
   ]
  },
  {
   "cell_type": "code",
   "execution_count": 2,
   "metadata": {},
   "outputs": [],
   "source": [
    "df1 = pd.read_csv('emotion-labels-test.csv')\n",
    "df2 = pd.read_csv('emotion-labels-train.csv')\n",
    "df = pd.DataFrame(pd.concat([df1,df2]))"
   ]
  },
  {
   "cell_type": "code",
   "execution_count": 3,
   "metadata": {},
   "outputs": [
    {
     "data": {
      "text/html": [
       "<div>\n",
       "<style scoped>\n",
       "    .dataframe tbody tr th:only-of-type {\n",
       "        vertical-align: middle;\n",
       "    }\n",
       "\n",
       "    .dataframe tbody tr th {\n",
       "        vertical-align: top;\n",
       "    }\n",
       "\n",
       "    .dataframe thead th {\n",
       "        text-align: right;\n",
       "    }\n",
       "</style>\n",
       "<table border=\"1\" class=\"dataframe\">\n",
       "  <thead>\n",
       "    <tr style=\"text-align: right;\">\n",
       "      <th></th>\n",
       "      <th>text</th>\n",
       "      <th>label</th>\n",
       "    </tr>\n",
       "  </thead>\n",
       "  <tbody>\n",
       "    <tr>\n",
       "      <th>0</th>\n",
       "      <td>You must be knowing #blithe means (adj.)  Happ...</td>\n",
       "      <td>joy</td>\n",
       "    </tr>\n",
       "    <tr>\n",
       "      <th>1</th>\n",
       "      <td>Old saying 'A #smile shared is one gained for ...</td>\n",
       "      <td>joy</td>\n",
       "    </tr>\n",
       "    <tr>\n",
       "      <th>2</th>\n",
       "      <td>Bridget Jones' Baby was bloody hilarious 😅 #Br...</td>\n",
       "      <td>joy</td>\n",
       "    </tr>\n",
       "    <tr>\n",
       "      <th>3</th>\n",
       "      <td>@Elaminova sparkling water makes your life spa...</td>\n",
       "      <td>joy</td>\n",
       "    </tr>\n",
       "    <tr>\n",
       "      <th>4</th>\n",
       "      <td>I'm tired of everybody telling me to chill out...</td>\n",
       "      <td>joy</td>\n",
       "    </tr>\n",
       "    <tr>\n",
       "      <th>...</th>\n",
       "      <td>...</td>\n",
       "      <td>...</td>\n",
       "    </tr>\n",
       "    <tr>\n",
       "      <th>3608</th>\n",
       "      <td>@VivienLloyd Thank you so much! Just home - st...</td>\n",
       "      <td>sadness</td>\n",
       "    </tr>\n",
       "    <tr>\n",
       "      <th>3609</th>\n",
       "      <td>Just put the winter duvet on ☃️❄️🌬☔️</td>\n",
       "      <td>sadness</td>\n",
       "    </tr>\n",
       "    <tr>\n",
       "      <th>3610</th>\n",
       "      <td>@SilkInSide @TommyJoeRatliff that's so pretty!...</td>\n",
       "      <td>sadness</td>\n",
       "    </tr>\n",
       "    <tr>\n",
       "      <th>3611</th>\n",
       "      <td>@BluesfestByron second artist announcement loo...</td>\n",
       "      <td>sadness</td>\n",
       "    </tr>\n",
       "    <tr>\n",
       "      <th>3612</th>\n",
       "      <td>I can literally eat creamy pesto pasta topped ...</td>\n",
       "      <td>sadness</td>\n",
       "    </tr>\n",
       "  </tbody>\n",
       "</table>\n",
       "<p>6755 rows × 2 columns</p>\n",
       "</div>"
      ],
      "text/plain": [
       "                                                   text    label\n",
       "0     You must be knowing #blithe means (adj.)  Happ...      joy\n",
       "1     Old saying 'A #smile shared is one gained for ...      joy\n",
       "2     Bridget Jones' Baby was bloody hilarious 😅 #Br...      joy\n",
       "3     @Elaminova sparkling water makes your life spa...      joy\n",
       "4     I'm tired of everybody telling me to chill out...      joy\n",
       "...                                                 ...      ...\n",
       "3608  @VivienLloyd Thank you so much! Just home - st...  sadness\n",
       "3609              Just put the winter duvet on ☃️❄️🌬☔️   sadness\n",
       "3610  @SilkInSide @TommyJoeRatliff that's so pretty!...  sadness\n",
       "3611  @BluesfestByron second artist announcement loo...  sadness\n",
       "3612  I can literally eat creamy pesto pasta topped ...  sadness\n",
       "\n",
       "[6755 rows x 2 columns]"
      ]
     },
     "execution_count": 3,
     "metadata": {},
     "output_type": "execute_result"
    }
   ],
   "source": [
    "df"
   ]
  },
  {
   "cell_type": "code",
   "execution_count": 4,
   "metadata": {},
   "outputs": [
    {
     "data": {
      "text/plain": [
       "<matplotlib.axes._subplots.AxesSubplot at 0x160dbd17eb0>"
      ]
     },
     "execution_count": 4,
     "metadata": {},
     "output_type": "execute_result"
    },
    {
     "data": {
      "image/png": "[encoded data removed]",
      "text/plain": [
       "<Figure size 432x288 with 1 Axes>"
      ]
     },
     "metadata": {
      "needs_background": "light"
     },
     "output_type": "display_data"
    }
   ],
   "source": [
    "sns.countplot(data=df, x='label')"
   ]
  },
  {
   "cell_type": "code",
   "execution_count": 5,
   "metadata": {},
   "outputs": [],
   "source": [
    "#Let's see if the length of the message affects the label \n",
    "df['text_len'] = df['text'].apply(lambda x: len(x))\n",
    "df_bylabel = df.groupby('label').sum()"
   ]
  },
  {
   "cell_type": "code",
   "execution_count": 6,
   "metadata": {},
   "outputs": [
    {
     "data": {
      "text/plain": [
       "<matplotlib.axes._subplots.AxesSubplot at 0x160ddfbe490>"
      ]
     },
     "execution_count": 6,
     "metadata": {},
     "output_type": "execute_result"
    },
    {
     "data": {
      "image/png": "[encoded data removed]",
      "text/plain": [
       "<Figure size 432x288 with 1 Axes>"
      ]
     },
     "metadata": {
      "needs_background": "light"
     },
     "output_type": "display_data"
    }
   ],
   "source": [
    "df_bylabel.plot.bar()\n",
    "#We see the same distribution per category"
   ]
  },
  {
   "cell_type": "code",
   "execution_count": 7,
   "metadata": {},
   "outputs": [],
   "source": [
    "df = df.applymap(str)"
   ]
  },
  {
   "cell_type": "code",
   "execution_count": 10,
   "metadata": {},
   "outputs": [],
   "source": [
    "lemmatizer = WordNetLemmatizer()\n",
    "\n",
    "#Convert emojis to words \n",
    "with open('Emoji_Dict.p', 'rb') as fp:\n",
    "        Emoji_Dict = pickle.load(fp)\n",
    "Emoji_Dict = {v: k for k, v in Emoji_Dict.items()}\n",
    "\n",
    "def convert_emojis_to_word(mess):\n",
    "    for emot in Emoji_Dict:\n",
    "        mess = re.sub(r'('+emot+')', \"_\".join(Emoji_Dict[emot].replace(\",\",\"\").replace(\":\",\"\").split()), mess)\n",
    "    return mess\n",
    "\n",
    "def text_process(mess):\n",
    "    #Convert emojis to words\n",
    "    mess = convert_emojis_to_word(mess)\n",
    "\n",
    "    # Check characters to see if they are in punctuation\n",
    "    nopunc = [char for char in mess if char not in string.punctuation]\n",
    "    \n",
    "    # Join the characters again to form the string.\n",
    "    nopunc = ''.join(nopunc)\n",
    "    \n",
    "    # Now just remove any stopwords\n",
    "    stop = [word for word in nopunc.split() if word.lower() not in stopwords.words('english')]\n",
    "    \n",
    "    #Lemmatize\n",
    "    lemma = []\n",
    "    for lem in stop: \n",
    "        lemma.append(lemmatizer.lemmatize(lem, pos =\"v\"))\n",
    "\n",
    "    return lemma"
   ]
  },
  {
   "cell_type": "code",
   "execution_count": 9,
   "metadata": {},
   "outputs": [],
   "source": [
    "#Now let's tokenize the data\n",
    "#df['text'] = df['text'].apply(text_process)"
   ]
  },
  {
   "cell_type": "code",
   "execution_count": 10,
   "metadata": {},
   "outputs": [
    {
     "data": {
      "text/html": [
       "<div>\n",
       "<style scoped>\n",
       "    .dataframe tbody tr th:only-of-type {\n",
       "        vertical-align: middle;\n",
       "    }\n",
       "\n",
       "    .dataframe tbody tr th {\n",
       "        vertical-align: top;\n",
       "    }\n",
       "\n",
       "    .dataframe thead th {\n",
       "        text-align: right;\n",
       "    }\n",
       "</style>\n",
       "<table border=\"1\" class=\"dataframe\">\n",
       "  <thead>\n",
       "    <tr style=\"text-align: right;\">\n",
       "      <th></th>\n",
       "      <th>text</th>\n",
       "      <th>label</th>\n",
       "      <th>text_len</th>\n",
       "    </tr>\n",
       "  </thead>\n",
       "  <tbody>\n",
       "    <tr>\n",
       "      <th>0</th>\n",
       "      <td>You must be knowing #blithe means (adj.)  Happ...</td>\n",
       "      <td>joy</td>\n",
       "      <td>58</td>\n",
       "    </tr>\n",
       "    <tr>\n",
       "      <th>1</th>\n",
       "      <td>Old saying 'A #smile shared is one gained for ...</td>\n",
       "      <td>joy</td>\n",
       "      <td>82</td>\n",
       "    </tr>\n",
       "    <tr>\n",
       "      <th>2</th>\n",
       "      <td>Bridget Jones' Baby was bloody hilarious 😅 #Br...</td>\n",
       "      <td>joy</td>\n",
       "      <td>60</td>\n",
       "    </tr>\n",
       "    <tr>\n",
       "      <th>3</th>\n",
       "      <td>@Elaminova sparkling water makes your life spa...</td>\n",
       "      <td>joy</td>\n",
       "      <td>50</td>\n",
       "    </tr>\n",
       "    <tr>\n",
       "      <th>4</th>\n",
       "      <td>I'm tired of everybody telling me to chill out...</td>\n",
       "      <td>joy</td>\n",
       "      <td>125</td>\n",
       "    </tr>\n",
       "  </tbody>\n",
       "</table>\n",
       "</div>"
      ],
      "text/plain": [
       "                                                text label text_len\n",
       "0  You must be knowing #blithe means (adj.)  Happ...   joy       58\n",
       "1  Old saying 'A #smile shared is one gained for ...   joy       82\n",
       "2  Bridget Jones' Baby was bloody hilarious 😅 #Br...   joy       60\n",
       "3  @Elaminova sparkling water makes your life spa...   joy       50\n",
       "4  I'm tired of everybody telling me to chill out...   joy      125"
      ]
     },
     "execution_count": 10,
     "metadata": {},
     "output_type": "execute_result"
    }
   ],
   "source": [
    "df.head()"
   ]
  },
  {
   "cell_type": "code",
   "execution_count": 11,
   "metadata": {},
   "outputs": [],
   "source": [
    "#Time to create the Count Vectorizer\n",
    "from sklearn.feature_extraction.text import CountVectorizer"
   ]
  },
  {
   "cell_type": "code",
   "execution_count": 12,
   "metadata": {},
   "outputs": [],
   "source": [
    "bow_transformer = CountVectorizer(analyzer=text_process).fit(df['text'])"
   ]
  },
  {
   "cell_type": "code",
   "execution_count": 13,
   "metadata": {},
   "outputs": [],
   "source": [
    "text_bow = bow_transformer.transform(df['text'])"
   ]
  },
  {
   "cell_type": "code",
   "execution_count": 14,
   "metadata": {},
   "outputs": [
    {
     "name": "stdout",
     "output_type": "stream",
     "text": [
      "Shape of Sparse Matrix:  (6755, 16522)\n",
      "Amount of Non-Zero occurences:  63481\n"
     ]
    }
   ],
   "source": [
    "print('Shape of Sparse Matrix: ', text_bow.shape)\n",
    "print('Amount of Non-Zero occurences: ', text_bow.nnz)"
   ]
  },
  {
   "cell_type": "code",
   "execution_count": 15,
   "metadata": {},
   "outputs": [
    {
     "name": "stdout",
     "output_type": "stream",
     "text": [
      "sparsity: 0\n"
     ]
    }
   ],
   "source": [
    "sparsity = (100.0 * text_bow.nnz / (text_bow.shape[0] * text_bow.shape[1]))\n",
    "print('sparsity: {}'.format(round(sparsity)))"
   ]
  },
  {
   "cell_type": "code",
   "execution_count": 16,
   "metadata": {},
   "outputs": [
    {
     "name": "stdout",
     "output_type": "stream",
     "text": [
      "(6755, 16522)\n"
     ]
    }
   ],
   "source": [
    "\n",
    "\n",
    "tfidf_transformer = TfidfTransformer().fit(text_bow)\n",
    "text_tfidf = tfidf_transformer.transform(text_bow)\n",
    "print(text_tfidf.shape)"
   ]
  },
  {
   "cell_type": "code",
   "execution_count": 17,
   "metadata": {},
   "outputs": [],
   "source": [
    "\n",
    "sentiment_analysis_model = MultinomialNB().fit(text_tfidf, df['label'])"
   ]
  },
  {
   "cell_type": "code",
   "execution_count": 18,
   "metadata": {},
   "outputs": [
    {
     "name": "stdout",
     "output_type": "stream",
     "text": [
      "['joy' 'joy' 'joy' ... 'sadness' 'sadness' 'sadness']\n"
     ]
    }
   ],
   "source": [
    "all_predictions = sentiment_analysis_model.predict(text_tfidf)\n",
    "print(all_predictions)"
   ]
  },
  {
   "cell_type": "code",
   "execution_count": 19,
   "metadata": {},
   "outputs": [
    {
     "name": "stdout",
     "output_type": "stream",
     "text": [
      "5404 1351 6755\n"
     ]
    }
   ],
   "source": [
    "#from sklearn.model_selection import train_test_split\n",
    "\n",
    "#msg_train, msg_test, label_train, label_test = \\\n",
    "#train_test_split(df['text'], df['label'], test_size=0.2)\n",
    "\n",
    "#print(len(msg_train), len(msg_test), len(msg_train) + len(msg_test))"
   ]
  },
  {
   "cell_type": "code",
   "execution_count": 20,
   "metadata": {},
   "outputs": [],
   "source": []
  },
  {
   "cell_type": "code",
   "execution_count": 21,
   "metadata": {},
   "outputs": [],
   "source": [
    "from sklearn.metrics import classification_report"
   ]
  },
  {
   "cell_type": "markdown",
   "metadata": {},
   "source": [
    "Random Forest"
   ]
  },
  {
   "cell_type": "code",
   "execution_count": 22,
   "metadata": {},
   "outputs": [],
   "source": [
    "#Try RFC!\n",
    "from sklearn import preprocessing\n",
    "Encode = preprocessing.LabelEncoder()\n",
    "from sklearn.ensemble import RandomForestClassifier"
   ]
  },
  {
   "cell_type": "code",
   "execution_count": 23,
   "metadata": {},
   "outputs": [],
   "source": [
    "vect = CountVectorizer()\n",
    "msg_train_vect = vect.fit_transform(msg_train)\n",
    "msg_test_vect = vect.fit_transform(msg_test)"
   ]
  },
  {
   "cell_type": "code",
   "execution_count": 24,
   "metadata": {},
   "outputs": [
    {
     "name": "stdout",
     "output_type": "stream",
     "text": [
      "Model used:  Naive Bayes\n",
      "Cross Validation Scores:  [0.78908418 0.81128585 0.79740981 0.80296022 0.8       ]\n",
      "Classification Report: \n",
      "              precision    recall  f1-score   support\n",
      "\n",
      "       anger       0.74      0.86      0.79       279\n",
      "        fear       0.94      0.62      0.75       650\n",
      "         joy       0.74      0.95      0.84       234\n",
      "     sadness       0.52      0.84      0.64       188\n",
      "\n",
      "    accuracy                           0.76      1351\n",
      "   macro avg       0.74      0.82      0.75      1351\n",
      "weighted avg       0.81      0.76      0.76      1351\n",
      "\n",
      "Confusion Matrix: \n",
      "[[239   4  10  26]\n",
      " [ 71 402  64 113]\n",
      " [  1   4 223   6]\n",
      " [ 12  16   3 157]]\n",
      "Accuracy Score:  0.7557364914877869\n",
      "\n",
      "\n",
      "\n",
      "Model used:  Random Forest Classifier\n",
      "Cross Validation Scores:  [0.84551341 0.83811286 0.85383904 0.8519889  0.84722222]\n",
      "Classification Report: \n",
      "              precision    recall  f1-score   support\n",
      "\n",
      "       anger       0.79      0.87      0.82       293\n",
      "        fear       0.91      0.77      0.83       507\n",
      "         joy       0.87      0.93      0.90       282\n",
      "     sadness       0.74      0.83      0.78       269\n",
      "\n",
      "    accuracy                           0.83      1351\n",
      "   macro avg       0.83      0.85      0.84      1351\n",
      "weighted avg       0.84      0.83      0.84      1351\n",
      "\n",
      "Confusion Matrix: \n",
      "[[254   6   2  31]\n",
      " [ 46 388  34  39]\n",
      " [  7   5 262   8]\n",
      " [ 16  27   2 224]]\n",
      "Accuracy Score:  0.8349370836417469\n",
      "\n",
      "\n",
      "\n",
      "Model used:  Support Vector Machine\n",
      "Cross Validation Scores:  [0.85013876 0.84736355 0.85938945 0.85291397 0.86388889]\n",
      "Classification Report: \n",
      "              precision    recall  f1-score   support\n",
      "\n",
      "       anger       0.87      0.89      0.88       313\n",
      "        fear       0.91      0.89      0.90       437\n",
      "         joy       0.96      0.94      0.95       308\n",
      "     sadness       0.81      0.84      0.82       293\n",
      "\n",
      "    accuracy                           0.89      1351\n",
      "   macro avg       0.89      0.89      0.89      1351\n",
      "weighted avg       0.89      0.89      0.89      1351\n",
      "\n",
      "Confusion Matrix: \n",
      "[[280   4   3  26]\n",
      " [ 22 387   6  22]\n",
      " [  3   7 289   9]\n",
      " [ 18  28   2 245]]\n",
      "Accuracy Score:  0.8889711324944486\n",
      "\n",
      "\n",
      "\n",
      "Model used:  K-Nearest-Neighbor\n",
      "Cross Validation Scores:  [0.40610546 0.40055504 0.44588344 0.42460685 0.41388889]\n",
      "Classification Report: \n",
      "              precision    recall  f1-score   support\n",
      "\n",
      "       anger       0.68      0.54      0.60       407\n",
      "        fear       0.66      0.59      0.62       472\n",
      "         joy       0.56      0.68      0.62       246\n",
      "     sadness       0.49      0.65      0.56       226\n",
      "\n",
      "    accuracy                           0.60      1351\n",
      "   macro avg       0.60      0.62      0.60      1351\n",
      "weighted avg       0.62      0.60      0.60      1351\n",
      "\n",
      "Confusion Matrix: \n",
      "[[219  74  54  60]\n",
      " [ 63 280  60  69]\n",
      " [ 22  30 168  26]\n",
      " [ 19  42  18 147]]\n",
      "Accuracy Score:  0.6025166543301258\n",
      "\n",
      "\n",
      "\n"
     ]
    }
   ],
   "source": [
    "#Test the models\n",
    "#classifiers = {\n",
    "#    'Naive Bayes': MultinomialNB(),\n",
    "#    'Random Forest Classifier': RandomForestClassifier(random_state=143, n_jobs=8),\n",
    "#    'Support Vector Machine': LinearSVC(max_iter=10000, random_state=143),\n",
    "#    'K-Nearest-Neighbor': KNeighborsClassifier(n_neighbors=4)\n",
    "#}\n",
    "\n",
    "#for clas in classifiers: \n",
    "    \n",
    "#    #Create pipeline\n",
    "#    pipeline = Pipeline([\n",
    "#    ('bow', CountVectorizer(analyzer=text_process)),  # strings to token integer counts\n",
    "#    ('tfidf', TfidfTransformer()),  # integer counts to weighted TF-IDF scores\n",
    "#    ('classifier', classifiers[clas])  # train on TF-IDF vectors\n",
    "#    ])\n",
    "\n",
    "#    #Fitting pipeline\n",
    "#    pipeline.fit(msg_train,label_train)\n",
    "\n",
    "#    #Cross-Validation\n",
    "#    scores = cross_val_score(classifiers[clas], msg_train_vect, label_train)\n",
    "\n",
    "    #Model resulting metrics\n",
    "    preds = pipeline.predict(msg_test)\n",
    "    print('Model used: ', clas)\n",
    "    print('Cross Validation Scores: ',scores)\n",
    "    print('Classification Report: ')\n",
    "    print(classification_report(preds,label_test))\n",
    "    print('Confusion Matrix: ')\n",
    "    print(confusion_matrix(preds,label_test))\n",
    "    print(\"Accuracy Score: \", accuracy_score(preds, label_test))\n",
    "    print('\\n\\n')\n",
    "    "
   ]
  },
  {
   "cell_type": "markdown",
   "metadata": {},
   "source": [
    "Random Forest Classifier - Grid Search"
   ]
  },
  {
   "cell_type": "code",
   "execution_count": 25,
   "metadata": {},
   "outputs": [
    {
     "name": "stdout",
     "output_type": "stream",
     "text": [
      "Fitting 4 folds for each of 60 candidates, totalling 240 fits\n",
      "[CV] randomforestclassifier__max_depth=2, randomforestclassifier__max_features=2, randomforestclassifier__n_estimators=1 \n"
     ]
    },
    {
     "name": "stderr",
     "output_type": "stream",
     "text": [
      "[Parallel(n_jobs=1)]: Using backend SequentialBackend with 1 concurrent workers.\n"
     ]
    },
    {
     "name": "stdout",
     "output_type": "stream",
     "text": [
      "[CV]  randomforestclassifier__max_depth=2, randomforestclassifier__max_features=2, randomforestclassifier__n_estimators=1, score=0.319, total=13.1min\n",
      "[CV] randomforestclassifier__max_depth=2, randomforestclassifier__max_features=2, randomforestclassifier__n_estimators=1 \n"
     ]
    },
    {
     "name": "stderr",
     "output_type": "stream",
     "text": [
      "[Parallel(n_jobs=1)]: Done   1 out of   1 | elapsed: 13.1min remaining:    0.0s\n"
     ]
    },
    {
     "name": "stdout",
     "output_type": "stream",
     "text": [
      "[CV]  randomforestclassifier__max_depth=2, randomforestclassifier__max_features=2, randomforestclassifier__n_estimators=1, score=0.318, total=447.0min\n",
      "[CV] randomforestclassifier__max_depth=2, randomforestclassifier__max_features=2, randomforestclassifier__n_estimators=1 \n"
     ]
    },
    {
     "name": "stderr",
     "output_type": "stream",
     "text": [
      "[Parallel(n_jobs=1)]: Done   2 out of   2 | elapsed: 460.1min remaining:    0.0s\n"
     ]
    },
    {
     "name": "stdout",
     "output_type": "stream",
     "text": [
      "[CV]  randomforestclassifier__max_depth=2, randomforestclassifier__max_features=2, randomforestclassifier__n_estimators=1, score=0.318, total=14.6min\n",
      "[CV] randomforestclassifier__max_depth=2, randomforestclassifier__max_features=2, randomforestclassifier__n_estimators=1 \n"
     ]
    },
    {
     "name": "stderr",
     "output_type": "stream",
     "text": [
      "[Parallel(n_jobs=1)]: Done   3 out of   3 | elapsed: 474.7min remaining:    0.0s\n"
     ]
    },
    {
     "name": "stdout",
     "output_type": "stream",
     "text": [
      "[CV]  randomforestclassifier__max_depth=2, randomforestclassifier__max_features=2, randomforestclassifier__n_estimators=1, score=0.318, total=14.8min\n",
      "[CV] randomforestclassifier__max_depth=2, randomforestclassifier__max_features=2, randomforestclassifier__n_estimators=5 \n"
     ]
    },
    {
     "name": "stderr",
     "output_type": "stream",
     "text": [
      "[Parallel(n_jobs=1)]: Done   4 out of   4 | elapsed: 489.5min remaining:    0.0s\n"
     ]
    },
    {
     "name": "stdout",
     "output_type": "stream",
     "text": [
      "[CV]  randomforestclassifier__max_depth=2, randomforestclassifier__max_features=2, randomforestclassifier__n_estimators=5, score=0.318, total=16.5min\n",
      "[CV] randomforestclassifier__max_depth=2, randomforestclassifier__max_features=2, randomforestclassifier__n_estimators=5 \n"
     ]
    },
    {
     "name": "stderr",
     "output_type": "stream",
     "text": [
      "[Parallel(n_jobs=1)]: Done   5 out of   5 | elapsed: 505.9min remaining:    0.0s\n"
     ]
    },
    {
     "name": "stdout",
     "output_type": "stream",
     "text": [
      "[CV]  randomforestclassifier__max_depth=2, randomforestclassifier__max_features=2, randomforestclassifier__n_estimators=5, score=0.320, total=15.4min\n",
      "[CV] randomforestclassifier__max_depth=2, randomforestclassifier__max_features=2, randomforestclassifier__n_estimators=5 \n"
     ]
    },
    {
     "name": "stderr",
     "output_type": "stream",
     "text": [
      "[Parallel(n_jobs=1)]: Done   6 out of   6 | elapsed: 521.4min remaining:    0.0s\n"
     ]
    },
    {
     "name": "stdout",
     "output_type": "stream",
     "text": [
      "[CV]  randomforestclassifier__max_depth=2, randomforestclassifier__max_features=2, randomforestclassifier__n_estimators=5, score=0.318, total=15.1min\n",
      "[CV] randomforestclassifier__max_depth=2, randomforestclassifier__max_features=2, randomforestclassifier__n_estimators=5 \n"
     ]
    },
    {
     "name": "stderr",
     "output_type": "stream",
     "text": [
      "[Parallel(n_jobs=1)]: Done   7 out of   7 | elapsed: 536.4min remaining:    0.0s\n"
     ]
    },
    {
     "name": "stdout",
     "output_type": "stream",
     "text": [
      "[CV]  randomforestclassifier__max_depth=2, randomforestclassifier__max_features=2, randomforestclassifier__n_estimators=5, score=0.318, total=14.1min\n",
      "[CV] randomforestclassifier__max_depth=2, randomforestclassifier__max_features=2, randomforestclassifier__n_estimators=10 \n"
     ]
    },
    {
     "name": "stderr",
     "output_type": "stream",
     "text": [
      "[Parallel(n_jobs=1)]: Done   8 out of   8 | elapsed: 550.5min remaining:    0.0s\n"
     ]
    },
    {
     "name": "stdout",
     "output_type": "stream",
     "text": [
      "[CV]  randomforestclassifier__max_depth=2, randomforestclassifier__max_features=2, randomforestclassifier__n_estimators=10, score=0.319, total=22.7min\n",
      "[CV] randomforestclassifier__max_depth=2, randomforestclassifier__max_features=2, randomforestclassifier__n_estimators=10 \n"
     ]
    },
    {
     "name": "stderr",
     "output_type": "stream",
     "text": [
      "[Parallel(n_jobs=1)]: Done   9 out of   9 | elapsed: 573.2min remaining:    0.0s\n"
     ]
    },
    {
     "name": "stdout",
     "output_type": "stream",
     "text": [
      "[CV]  randomforestclassifier__max_depth=2, randomforestclassifier__max_features=2, randomforestclassifier__n_estimators=10, score=0.318, total=13.7min\n",
      "[CV] randomforestclassifier__max_depth=2, randomforestclassifier__max_features=2, randomforestclassifier__n_estimators=10 \n",
      "[CV]  randomforestclassifier__max_depth=2, randomforestclassifier__max_features=2, randomforestclassifier__n_estimators=10, score=0.318, total=20.6min\n",
      "[CV] randomforestclassifier__max_depth=2, randomforestclassifier__max_features=2, randomforestclassifier__n_estimators=10 \n",
      "[CV]  randomforestclassifier__max_depth=2, randomforestclassifier__max_features=2, randomforestclassifier__n_estimators=10, score=0.319, total=22.8min\n",
      "[CV] randomforestclassifier__max_depth=2, randomforestclassifier__max_features=2, randomforestclassifier__n_estimators=20 \n",
      "[CV]  randomforestclassifier__max_depth=2, randomforestclassifier__max_features=2, randomforestclassifier__n_estimators=20, score=0.318, total=16.2min\n",
      "[CV] randomforestclassifier__max_depth=2, randomforestclassifier__max_features=2, randomforestclassifier__n_estimators=20 \n",
      "[CV]  randomforestclassifier__max_depth=2, randomforestclassifier__max_features=2, randomforestclassifier__n_estimators=20, score=0.318, total=20.3min\n",
      "[CV] randomforestclassifier__max_depth=2, randomforestclassifier__max_features=2, randomforestclassifier__n_estimators=20 \n",
      "[CV]  randomforestclassifier__max_depth=2, randomforestclassifier__max_features=2, randomforestclassifier__n_estimators=20, score=0.318, total=13.5min\n",
      "[CV] randomforestclassifier__max_depth=2, randomforestclassifier__max_features=2, randomforestclassifier__n_estimators=20 \n",
      "[CV]  randomforestclassifier__max_depth=2, randomforestclassifier__max_features=2, randomforestclassifier__n_estimators=20, score=0.318, total=12.5min\n",
      "[CV] randomforestclassifier__max_depth=2, randomforestclassifier__max_features=2, randomforestclassifier__n_estimators=50 \n",
      "[CV]  randomforestclassifier__max_depth=2, randomforestclassifier__max_features=2, randomforestclassifier__n_estimators=50, score=0.318, total=13.8min\n",
      "[CV] randomforestclassifier__max_depth=2, randomforestclassifier__max_features=2, randomforestclassifier__n_estimators=50 \n",
      "[CV]  randomforestclassifier__max_depth=2, randomforestclassifier__max_features=2, randomforestclassifier__n_estimators=50, score=0.318, total=12.8min\n",
      "[CV] randomforestclassifier__max_depth=2, randomforestclassifier__max_features=2, randomforestclassifier__n_estimators=50 \n",
      "[CV]  randomforestclassifier__max_depth=2, randomforestclassifier__max_features=2, randomforestclassifier__n_estimators=50, score=0.318, total=12.9min\n",
      "[CV] randomforestclassifier__max_depth=2, randomforestclassifier__max_features=2, randomforestclassifier__n_estimators=50 \n",
      "[CV]  randomforestclassifier__max_depth=2, randomforestclassifier__max_features=2, randomforestclassifier__n_estimators=50, score=0.318, total=58.9min\n",
      "[CV] randomforestclassifier__max_depth=2, randomforestclassifier__max_features=3, randomforestclassifier__n_estimators=1 \n",
      "[CV]  randomforestclassifier__max_depth=2, randomforestclassifier__max_features=3, randomforestclassifier__n_estimators=1, score=0.324, total=17.4min\n",
      "[CV] randomforestclassifier__max_depth=2, randomforestclassifier__max_features=3, randomforestclassifier__n_estimators=1 \n",
      "[CV]  randomforestclassifier__max_depth=2, randomforestclassifier__max_features=3, randomforestclassifier__n_estimators=1, score=0.318, total=16.0min\n",
      "[CV] randomforestclassifier__max_depth=2, randomforestclassifier__max_features=3, randomforestclassifier__n_estimators=1 \n",
      "[CV]  randomforestclassifier__max_depth=2, randomforestclassifier__max_features=3, randomforestclassifier__n_estimators=1, score=0.321, total=16.1min\n",
      "[CV] randomforestclassifier__max_depth=2, randomforestclassifier__max_features=3, randomforestclassifier__n_estimators=1 \n",
      "[CV]  randomforestclassifier__max_depth=2, randomforestclassifier__max_features=3, randomforestclassifier__n_estimators=1, score=0.318, total=15.9min\n",
      "[CV] randomforestclassifier__max_depth=2, randomforestclassifier__max_features=3, randomforestclassifier__n_estimators=5 \n",
      "[CV]  randomforestclassifier__max_depth=2, randomforestclassifier__max_features=3, randomforestclassifier__n_estimators=5, score=0.324, total=15.9min\n",
      "[CV] randomforestclassifier__max_depth=2, randomforestclassifier__max_features=3, randomforestclassifier__n_estimators=5 \n",
      "[CV]  randomforestclassifier__max_depth=2, randomforestclassifier__max_features=3, randomforestclassifier__n_estimators=5, score=0.319, total=13.6min\n",
      "[CV] randomforestclassifier__max_depth=2, randomforestclassifier__max_features=3, randomforestclassifier__n_estimators=5 \n",
      "[CV]  randomforestclassifier__max_depth=2, randomforestclassifier__max_features=3, randomforestclassifier__n_estimators=5, score=0.321, total=13.1min\n",
      "[CV] randomforestclassifier__max_depth=2, randomforestclassifier__max_features=3, randomforestclassifier__n_estimators=5 \n",
      "[CV]  randomforestclassifier__max_depth=2, randomforestclassifier__max_features=3, randomforestclassifier__n_estimators=5, score=0.319, total=14.4min\n",
      "[CV] randomforestclassifier__max_depth=2, randomforestclassifier__max_features=3, randomforestclassifier__n_estimators=10 \n",
      "[CV]  randomforestclassifier__max_depth=2, randomforestclassifier__max_features=3, randomforestclassifier__n_estimators=10, score=0.323, total=41.8min\n",
      "[CV] randomforestclassifier__max_depth=2, randomforestclassifier__max_features=3, randomforestclassifier__n_estimators=10 \n",
      "[CV]  randomforestclassifier__max_depth=2, randomforestclassifier__max_features=3, randomforestclassifier__n_estimators=10, score=0.324, total=13.6min\n",
      "[CV] randomforestclassifier__max_depth=2, randomforestclassifier__max_features=3, randomforestclassifier__n_estimators=10 \n",
      "[CV]  randomforestclassifier__max_depth=2, randomforestclassifier__max_features=3, randomforestclassifier__n_estimators=10, score=0.321, total=11.5min\n",
      "[CV] randomforestclassifier__max_depth=2, randomforestclassifier__max_features=3, randomforestclassifier__n_estimators=10 \n",
      "[CV]  randomforestclassifier__max_depth=2, randomforestclassifier__max_features=3, randomforestclassifier__n_estimators=10, score=0.320, total=12.1min\n",
      "[CV] randomforestclassifier__max_depth=2, randomforestclassifier__max_features=3, randomforestclassifier__n_estimators=20 \n",
      "[CV]  randomforestclassifier__max_depth=2, randomforestclassifier__max_features=3, randomforestclassifier__n_estimators=20, score=0.318, total=11.3min\n",
      "[CV] randomforestclassifier__max_depth=2, randomforestclassifier__max_features=3, randomforestclassifier__n_estimators=20 \n",
      "[CV]  randomforestclassifier__max_depth=2, randomforestclassifier__max_features=3, randomforestclassifier__n_estimators=20, score=0.318, total=11.1min\n",
      "[CV] randomforestclassifier__max_depth=2, randomforestclassifier__max_features=3, randomforestclassifier__n_estimators=20 \n",
      "[CV]  randomforestclassifier__max_depth=2, randomforestclassifier__max_features=3, randomforestclassifier__n_estimators=20, score=0.318, total=10.9min\n",
      "[CV] randomforestclassifier__max_depth=2, randomforestclassifier__max_features=3, randomforestclassifier__n_estimators=20 \n",
      "[CV]  randomforestclassifier__max_depth=2, randomforestclassifier__max_features=3, randomforestclassifier__n_estimators=20, score=0.318, total=10.8min\n",
      "[CV] randomforestclassifier__max_depth=2, randomforestclassifier__max_features=3, randomforestclassifier__n_estimators=50 \n",
      "[CV]  randomforestclassifier__max_depth=2, randomforestclassifier__max_features=3, randomforestclassifier__n_estimators=50, score=0.318, total=10.7min\n",
      "[CV] randomforestclassifier__max_depth=2, randomforestclassifier__max_features=3, randomforestclassifier__n_estimators=50 \n",
      "[CV]  randomforestclassifier__max_depth=2, randomforestclassifier__max_features=3, randomforestclassifier__n_estimators=50, score=0.318, total=10.8min\n",
      "[CV] randomforestclassifier__max_depth=2, randomforestclassifier__max_features=3, randomforestclassifier__n_estimators=50 \n",
      "[CV]  randomforestclassifier__max_depth=2, randomforestclassifier__max_features=3, randomforestclassifier__n_estimators=50, score=0.318, total=10.6min\n",
      "[CV] randomforestclassifier__max_depth=2, randomforestclassifier__max_features=3, randomforestclassifier__n_estimators=50 \n",
      "[CV]  randomforestclassifier__max_depth=2, randomforestclassifier__max_features=3, randomforestclassifier__n_estimators=50, score=0.318, total=10.6min\n",
      "[CV] randomforestclassifier__max_depth=2, randomforestclassifier__max_features=4, randomforestclassifier__n_estimators=1 \n",
      "[CV]  randomforestclassifier__max_depth=2, randomforestclassifier__max_features=4, randomforestclassifier__n_estimators=1, score=0.319, total=10.5min\n",
      "[CV] randomforestclassifier__max_depth=2, randomforestclassifier__max_features=4, randomforestclassifier__n_estimators=1 \n",
      "[CV]  randomforestclassifier__max_depth=2, randomforestclassifier__max_features=4, randomforestclassifier__n_estimators=1, score=0.318, total=10.5min\n",
      "[CV] randomforestclassifier__max_depth=2, randomforestclassifier__max_features=4, randomforestclassifier__n_estimators=1 \n",
      "[CV]  randomforestclassifier__max_depth=2, randomforestclassifier__max_features=4, randomforestclassifier__n_estimators=1, score=0.318, total=10.2min\n",
      "[CV] randomforestclassifier__max_depth=2, randomforestclassifier__max_features=4, randomforestclassifier__n_estimators=1 \n",
      "[CV]  randomforestclassifier__max_depth=2, randomforestclassifier__max_features=4, randomforestclassifier__n_estimators=1, score=0.318, total=10.5min\n",
      "[CV] randomforestclassifier__max_depth=2, randomforestclassifier__max_features=4, randomforestclassifier__n_estimators=5 \n",
      "[CV]  randomforestclassifier__max_depth=2, randomforestclassifier__max_features=4, randomforestclassifier__n_estimators=5, score=0.319, total=10.4min\n",
      "[CV] randomforestclassifier__max_depth=2, randomforestclassifier__max_features=4, randomforestclassifier__n_estimators=5 \n",
      "[CV]  randomforestclassifier__max_depth=2, randomforestclassifier__max_features=4, randomforestclassifier__n_estimators=5, score=0.320, total=10.2min\n",
      "[CV] randomforestclassifier__max_depth=2, randomforestclassifier__max_features=4, randomforestclassifier__n_estimators=5 \n",
      "[CV]  randomforestclassifier__max_depth=2, randomforestclassifier__max_features=4, randomforestclassifier__n_estimators=5, score=0.318, total=10.1min\n",
      "[CV] randomforestclassifier__max_depth=2, randomforestclassifier__max_features=4, randomforestclassifier__n_estimators=5 \n",
      "[CV]  randomforestclassifier__max_depth=2, randomforestclassifier__max_features=4, randomforestclassifier__n_estimators=5, score=0.318, total=10.1min\n",
      "[CV] randomforestclassifier__max_depth=2, randomforestclassifier__max_features=4, randomforestclassifier__n_estimators=10 \n",
      "[CV]  randomforestclassifier__max_depth=2, randomforestclassifier__max_features=4, randomforestclassifier__n_estimators=10, score=0.323, total=10.1min\n",
      "[CV] randomforestclassifier__max_depth=2, randomforestclassifier__max_features=4, randomforestclassifier__n_estimators=10 \n",
      "[CV]  randomforestclassifier__max_depth=2, randomforestclassifier__max_features=4, randomforestclassifier__n_estimators=10, score=0.318, total=10.6min\n",
      "[CV] randomforestclassifier__max_depth=2, randomforestclassifier__max_features=4, randomforestclassifier__n_estimators=10 \n",
      "[CV]  randomforestclassifier__max_depth=2, randomforestclassifier__max_features=4, randomforestclassifier__n_estimators=10, score=0.319, total=10.3min\n",
      "[CV] randomforestclassifier__max_depth=2, randomforestclassifier__max_features=4, randomforestclassifier__n_estimators=10 \n",
      "[CV]  randomforestclassifier__max_depth=2, randomforestclassifier__max_features=4, randomforestclassifier__n_estimators=10, score=0.319, total=10.2min\n",
      "[CV] randomforestclassifier__max_depth=2, randomforestclassifier__max_features=4, randomforestclassifier__n_estimators=20 \n",
      "[CV]  randomforestclassifier__max_depth=2, randomforestclassifier__max_features=4, randomforestclassifier__n_estimators=20, score=0.318, total=10.1min\n",
      "[CV] randomforestclassifier__max_depth=2, randomforestclassifier__max_features=4, randomforestclassifier__n_estimators=20 \n",
      "[CV]  randomforestclassifier__max_depth=2, randomforestclassifier__max_features=4, randomforestclassifier__n_estimators=20, score=0.318, total=10.1min\n",
      "[CV] randomforestclassifier__max_depth=2, randomforestclassifier__max_features=4, randomforestclassifier__n_estimators=20 \n",
      "[CV]  randomforestclassifier__max_depth=2, randomforestclassifier__max_features=4, randomforestclassifier__n_estimators=20, score=0.318, total=10.1min\n",
      "[CV] randomforestclassifier__max_depth=2, randomforestclassifier__max_features=4, randomforestclassifier__n_estimators=20 \n",
      "[CV]  randomforestclassifier__max_depth=2, randomforestclassifier__max_features=4, randomforestclassifier__n_estimators=20, score=0.318, total=10.4min\n",
      "[CV] randomforestclassifier__max_depth=2, randomforestclassifier__max_features=4, randomforestclassifier__n_estimators=50 \n",
      "[CV]  randomforestclassifier__max_depth=2, randomforestclassifier__max_features=4, randomforestclassifier__n_estimators=50, score=0.318, total=11.1min\n",
      "[CV] randomforestclassifier__max_depth=2, randomforestclassifier__max_features=4, randomforestclassifier__n_estimators=50 \n",
      "[CV]  randomforestclassifier__max_depth=2, randomforestclassifier__max_features=4, randomforestclassifier__n_estimators=50, score=0.318, total=11.5min\n",
      "[CV] randomforestclassifier__max_depth=2, randomforestclassifier__max_features=4, randomforestclassifier__n_estimators=50 \n",
      "[CV]  randomforestclassifier__max_depth=2, randomforestclassifier__max_features=4, randomforestclassifier__n_estimators=50, score=0.318, total=11.3min\n",
      "[CV] randomforestclassifier__max_depth=2, randomforestclassifier__max_features=4, randomforestclassifier__n_estimators=50 \n",
      "[CV]  randomforestclassifier__max_depth=2, randomforestclassifier__max_features=4, randomforestclassifier__n_estimators=50, score=0.318, total=11.3min\n",
      "[CV] randomforestclassifier__max_depth=5, randomforestclassifier__max_features=2, randomforestclassifier__n_estimators=1 \n",
      "[CV]  randomforestclassifier__max_depth=5, randomforestclassifier__max_features=2, randomforestclassifier__n_estimators=1, score=0.320, total=11.5min\n",
      "[CV] randomforestclassifier__max_depth=5, randomforestclassifier__max_features=2, randomforestclassifier__n_estimators=1 \n",
      "[CV]  randomforestclassifier__max_depth=5, randomforestclassifier__max_features=2, randomforestclassifier__n_estimators=1, score=0.318, total=13.3min\n",
      "[CV] randomforestclassifier__max_depth=5, randomforestclassifier__max_features=2, randomforestclassifier__n_estimators=1 \n",
      "[CV]  randomforestclassifier__max_depth=5, randomforestclassifier__max_features=2, randomforestclassifier__n_estimators=1, score=0.318, total=12.9min\n",
      "[CV] randomforestclassifier__max_depth=5, randomforestclassifier__max_features=2, randomforestclassifier__n_estimators=1 \n",
      "[CV]  randomforestclassifier__max_depth=5, randomforestclassifier__max_features=2, randomforestclassifier__n_estimators=1, score=0.322, total=12.9min\n",
      "[CV] randomforestclassifier__max_depth=5, randomforestclassifier__max_features=2, randomforestclassifier__n_estimators=5 \n",
      "[CV]  randomforestclassifier__max_depth=5, randomforestclassifier__max_features=2, randomforestclassifier__n_estimators=5, score=0.320, total=13.9min\n",
      "[CV] randomforestclassifier__max_depth=5, randomforestclassifier__max_features=2, randomforestclassifier__n_estimators=5 \n",
      "[CV]  randomforestclassifier__max_depth=5, randomforestclassifier__max_features=2, randomforestclassifier__n_estimators=5, score=0.321, total=14.4min\n",
      "[CV] randomforestclassifier__max_depth=5, randomforestclassifier__max_features=2, randomforestclassifier__n_estimators=5 \n",
      "[CV]  randomforestclassifier__max_depth=5, randomforestclassifier__max_features=2, randomforestclassifier__n_estimators=5, score=0.325, total=14.3min\n",
      "[CV] randomforestclassifier__max_depth=5, randomforestclassifier__max_features=2, randomforestclassifier__n_estimators=5 \n",
      "[CV]  randomforestclassifier__max_depth=5, randomforestclassifier__max_features=2, randomforestclassifier__n_estimators=5, score=0.318, total=12.7min\n",
      "[CV] randomforestclassifier__max_depth=5, randomforestclassifier__max_features=2, randomforestclassifier__n_estimators=10 \n",
      "[CV]  randomforestclassifier__max_depth=5, randomforestclassifier__max_features=2, randomforestclassifier__n_estimators=10, score=0.324, total=11.0min\n",
      "[CV] randomforestclassifier__max_depth=5, randomforestclassifier__max_features=2, randomforestclassifier__n_estimators=10 \n",
      "[CV]  randomforestclassifier__max_depth=5, randomforestclassifier__max_features=2, randomforestclassifier__n_estimators=10, score=0.323, total=11.4min\n",
      "[CV] randomforestclassifier__max_depth=5, randomforestclassifier__max_features=2, randomforestclassifier__n_estimators=10 \n",
      "[CV]  randomforestclassifier__max_depth=5, randomforestclassifier__max_features=2, randomforestclassifier__n_estimators=10, score=0.322, total=11.4min\n",
      "[CV] randomforestclassifier__max_depth=5, randomforestclassifier__max_features=2, randomforestclassifier__n_estimators=10 \n",
      "[CV]  randomforestclassifier__max_depth=5, randomforestclassifier__max_features=2, randomforestclassifier__n_estimators=10, score=0.321, total=11.2min\n",
      "[CV] randomforestclassifier__max_depth=5, randomforestclassifier__max_features=2, randomforestclassifier__n_estimators=20 \n",
      "[CV]  randomforestclassifier__max_depth=5, randomforestclassifier__max_features=2, randomforestclassifier__n_estimators=20, score=0.318, total=11.3min\n",
      "[CV] randomforestclassifier__max_depth=5, randomforestclassifier__max_features=2, randomforestclassifier__n_estimators=20 \n",
      "[CV]  randomforestclassifier__max_depth=5, randomforestclassifier__max_features=2, randomforestclassifier__n_estimators=20, score=0.318, total=11.3min\n",
      "[CV] randomforestclassifier__max_depth=5, randomforestclassifier__max_features=2, randomforestclassifier__n_estimators=20 \n",
      "[CV]  randomforestclassifier__max_depth=5, randomforestclassifier__max_features=2, randomforestclassifier__n_estimators=20, score=0.318, total=11.2min\n",
      "[CV] randomforestclassifier__max_depth=5, randomforestclassifier__max_features=2, randomforestclassifier__n_estimators=20 \n",
      "[CV]  randomforestclassifier__max_depth=5, randomforestclassifier__max_features=2, randomforestclassifier__n_estimators=20, score=0.318, total=11.4min\n",
      "[CV] randomforestclassifier__max_depth=5, randomforestclassifier__max_features=2, randomforestclassifier__n_estimators=50 \n",
      "[CV]  randomforestclassifier__max_depth=5, randomforestclassifier__max_features=2, randomforestclassifier__n_estimators=50, score=0.318, total=11.4min\n",
      "[CV] randomforestclassifier__max_depth=5, randomforestclassifier__max_features=2, randomforestclassifier__n_estimators=50 \n",
      "[CV]  randomforestclassifier__max_depth=5, randomforestclassifier__max_features=2, randomforestclassifier__n_estimators=50, score=0.318, total=11.4min\n",
      "[CV] randomforestclassifier__max_depth=5, randomforestclassifier__max_features=2, randomforestclassifier__n_estimators=50 \n",
      "[CV]  randomforestclassifier__max_depth=5, randomforestclassifier__max_features=2, randomforestclassifier__n_estimators=50, score=0.318, total=11.3min\n",
      "[CV] randomforestclassifier__max_depth=5, randomforestclassifier__max_features=2, randomforestclassifier__n_estimators=50 \n",
      "[CV]  randomforestclassifier__max_depth=5, randomforestclassifier__max_features=2, randomforestclassifier__n_estimators=50, score=0.318, total=11.2min\n",
      "[CV] randomforestclassifier__max_depth=5, randomforestclassifier__max_features=3, randomforestclassifier__n_estimators=1 \n",
      "[CV]  randomforestclassifier__max_depth=5, randomforestclassifier__max_features=3, randomforestclassifier__n_estimators=1, score=0.329, total=11.5min\n",
      "[CV] randomforestclassifier__max_depth=5, randomforestclassifier__max_features=3, randomforestclassifier__n_estimators=1 \n",
      "[CV]  randomforestclassifier__max_depth=5, randomforestclassifier__max_features=3, randomforestclassifier__n_estimators=1, score=0.318, total=11.4min\n",
      "[CV] randomforestclassifier__max_depth=5, randomforestclassifier__max_features=3, randomforestclassifier__n_estimators=1 \n",
      "[CV]  randomforestclassifier__max_depth=5, randomforestclassifier__max_features=3, randomforestclassifier__n_estimators=1, score=0.321, total=11.3min\n",
      "[CV] randomforestclassifier__max_depth=5, randomforestclassifier__max_features=3, randomforestclassifier__n_estimators=1 \n",
      "[CV]  randomforestclassifier__max_depth=5, randomforestclassifier__max_features=3, randomforestclassifier__n_estimators=1, score=0.318, total=12.0min\n",
      "[CV] randomforestclassifier__max_depth=5, randomforestclassifier__max_features=3, randomforestclassifier__n_estimators=5 \n",
      "[CV]  randomforestclassifier__max_depth=5, randomforestclassifier__max_features=3, randomforestclassifier__n_estimators=5, score=0.327, total=11.3min\n",
      "[CV] randomforestclassifier__max_depth=5, randomforestclassifier__max_features=3, randomforestclassifier__n_estimators=5 \n",
      "[CV]  randomforestclassifier__max_depth=5, randomforestclassifier__max_features=3, randomforestclassifier__n_estimators=5, score=0.321, total=11.5min\n",
      "[CV] randomforestclassifier__max_depth=5, randomforestclassifier__max_features=3, randomforestclassifier__n_estimators=5 \n",
      "[CV]  randomforestclassifier__max_depth=5, randomforestclassifier__max_features=3, randomforestclassifier__n_estimators=5, score=0.347, total=11.5min\n",
      "[CV] randomforestclassifier__max_depth=5, randomforestclassifier__max_features=3, randomforestclassifier__n_estimators=5 \n",
      "[CV]  randomforestclassifier__max_depth=5, randomforestclassifier__max_features=3, randomforestclassifier__n_estimators=5, score=0.321, total=12.9min\n",
      "[CV] randomforestclassifier__max_depth=5, randomforestclassifier__max_features=3, randomforestclassifier__n_estimators=10 \n",
      "[CV]  randomforestclassifier__max_depth=5, randomforestclassifier__max_features=3, randomforestclassifier__n_estimators=10, score=0.327, total=11.5min\n",
      "[CV] randomforestclassifier__max_depth=5, randomforestclassifier__max_features=3, randomforestclassifier__n_estimators=10 \n",
      "[CV]  randomforestclassifier__max_depth=5, randomforestclassifier__max_features=3, randomforestclassifier__n_estimators=10, score=0.332, total=11.3min\n",
      "[CV] randomforestclassifier__max_depth=5, randomforestclassifier__max_features=3, randomforestclassifier__n_estimators=10 \n",
      "[CV]  randomforestclassifier__max_depth=5, randomforestclassifier__max_features=3, randomforestclassifier__n_estimators=10, score=0.326, total=11.7min\n",
      "[CV] randomforestclassifier__max_depth=5, randomforestclassifier__max_features=3, randomforestclassifier__n_estimators=10 \n",
      "[CV]  randomforestclassifier__max_depth=5, randomforestclassifier__max_features=3, randomforestclassifier__n_estimators=10, score=0.334, total=11.7min\n",
      "[CV] randomforestclassifier__max_depth=5, randomforestclassifier__max_features=3, randomforestclassifier__n_estimators=20 \n",
      "[CV]  randomforestclassifier__max_depth=5, randomforestclassifier__max_features=3, randomforestclassifier__n_estimators=20, score=0.318, total=11.7min\n",
      "[CV] randomforestclassifier__max_depth=5, randomforestclassifier__max_features=3, randomforestclassifier__n_estimators=20 \n",
      "[CV]  randomforestclassifier__max_depth=5, randomforestclassifier__max_features=3, randomforestclassifier__n_estimators=20, score=0.318, total=11.8min\n",
      "[CV] randomforestclassifier__max_depth=5, randomforestclassifier__max_features=3, randomforestclassifier__n_estimators=20 \n",
      "[CV]  randomforestclassifier__max_depth=5, randomforestclassifier__max_features=3, randomforestclassifier__n_estimators=20, score=0.318, total=11.8min\n",
      "[CV] randomforestclassifier__max_depth=5, randomforestclassifier__max_features=3, randomforestclassifier__n_estimators=20 \n",
      "[CV]  randomforestclassifier__max_depth=5, randomforestclassifier__max_features=3, randomforestclassifier__n_estimators=20, score=0.319, total=12.2min\n",
      "[CV] randomforestclassifier__max_depth=5, randomforestclassifier__max_features=3, randomforestclassifier__n_estimators=50 \n",
      "[CV]  randomforestclassifier__max_depth=5, randomforestclassifier__max_features=3, randomforestclassifier__n_estimators=50, score=0.318, total=11.4min\n",
      "[CV] randomforestclassifier__max_depth=5, randomforestclassifier__max_features=3, randomforestclassifier__n_estimators=50 \n",
      "[CV]  randomforestclassifier__max_depth=5, randomforestclassifier__max_features=3, randomforestclassifier__n_estimators=50, score=0.318, total=11.4min\n",
      "[CV] randomforestclassifier__max_depth=5, randomforestclassifier__max_features=3, randomforestclassifier__n_estimators=50 \n",
      "[CV]  randomforestclassifier__max_depth=5, randomforestclassifier__max_features=3, randomforestclassifier__n_estimators=50, score=0.318, total=11.4min\n",
      "[CV] randomforestclassifier__max_depth=5, randomforestclassifier__max_features=3, randomforestclassifier__n_estimators=50 \n",
      "[CV]  randomforestclassifier__max_depth=5, randomforestclassifier__max_features=3, randomforestclassifier__n_estimators=50, score=0.318, total=11.5min\n",
      "[CV] randomforestclassifier__max_depth=5, randomforestclassifier__max_features=4, randomforestclassifier__n_estimators=1 \n",
      "[CV]  randomforestclassifier__max_depth=5, randomforestclassifier__max_features=4, randomforestclassifier__n_estimators=1, score=0.324, total=11.5min\n",
      "[CV] randomforestclassifier__max_depth=5, randomforestclassifier__max_features=4, randomforestclassifier__n_estimators=1 \n",
      "[CV]  randomforestclassifier__max_depth=5, randomforestclassifier__max_features=4, randomforestclassifier__n_estimators=1, score=0.317, total=11.6min\n",
      "[CV] randomforestclassifier__max_depth=5, randomforestclassifier__max_features=4, randomforestclassifier__n_estimators=1 \n",
      "[CV]  randomforestclassifier__max_depth=5, randomforestclassifier__max_features=4, randomforestclassifier__n_estimators=1, score=0.317, total=11.5min\n",
      "[CV] randomforestclassifier__max_depth=5, randomforestclassifier__max_features=4, randomforestclassifier__n_estimators=1 \n",
      "[CV]  randomforestclassifier__max_depth=5, randomforestclassifier__max_features=4, randomforestclassifier__n_estimators=1, score=0.318, total=11.5min\n",
      "[CV] randomforestclassifier__max_depth=5, randomforestclassifier__max_features=4, randomforestclassifier__n_estimators=5 \n",
      "[CV]  randomforestclassifier__max_depth=5, randomforestclassifier__max_features=4, randomforestclassifier__n_estimators=5, score=0.326, total=11.5min\n",
      "[CV] randomforestclassifier__max_depth=5, randomforestclassifier__max_features=4, randomforestclassifier__n_estimators=5 \n",
      "[CV]  randomforestclassifier__max_depth=5, randomforestclassifier__max_features=4, randomforestclassifier__n_estimators=5, score=0.318, total=11.4min\n",
      "[CV] randomforestclassifier__max_depth=5, randomforestclassifier__max_features=4, randomforestclassifier__n_estimators=5 \n",
      "[CV]  randomforestclassifier__max_depth=5, randomforestclassifier__max_features=4, randomforestclassifier__n_estimators=5, score=0.320, total=12.1min\n",
      "[CV] randomforestclassifier__max_depth=5, randomforestclassifier__max_features=4, randomforestclassifier__n_estimators=5 \n",
      "[CV]  randomforestclassifier__max_depth=5, randomforestclassifier__max_features=4, randomforestclassifier__n_estimators=5, score=0.321, total=11.7min\n",
      "[CV] randomforestclassifier__max_depth=5, randomforestclassifier__max_features=4, randomforestclassifier__n_estimators=10 \n",
      "[CV]  randomforestclassifier__max_depth=5, randomforestclassifier__max_features=4, randomforestclassifier__n_estimators=10, score=0.330, total=11.5min\n",
      "[CV] randomforestclassifier__max_depth=5, randomforestclassifier__max_features=4, randomforestclassifier__n_estimators=10 \n",
      "[CV]  randomforestclassifier__max_depth=5, randomforestclassifier__max_features=4, randomforestclassifier__n_estimators=10, score=0.317, total=11.5min\n",
      "[CV] randomforestclassifier__max_depth=5, randomforestclassifier__max_features=4, randomforestclassifier__n_estimators=10 \n",
      "[CV]  randomforestclassifier__max_depth=5, randomforestclassifier__max_features=4, randomforestclassifier__n_estimators=10, score=0.321, total=11.6min\n",
      "[CV] randomforestclassifier__max_depth=5, randomforestclassifier__max_features=4, randomforestclassifier__n_estimators=10 \n",
      "[CV]  randomforestclassifier__max_depth=5, randomforestclassifier__max_features=4, randomforestclassifier__n_estimators=10, score=0.332, total=12.0min\n",
      "[CV] randomforestclassifier__max_depth=5, randomforestclassifier__max_features=4, randomforestclassifier__n_estimators=20 \n",
      "[CV]  randomforestclassifier__max_depth=5, randomforestclassifier__max_features=4, randomforestclassifier__n_estimators=20, score=0.318, total=11.6min\n",
      "[CV] randomforestclassifier__max_depth=5, randomforestclassifier__max_features=4, randomforestclassifier__n_estimators=20 \n",
      "[CV]  randomforestclassifier__max_depth=5, randomforestclassifier__max_features=4, randomforestclassifier__n_estimators=20, score=0.318, total=80.4min\n",
      "[CV] randomforestclassifier__max_depth=5, randomforestclassifier__max_features=4, randomforestclassifier__n_estimators=20 \n",
      "[CV]  randomforestclassifier__max_depth=5, randomforestclassifier__max_features=4, randomforestclassifier__n_estimators=20, score=0.318, total=10.5min\n",
      "[CV] randomforestclassifier__max_depth=5, randomforestclassifier__max_features=4, randomforestclassifier__n_estimators=20 \n",
      "[CV]  randomforestclassifier__max_depth=5, randomforestclassifier__max_features=4, randomforestclassifier__n_estimators=20, score=0.318, total=10.5min\n",
      "[CV] randomforestclassifier__max_depth=5, randomforestclassifier__max_features=4, randomforestclassifier__n_estimators=50 \n",
      "[CV]  randomforestclassifier__max_depth=5, randomforestclassifier__max_features=4, randomforestclassifier__n_estimators=50, score=0.318, total=10.9min\n",
      "[CV] randomforestclassifier__max_depth=5, randomforestclassifier__max_features=4, randomforestclassifier__n_estimators=50 \n",
      "[CV]  randomforestclassifier__max_depth=5, randomforestclassifier__max_features=4, randomforestclassifier__n_estimators=50, score=0.318, total=11.2min\n",
      "[CV] randomforestclassifier__max_depth=5, randomforestclassifier__max_features=4, randomforestclassifier__n_estimators=50 \n",
      "[CV]  randomforestclassifier__max_depth=5, randomforestclassifier__max_features=4, randomforestclassifier__n_estimators=50, score=0.318, total=10.1min\n",
      "[CV] randomforestclassifier__max_depth=5, randomforestclassifier__max_features=4, randomforestclassifier__n_estimators=50 \n",
      "[CV]  randomforestclassifier__max_depth=5, randomforestclassifier__max_features=4, randomforestclassifier__n_estimators=50, score=0.318, total=10.1min\n",
      "[CV] randomforestclassifier__max_depth=10, randomforestclassifier__max_features=2, randomforestclassifier__n_estimators=1 \n",
      "[CV]  randomforestclassifier__max_depth=10, randomforestclassifier__max_features=2, randomforestclassifier__n_estimators=1, score=0.321, total=13.9min\n",
      "[CV] randomforestclassifier__max_depth=10, randomforestclassifier__max_features=2, randomforestclassifier__n_estimators=1 \n",
      "[CV]  randomforestclassifier__max_depth=10, randomforestclassifier__max_features=2, randomforestclassifier__n_estimators=1, score=0.318, total=10.2min\n",
      "[CV] randomforestclassifier__max_depth=10, randomforestclassifier__max_features=2, randomforestclassifier__n_estimators=1 \n",
      "[CV]  randomforestclassifier__max_depth=10, randomforestclassifier__max_features=2, randomforestclassifier__n_estimators=1, score=0.318, total=10.6min\n",
      "[CV] randomforestclassifier__max_depth=10, randomforestclassifier__max_features=2, randomforestclassifier__n_estimators=1 \n",
      "[CV]  randomforestclassifier__max_depth=10, randomforestclassifier__max_features=2, randomforestclassifier__n_estimators=1, score=0.321, total=10.5min\n",
      "[CV] randomforestclassifier__max_depth=10, randomforestclassifier__max_features=2, randomforestclassifier__n_estimators=5 \n",
      "[CV]  randomforestclassifier__max_depth=10, randomforestclassifier__max_features=2, randomforestclassifier__n_estimators=5, score=0.323, total=10.4min\n",
      "[CV] randomforestclassifier__max_depth=10, randomforestclassifier__max_features=2, randomforestclassifier__n_estimators=5 \n",
      "[CV]  randomforestclassifier__max_depth=10, randomforestclassifier__max_features=2, randomforestclassifier__n_estimators=5, score=0.323, total=10.3min\n",
      "[CV] randomforestclassifier__max_depth=10, randomforestclassifier__max_features=2, randomforestclassifier__n_estimators=5 \n",
      "[CV]  randomforestclassifier__max_depth=10, randomforestclassifier__max_features=2, randomforestclassifier__n_estimators=5, score=0.331, total=10.8min\n",
      "[CV] randomforestclassifier__max_depth=10, randomforestclassifier__max_features=2, randomforestclassifier__n_estimators=5 \n",
      "[CV]  randomforestclassifier__max_depth=10, randomforestclassifier__max_features=2, randomforestclassifier__n_estimators=5, score=0.323, total=14.3min\n",
      "[CV] randomforestclassifier__max_depth=10, randomforestclassifier__max_features=2, randomforestclassifier__n_estimators=10 \n",
      "[CV]  randomforestclassifier__max_depth=10, randomforestclassifier__max_features=2, randomforestclassifier__n_estimators=10, score=0.327, total=13.3min\n",
      "[CV] randomforestclassifier__max_depth=10, randomforestclassifier__max_features=2, randomforestclassifier__n_estimators=10 \n",
      "[CV]  randomforestclassifier__max_depth=10, randomforestclassifier__max_features=2, randomforestclassifier__n_estimators=10, score=0.331, total=13.0min\n",
      "[CV] randomforestclassifier__max_depth=10, randomforestclassifier__max_features=2, randomforestclassifier__n_estimators=10 \n",
      "[CV]  randomforestclassifier__max_depth=10, randomforestclassifier__max_features=2, randomforestclassifier__n_estimators=10, score=0.326, total=12.3min\n",
      "[CV] randomforestclassifier__max_depth=10, randomforestclassifier__max_features=2, randomforestclassifier__n_estimators=10 \n",
      "[CV]  randomforestclassifier__max_depth=10, randomforestclassifier__max_features=2, randomforestclassifier__n_estimators=10, score=0.332, total=15.1min\n",
      "[CV] randomforestclassifier__max_depth=10, randomforestclassifier__max_features=2, randomforestclassifier__n_estimators=20 \n",
      "[CV]  randomforestclassifier__max_depth=10, randomforestclassifier__max_features=2, randomforestclassifier__n_estimators=20, score=0.318, total=16.2min\n",
      "[CV] randomforestclassifier__max_depth=10, randomforestclassifier__max_features=2, randomforestclassifier__n_estimators=20 \n",
      "[CV]  randomforestclassifier__max_depth=10, randomforestclassifier__max_features=2, randomforestclassifier__n_estimators=20, score=0.321, total=15.4min\n",
      "[CV] randomforestclassifier__max_depth=10, randomforestclassifier__max_features=2, randomforestclassifier__n_estimators=20 \n",
      "[CV]  randomforestclassifier__max_depth=10, randomforestclassifier__max_features=2, randomforestclassifier__n_estimators=20, score=0.317, total=15.3min\n",
      "[CV] randomforestclassifier__max_depth=10, randomforestclassifier__max_features=2, randomforestclassifier__n_estimators=20 \n",
      "[CV]  randomforestclassifier__max_depth=10, randomforestclassifier__max_features=2, randomforestclassifier__n_estimators=20, score=0.318, total=16.3min\n",
      "[CV] randomforestclassifier__max_depth=10, randomforestclassifier__max_features=2, randomforestclassifier__n_estimators=50 \n",
      "[CV]  randomforestclassifier__max_depth=10, randomforestclassifier__max_features=2, randomforestclassifier__n_estimators=50, score=0.318, total=16.2min\n",
      "[CV] randomforestclassifier__max_depth=10, randomforestclassifier__max_features=2, randomforestclassifier__n_estimators=50 \n",
      "[CV]  randomforestclassifier__max_depth=10, randomforestclassifier__max_features=2, randomforestclassifier__n_estimators=50, score=0.318, total=14.8min\n",
      "[CV] randomforestclassifier__max_depth=10, randomforestclassifier__max_features=2, randomforestclassifier__n_estimators=50 \n",
      "[CV]  randomforestclassifier__max_depth=10, randomforestclassifier__max_features=2, randomforestclassifier__n_estimators=50, score=0.318, total=12.8min\n",
      "[CV] randomforestclassifier__max_depth=10, randomforestclassifier__max_features=2, randomforestclassifier__n_estimators=50 \n",
      "[CV]  randomforestclassifier__max_depth=10, randomforestclassifier__max_features=2, randomforestclassifier__n_estimators=50, score=0.318, total=20.9min\n",
      "[CV] randomforestclassifier__max_depth=10, randomforestclassifier__max_features=3, randomforestclassifier__n_estimators=1 \n",
      "[CV]  randomforestclassifier__max_depth=10, randomforestclassifier__max_features=3, randomforestclassifier__n_estimators=1, score=0.338, total=19.7min\n",
      "[CV] randomforestclassifier__max_depth=10, randomforestclassifier__max_features=3, randomforestclassifier__n_estimators=1 \n",
      "[CV]  randomforestclassifier__max_depth=10, randomforestclassifier__max_features=3, randomforestclassifier__n_estimators=1, score=0.318, total=20.0min\n",
      "[CV] randomforestclassifier__max_depth=10, randomforestclassifier__max_features=3, randomforestclassifier__n_estimators=1 \n",
      "[CV]  randomforestclassifier__max_depth=10, randomforestclassifier__max_features=3, randomforestclassifier__n_estimators=1, score=0.331, total=19.3min\n",
      "[CV] randomforestclassifier__max_depth=10, randomforestclassifier__max_features=3, randomforestclassifier__n_estimators=1 \n",
      "[CV]  randomforestclassifier__max_depth=10, randomforestclassifier__max_features=3, randomforestclassifier__n_estimators=1, score=0.321, total=14.0min\n",
      "[CV] randomforestclassifier__max_depth=10, randomforestclassifier__max_features=3, randomforestclassifier__n_estimators=5 \n",
      "[CV]  randomforestclassifier__max_depth=10, randomforestclassifier__max_features=3, randomforestclassifier__n_estimators=5, score=0.340, total=13.0min\n",
      "[CV] randomforestclassifier__max_depth=10, randomforestclassifier__max_features=3, randomforestclassifier__n_estimators=5 \n",
      "[CV]  randomforestclassifier__max_depth=10, randomforestclassifier__max_features=3, randomforestclassifier__n_estimators=5, score=0.323, total=13.3min\n",
      "[CV] randomforestclassifier__max_depth=10, randomforestclassifier__max_features=3, randomforestclassifier__n_estimators=5 \n",
      "[CV]  randomforestclassifier__max_depth=10, randomforestclassifier__max_features=3, randomforestclassifier__n_estimators=5, score=0.371, total=13.6min\n",
      "[CV] randomforestclassifier__max_depth=10, randomforestclassifier__max_features=3, randomforestclassifier__n_estimators=5 \n",
      "[CV]  randomforestclassifier__max_depth=10, randomforestclassifier__max_features=3, randomforestclassifier__n_estimators=5, score=0.326, total=13.7min\n",
      "[CV] randomforestclassifier__max_depth=10, randomforestclassifier__max_features=3, randomforestclassifier__n_estimators=10 \n",
      "[CV]  randomforestclassifier__max_depth=10, randomforestclassifier__max_features=3, randomforestclassifier__n_estimators=10, score=0.349, total=12.4min\n",
      "[CV] randomforestclassifier__max_depth=10, randomforestclassifier__max_features=3, randomforestclassifier__n_estimators=10 \n",
      "[CV]  randomforestclassifier__max_depth=10, randomforestclassifier__max_features=3, randomforestclassifier__n_estimators=10, score=0.337, total=60.8min\n",
      "[CV] randomforestclassifier__max_depth=10, randomforestclassifier__max_features=3, randomforestclassifier__n_estimators=10 \n",
      "[CV]  randomforestclassifier__max_depth=10, randomforestclassifier__max_features=3, randomforestclassifier__n_estimators=10, score=0.345, total=12.2min\n",
      "[CV] randomforestclassifier__max_depth=10, randomforestclassifier__max_features=3, randomforestclassifier__n_estimators=10 \n",
      "[CV]  randomforestclassifier__max_depth=10, randomforestclassifier__max_features=3, randomforestclassifier__n_estimators=10, score=0.341, total=11.2min\n",
      "[CV] randomforestclassifier__max_depth=10, randomforestclassifier__max_features=3, randomforestclassifier__n_estimators=20 \n",
      "[CV]  randomforestclassifier__max_depth=10, randomforestclassifier__max_features=3, randomforestclassifier__n_estimators=20, score=0.319, total=11.0min\n",
      "[CV] randomforestclassifier__max_depth=10, randomforestclassifier__max_features=3, randomforestclassifier__n_estimators=20 \n",
      "[CV]  randomforestclassifier__max_depth=10, randomforestclassifier__max_features=3, randomforestclassifier__n_estimators=20, score=0.318, total=11.0min\n",
      "[CV] randomforestclassifier__max_depth=10, randomforestclassifier__max_features=3, randomforestclassifier__n_estimators=20 \n",
      "[CV]  randomforestclassifier__max_depth=10, randomforestclassifier__max_features=3, randomforestclassifier__n_estimators=20, score=0.316, total=11.1min\n",
      "[CV] randomforestclassifier__max_depth=10, randomforestclassifier__max_features=3, randomforestclassifier__n_estimators=20 \n",
      "[CV]  randomforestclassifier__max_depth=10, randomforestclassifier__max_features=3, randomforestclassifier__n_estimators=20, score=0.320, total=11.5min\n",
      "[CV] randomforestclassifier__max_depth=10, randomforestclassifier__max_features=3, randomforestclassifier__n_estimators=50 \n",
      "[CV]  randomforestclassifier__max_depth=10, randomforestclassifier__max_features=3, randomforestclassifier__n_estimators=50, score=0.318, total=11.4min\n",
      "[CV] randomforestclassifier__max_depth=10, randomforestclassifier__max_features=3, randomforestclassifier__n_estimators=50 \n",
      "[CV]  randomforestclassifier__max_depth=10, randomforestclassifier__max_features=3, randomforestclassifier__n_estimators=50, score=0.318, total=11.6min\n",
      "[CV] randomforestclassifier__max_depth=10, randomforestclassifier__max_features=3, randomforestclassifier__n_estimators=50 \n",
      "[CV]  randomforestclassifier__max_depth=10, randomforestclassifier__max_features=3, randomforestclassifier__n_estimators=50, score=0.318, total=11.0min\n",
      "[CV] randomforestclassifier__max_depth=10, randomforestclassifier__max_features=3, randomforestclassifier__n_estimators=50 \n",
      "[CV]  randomforestclassifier__max_depth=10, randomforestclassifier__max_features=3, randomforestclassifier__n_estimators=50, score=0.318, total=10.9min\n",
      "[CV] randomforestclassifier__max_depth=10, randomforestclassifier__max_features=4, randomforestclassifier__n_estimators=1 \n",
      "[CV]  randomforestclassifier__max_depth=10, randomforestclassifier__max_features=4, randomforestclassifier__n_estimators=1, score=0.323, total=10.8min\n",
      "[CV] randomforestclassifier__max_depth=10, randomforestclassifier__max_features=4, randomforestclassifier__n_estimators=1 \n",
      "[CV]  randomforestclassifier__max_depth=10, randomforestclassifier__max_features=4, randomforestclassifier__n_estimators=1, score=0.318, total=14.2min\n",
      "[CV] randomforestclassifier__max_depth=10, randomforestclassifier__max_features=4, randomforestclassifier__n_estimators=1 \n",
      "[CV]  randomforestclassifier__max_depth=10, randomforestclassifier__max_features=4, randomforestclassifier__n_estimators=1, score=0.318, total=19.1min\n",
      "[CV] randomforestclassifier__max_depth=10, randomforestclassifier__max_features=4, randomforestclassifier__n_estimators=1 \n",
      "[CV]  randomforestclassifier__max_depth=10, randomforestclassifier__max_features=4, randomforestclassifier__n_estimators=1, score=0.321, total=19.3min\n",
      "[CV] randomforestclassifier__max_depth=10, randomforestclassifier__max_features=4, randomforestclassifier__n_estimators=5 \n",
      "[CV]  randomforestclassifier__max_depth=10, randomforestclassifier__max_features=4, randomforestclassifier__n_estimators=5, score=0.336, total=20.2min\n",
      "[CV] randomforestclassifier__max_depth=10, randomforestclassifier__max_features=4, randomforestclassifier__n_estimators=5 \n",
      "[CV]  randomforestclassifier__max_depth=10, randomforestclassifier__max_features=4, randomforestclassifier__n_estimators=5, score=0.324, total=22.6min\n",
      "[CV] randomforestclassifier__max_depth=10, randomforestclassifier__max_features=4, randomforestclassifier__n_estimators=5 \n",
      "[CV]  randomforestclassifier__max_depth=10, randomforestclassifier__max_features=4, randomforestclassifier__n_estimators=5, score=0.318, total=20.3min\n",
      "[CV] randomforestclassifier__max_depth=10, randomforestclassifier__max_features=4, randomforestclassifier__n_estimators=5 \n",
      "[CV]  randomforestclassifier__max_depth=10, randomforestclassifier__max_features=4, randomforestclassifier__n_estimators=5, score=0.346, total=12.0min\n",
      "[CV] randomforestclassifier__max_depth=10, randomforestclassifier__max_features=4, randomforestclassifier__n_estimators=10 \n",
      "[CV]  randomforestclassifier__max_depth=10, randomforestclassifier__max_features=4, randomforestclassifier__n_estimators=10, score=0.349, total=14.6min\n",
      "[CV] randomforestclassifier__max_depth=10, randomforestclassifier__max_features=4, randomforestclassifier__n_estimators=10 \n",
      "[CV]  randomforestclassifier__max_depth=10, randomforestclassifier__max_features=4, randomforestclassifier__n_estimators=10, score=0.323, total=13.9min\n",
      "[CV] randomforestclassifier__max_depth=10, randomforestclassifier__max_features=4, randomforestclassifier__n_estimators=10 \n",
      "[CV]  randomforestclassifier__max_depth=10, randomforestclassifier__max_features=4, randomforestclassifier__n_estimators=10, score=0.323, total=15.3min\n",
      "[CV] randomforestclassifier__max_depth=10, randomforestclassifier__max_features=4, randomforestclassifier__n_estimators=10 \n",
      "[CV]  randomforestclassifier__max_depth=10, randomforestclassifier__max_features=4, randomforestclassifier__n_estimators=10, score=0.358, total=15.9min\n",
      "[CV] randomforestclassifier__max_depth=10, randomforestclassifier__max_features=4, randomforestclassifier__n_estimators=20 \n",
      "[CV]  randomforestclassifier__max_depth=10, randomforestclassifier__max_features=4, randomforestclassifier__n_estimators=20, score=0.319, total=12.9min\n",
      "[CV] randomforestclassifier__max_depth=10, randomforestclassifier__max_features=4, randomforestclassifier__n_estimators=20 \n",
      "[CV]  randomforestclassifier__max_depth=10, randomforestclassifier__max_features=4, randomforestclassifier__n_estimators=20, score=0.318, total=12.2min\n",
      "[CV] randomforestclassifier__max_depth=10, randomforestclassifier__max_features=4, randomforestclassifier__n_estimators=20 \n",
      "[CV]  randomforestclassifier__max_depth=10, randomforestclassifier__max_features=4, randomforestclassifier__n_estimators=20, score=0.321, total=13.3min\n",
      "[CV] randomforestclassifier__max_depth=10, randomforestclassifier__max_features=4, randomforestclassifier__n_estimators=20 \n",
      "[CV]  randomforestclassifier__max_depth=10, randomforestclassifier__max_features=4, randomforestclassifier__n_estimators=20, score=0.318, total=13.3min\n",
      "[CV] randomforestclassifier__max_depth=10, randomforestclassifier__max_features=4, randomforestclassifier__n_estimators=50 \n",
      "[CV]  randomforestclassifier__max_depth=10, randomforestclassifier__max_features=4, randomforestclassifier__n_estimators=50, score=0.318, total=13.2min\n",
      "[CV] randomforestclassifier__max_depth=10, randomforestclassifier__max_features=4, randomforestclassifier__n_estimators=50 \n",
      "[CV]  randomforestclassifier__max_depth=10, randomforestclassifier__max_features=4, randomforestclassifier__n_estimators=50, score=0.318, total=13.6min\n",
      "[CV] randomforestclassifier__max_depth=10, randomforestclassifier__max_features=4, randomforestclassifier__n_estimators=50 \n",
      "[CV]  randomforestclassifier__max_depth=10, randomforestclassifier__max_features=4, randomforestclassifier__n_estimators=50, score=0.318, total=13.6min\n",
      "[CV] randomforestclassifier__max_depth=10, randomforestclassifier__max_features=4, randomforestclassifier__n_estimators=50 \n",
      "[CV]  randomforestclassifier__max_depth=10, randomforestclassifier__max_features=4, randomforestclassifier__n_estimators=50, score=0.318, total=12.8min\n",
      "[CV] randomforestclassifier__max_depth=15, randomforestclassifier__max_features=2, randomforestclassifier__n_estimators=1 \n",
      "[CV]  randomforestclassifier__max_depth=15, randomforestclassifier__max_features=2, randomforestclassifier__n_estimators=1, score=0.321, total=13.5min\n",
      "[CV] randomforestclassifier__max_depth=15, randomforestclassifier__max_features=2, randomforestclassifier__n_estimators=1 \n",
      "[CV]  randomforestclassifier__max_depth=15, randomforestclassifier__max_features=2, randomforestclassifier__n_estimators=1, score=0.319, total=14.6min\n",
      "[CV] randomforestclassifier__max_depth=15, randomforestclassifier__max_features=2, randomforestclassifier__n_estimators=1 \n",
      "[CV]  randomforestclassifier__max_depth=15, randomforestclassifier__max_features=2, randomforestclassifier__n_estimators=1, score=0.317, total=13.7min\n",
      "[CV] randomforestclassifier__max_depth=15, randomforestclassifier__max_features=2, randomforestclassifier__n_estimators=1 \n",
      "[CV]  randomforestclassifier__max_depth=15, randomforestclassifier__max_features=2, randomforestclassifier__n_estimators=1, score=0.321, total=13.7min\n",
      "[CV] randomforestclassifier__max_depth=15, randomforestclassifier__max_features=2, randomforestclassifier__n_estimators=5 \n",
      "[CV]  randomforestclassifier__max_depth=15, randomforestclassifier__max_features=2, randomforestclassifier__n_estimators=5, score=0.325, total=13.7min\n",
      "[CV] randomforestclassifier__max_depth=15, randomforestclassifier__max_features=2, randomforestclassifier__n_estimators=5 \n",
      "[CV]  randomforestclassifier__max_depth=15, randomforestclassifier__max_features=2, randomforestclassifier__n_estimators=5, score=0.326, total=14.7min\n",
      "[CV] randomforestclassifier__max_depth=15, randomforestclassifier__max_features=2, randomforestclassifier__n_estimators=5 \n",
      "[CV]  randomforestclassifier__max_depth=15, randomforestclassifier__max_features=2, randomforestclassifier__n_estimators=5, score=0.340, total=13.7min\n",
      "[CV] randomforestclassifier__max_depth=15, randomforestclassifier__max_features=2, randomforestclassifier__n_estimators=5 \n",
      "[CV]  randomforestclassifier__max_depth=15, randomforestclassifier__max_features=2, randomforestclassifier__n_estimators=5, score=0.322, total=13.6min\n",
      "[CV] randomforestclassifier__max_depth=15, randomforestclassifier__max_features=2, randomforestclassifier__n_estimators=10 \n",
      "[CV]  randomforestclassifier__max_depth=15, randomforestclassifier__max_features=2, randomforestclassifier__n_estimators=10, score=0.335, total=13.5min\n",
      "[CV] randomforestclassifier__max_depth=15, randomforestclassifier__max_features=2, randomforestclassifier__n_estimators=10 \n",
      "[CV]  randomforestclassifier__max_depth=15, randomforestclassifier__max_features=2, randomforestclassifier__n_estimators=10, score=0.341, total=13.5min\n",
      "[CV] randomforestclassifier__max_depth=15, randomforestclassifier__max_features=2, randomforestclassifier__n_estimators=10 \n",
      "[CV]  randomforestclassifier__max_depth=15, randomforestclassifier__max_features=2, randomforestclassifier__n_estimators=10, score=0.337, total=13.6min\n",
      "[CV] randomforestclassifier__max_depth=15, randomforestclassifier__max_features=2, randomforestclassifier__n_estimators=10 \n",
      "[CV]  randomforestclassifier__max_depth=15, randomforestclassifier__max_features=2, randomforestclassifier__n_estimators=10, score=0.333, total=13.4min\n",
      "[CV] randomforestclassifier__max_depth=15, randomforestclassifier__max_features=2, randomforestclassifier__n_estimators=20 \n",
      "[CV]  randomforestclassifier__max_depth=15, randomforestclassifier__max_features=2, randomforestclassifier__n_estimators=20, score=0.319, total=13.0min\n",
      "[CV] randomforestclassifier__max_depth=15, randomforestclassifier__max_features=2, randomforestclassifier__n_estimators=20 \n",
      "[CV]  randomforestclassifier__max_depth=15, randomforestclassifier__max_features=2, randomforestclassifier__n_estimators=20, score=0.321, total=13.4min\n",
      "[CV] randomforestclassifier__max_depth=15, randomforestclassifier__max_features=2, randomforestclassifier__n_estimators=20 \n",
      "[CV]  randomforestclassifier__max_depth=15, randomforestclassifier__max_features=2, randomforestclassifier__n_estimators=20, score=0.318, total=13.5min\n",
      "[CV] randomforestclassifier__max_depth=15, randomforestclassifier__max_features=2, randomforestclassifier__n_estimators=20 \n",
      "[CV]  randomforestclassifier__max_depth=15, randomforestclassifier__max_features=2, randomforestclassifier__n_estimators=20, score=0.319, total=13.7min\n",
      "[CV] randomforestclassifier__max_depth=15, randomforestclassifier__max_features=2, randomforestclassifier__n_estimators=50 \n",
      "[CV]  randomforestclassifier__max_depth=15, randomforestclassifier__max_features=2, randomforestclassifier__n_estimators=50, score=0.318, total=12.9min\n",
      "[CV] randomforestclassifier__max_depth=15, randomforestclassifier__max_features=2, randomforestclassifier__n_estimators=50 \n",
      "[CV]  randomforestclassifier__max_depth=15, randomforestclassifier__max_features=2, randomforestclassifier__n_estimators=50, score=0.318, total=12.8min\n",
      "[CV] randomforestclassifier__max_depth=15, randomforestclassifier__max_features=2, randomforestclassifier__n_estimators=50 \n",
      "[CV]  randomforestclassifier__max_depth=15, randomforestclassifier__max_features=2, randomforestclassifier__n_estimators=50, score=0.318, total=13.2min\n",
      "[CV] randomforestclassifier__max_depth=15, randomforestclassifier__max_features=2, randomforestclassifier__n_estimators=50 \n",
      "[CV]  randomforestclassifier__max_depth=15, randomforestclassifier__max_features=2, randomforestclassifier__n_estimators=50, score=0.318, total=13.2min\n",
      "[CV] randomforestclassifier__max_depth=15, randomforestclassifier__max_features=3, randomforestclassifier__n_estimators=1 \n",
      "[CV]  randomforestclassifier__max_depth=15, randomforestclassifier__max_features=3, randomforestclassifier__n_estimators=1, score=0.338, total=12.4min\n",
      "[CV] randomforestclassifier__max_depth=15, randomforestclassifier__max_features=3, randomforestclassifier__n_estimators=1 \n",
      "[CV]  randomforestclassifier__max_depth=15, randomforestclassifier__max_features=3, randomforestclassifier__n_estimators=1, score=0.316, total=11.8min\n",
      "[CV] randomforestclassifier__max_depth=15, randomforestclassifier__max_features=3, randomforestclassifier__n_estimators=1 \n",
      "[CV]  randomforestclassifier__max_depth=15, randomforestclassifier__max_features=3, randomforestclassifier__n_estimators=1, score=0.340, total=11.6min\n",
      "[CV] randomforestclassifier__max_depth=15, randomforestclassifier__max_features=3, randomforestclassifier__n_estimators=1 \n",
      "[CV]  randomforestclassifier__max_depth=15, randomforestclassifier__max_features=3, randomforestclassifier__n_estimators=1, score=0.320, total=36.7min\n",
      "[CV] randomforestclassifier__max_depth=15, randomforestclassifier__max_features=3, randomforestclassifier__n_estimators=5 \n",
      "[CV]  randomforestclassifier__max_depth=15, randomforestclassifier__max_features=3, randomforestclassifier__n_estimators=5, score=0.340, total=11.5min\n",
      "[CV] randomforestclassifier__max_depth=15, randomforestclassifier__max_features=3, randomforestclassifier__n_estimators=5 \n",
      "[CV]  randomforestclassifier__max_depth=15, randomforestclassifier__max_features=3, randomforestclassifier__n_estimators=5, score=0.318, total=11.6min\n",
      "[CV] randomforestclassifier__max_depth=15, randomforestclassifier__max_features=3, randomforestclassifier__n_estimators=5 \n",
      "[CV]  randomforestclassifier__max_depth=15, randomforestclassifier__max_features=3, randomforestclassifier__n_estimators=5, score=0.380, total=11.7min\n",
      "[CV] randomforestclassifier__max_depth=15, randomforestclassifier__max_features=3, randomforestclassifier__n_estimators=5 \n",
      "[CV]  randomforestclassifier__max_depth=15, randomforestclassifier__max_features=3, randomforestclassifier__n_estimators=5, score=0.328, total=11.6min\n",
      "[CV] randomforestclassifier__max_depth=15, randomforestclassifier__max_features=3, randomforestclassifier__n_estimators=10 \n",
      "[CV]  randomforestclassifier__max_depth=15, randomforestclassifier__max_features=3, randomforestclassifier__n_estimators=10, score=0.349, total=11.8min\n",
      "[CV] randomforestclassifier__max_depth=15, randomforestclassifier__max_features=3, randomforestclassifier__n_estimators=10 \n",
      "[CV]  randomforestclassifier__max_depth=15, randomforestclassifier__max_features=3, randomforestclassifier__n_estimators=10, score=0.336, total=11.8min\n",
      "[CV] randomforestclassifier__max_depth=15, randomforestclassifier__max_features=3, randomforestclassifier__n_estimators=10 \n",
      "[CV]  randomforestclassifier__max_depth=15, randomforestclassifier__max_features=3, randomforestclassifier__n_estimators=10, score=0.354, total=11.7min\n",
      "[CV] randomforestclassifier__max_depth=15, randomforestclassifier__max_features=3, randomforestclassifier__n_estimators=10 \n",
      "[CV]  randomforestclassifier__max_depth=15, randomforestclassifier__max_features=3, randomforestclassifier__n_estimators=10, score=0.338, total=11.8min\n",
      "[CV] randomforestclassifier__max_depth=15, randomforestclassifier__max_features=3, randomforestclassifier__n_estimators=20 \n",
      "[CV]  randomforestclassifier__max_depth=15, randomforestclassifier__max_features=3, randomforestclassifier__n_estimators=20, score=0.320, total=109.2min\n",
      "[CV] randomforestclassifier__max_depth=15, randomforestclassifier__max_features=3, randomforestclassifier__n_estimators=20 \n",
      "[CV]  randomforestclassifier__max_depth=15, randomforestclassifier__max_features=3, randomforestclassifier__n_estimators=20, score=0.323, total=11.6min\n",
      "[CV] randomforestclassifier__max_depth=15, randomforestclassifier__max_features=3, randomforestclassifier__n_estimators=20 \n",
      "[CV]  randomforestclassifier__max_depth=15, randomforestclassifier__max_features=3, randomforestclassifier__n_estimators=20, score=0.320, total=23.9min\n",
      "[CV] randomforestclassifier__max_depth=15, randomforestclassifier__max_features=3, randomforestclassifier__n_estimators=20 \n",
      "[CV]  randomforestclassifier__max_depth=15, randomforestclassifier__max_features=3, randomforestclassifier__n_estimators=20, score=0.323, total=12.1min\n",
      "[CV] randomforestclassifier__max_depth=15, randomforestclassifier__max_features=3, randomforestclassifier__n_estimators=50 \n",
      "[CV]  randomforestclassifier__max_depth=15, randomforestclassifier__max_features=3, randomforestclassifier__n_estimators=50, score=0.318, total=10.7min\n",
      "[CV] randomforestclassifier__max_depth=15, randomforestclassifier__max_features=3, randomforestclassifier__n_estimators=50 \n",
      "[CV]  randomforestclassifier__max_depth=15, randomforestclassifier__max_features=3, randomforestclassifier__n_estimators=50, score=0.318, total=10.4min\n",
      "[CV] randomforestclassifier__max_depth=15, randomforestclassifier__max_features=3, randomforestclassifier__n_estimators=50 \n",
      "[CV]  randomforestclassifier__max_depth=15, randomforestclassifier__max_features=3, randomforestclassifier__n_estimators=50, score=0.318, total=10.6min\n",
      "[CV] randomforestclassifier__max_depth=15, randomforestclassifier__max_features=3, randomforestclassifier__n_estimators=50 \n",
      "[CV]  randomforestclassifier__max_depth=15, randomforestclassifier__max_features=3, randomforestclassifier__n_estimators=50, score=0.318, total=11.3min\n",
      "[CV] randomforestclassifier__max_depth=15, randomforestclassifier__max_features=4, randomforestclassifier__n_estimators=1 \n",
      "[CV]  randomforestclassifier__max_depth=15, randomforestclassifier__max_features=4, randomforestclassifier__n_estimators=1, score=0.324, total=11.8min\n",
      "[CV] randomforestclassifier__max_depth=15, randomforestclassifier__max_features=4, randomforestclassifier__n_estimators=1 \n",
      "[CV]  randomforestclassifier__max_depth=15, randomforestclassifier__max_features=4, randomforestclassifier__n_estimators=1, score=0.318, total=11.9min\n",
      "[CV] randomforestclassifier__max_depth=15, randomforestclassifier__max_features=4, randomforestclassifier__n_estimators=1 \n",
      "[CV]  randomforestclassifier__max_depth=15, randomforestclassifier__max_features=4, randomforestclassifier__n_estimators=1, score=0.319, total=12.1min\n",
      "[CV] randomforestclassifier__max_depth=15, randomforestclassifier__max_features=4, randomforestclassifier__n_estimators=1 \n",
      "[CV]  randomforestclassifier__max_depth=15, randomforestclassifier__max_features=4, randomforestclassifier__n_estimators=1, score=0.325, total=11.1min\n",
      "[CV] randomforestclassifier__max_depth=15, randomforestclassifier__max_features=4, randomforestclassifier__n_estimators=5 \n",
      "[CV]  randomforestclassifier__max_depth=15, randomforestclassifier__max_features=4, randomforestclassifier__n_estimators=5, score=0.336, total=22.7min\n",
      "[CV] randomforestclassifier__max_depth=15, randomforestclassifier__max_features=4, randomforestclassifier__n_estimators=5 \n",
      "[CV]  randomforestclassifier__max_depth=15, randomforestclassifier__max_features=4, randomforestclassifier__n_estimators=5, score=0.323, total=12.8min\n",
      "[CV] randomforestclassifier__max_depth=15, randomforestclassifier__max_features=4, randomforestclassifier__n_estimators=5 \n",
      "[CV]  randomforestclassifier__max_depth=15, randomforestclassifier__max_features=4, randomforestclassifier__n_estimators=5, score=0.324, total=11.1min\n",
      "[CV] randomforestclassifier__max_depth=15, randomforestclassifier__max_features=4, randomforestclassifier__n_estimators=5 \n",
      "[CV]  randomforestclassifier__max_depth=15, randomforestclassifier__max_features=4, randomforestclassifier__n_estimators=5, score=0.353, total=14.9min\n",
      "[CV] randomforestclassifier__max_depth=15, randomforestclassifier__max_features=4, randomforestclassifier__n_estimators=10 \n",
      "[CV]  randomforestclassifier__max_depth=15, randomforestclassifier__max_features=4, randomforestclassifier__n_estimators=10, score=0.363, total=16.3min\n",
      "[CV] randomforestclassifier__max_depth=15, randomforestclassifier__max_features=4, randomforestclassifier__n_estimators=10 \n",
      "[CV]  randomforestclassifier__max_depth=15, randomforestclassifier__max_features=4, randomforestclassifier__n_estimators=10, score=0.336, total=14.4min\n",
      "[CV] randomforestclassifier__max_depth=15, randomforestclassifier__max_features=4, randomforestclassifier__n_estimators=10 \n",
      "[CV]  randomforestclassifier__max_depth=15, randomforestclassifier__max_features=4, randomforestclassifier__n_estimators=10, score=0.334, total=13.7min\n",
      "[CV] randomforestclassifier__max_depth=15, randomforestclassifier__max_features=4, randomforestclassifier__n_estimators=10 \n",
      "[CV]  randomforestclassifier__max_depth=15, randomforestclassifier__max_features=4, randomforestclassifier__n_estimators=10, score=0.378, total=12.1min\n",
      "[CV] randomforestclassifier__max_depth=15, randomforestclassifier__max_features=4, randomforestclassifier__n_estimators=20 \n",
      "[CV]  randomforestclassifier__max_depth=15, randomforestclassifier__max_features=4, randomforestclassifier__n_estimators=20, score=0.323, total=13.1min\n",
      "[CV] randomforestclassifier__max_depth=15, randomforestclassifier__max_features=4, randomforestclassifier__n_estimators=20 \n",
      "[CV]  randomforestclassifier__max_depth=15, randomforestclassifier__max_features=4, randomforestclassifier__n_estimators=20, score=0.319, total=12.8min\n",
      "[CV] randomforestclassifier__max_depth=15, randomforestclassifier__max_features=4, randomforestclassifier__n_estimators=20 \n",
      "[CV]  randomforestclassifier__max_depth=15, randomforestclassifier__max_features=4, randomforestclassifier__n_estimators=20, score=0.323, total=11.6min\n",
      "[CV] randomforestclassifier__max_depth=15, randomforestclassifier__max_features=4, randomforestclassifier__n_estimators=20 \n",
      "[CV]  randomforestclassifier__max_depth=15, randomforestclassifier__max_features=4, randomforestclassifier__n_estimators=20, score=0.319, total=12.3min\n",
      "[CV] randomforestclassifier__max_depth=15, randomforestclassifier__max_features=4, randomforestclassifier__n_estimators=50 \n",
      "[CV]  randomforestclassifier__max_depth=15, randomforestclassifier__max_features=4, randomforestclassifier__n_estimators=50, score=0.319, total=15.1min\n",
      "[CV] randomforestclassifier__max_depth=15, randomforestclassifier__max_features=4, randomforestclassifier__n_estimators=50 \n",
      "[CV]  randomforestclassifier__max_depth=15, randomforestclassifier__max_features=4, randomforestclassifier__n_estimators=50, score=0.318, total=12.0min\n",
      "[CV] randomforestclassifier__max_depth=15, randomforestclassifier__max_features=4, randomforestclassifier__n_estimators=50 \n",
      "[CV]  randomforestclassifier__max_depth=15, randomforestclassifier__max_features=4, randomforestclassifier__n_estimators=50, score=0.318, total=12.0min\n",
      "[CV] randomforestclassifier__max_depth=15, randomforestclassifier__max_features=4, randomforestclassifier__n_estimators=50 \n",
      "[CV]  randomforestclassifier__max_depth=15, randomforestclassifier__max_features=4, randomforestclassifier__n_estimators=50, score=0.318, total=13.4min\n"
     ]
    },
    {
     "name": "stderr",
     "output_type": "stream",
     "text": [
      "[Parallel(n_jobs=1)]: Done 240 out of 240 | elapsed: 3850.5min finished\n"
     ]
    },
    {
     "name": "stdout",
     "output_type": "stream",
     "text": [
      "0.35288675055514435\n",
      "{'randomforestclassifier__max_depth': 15, 'randomforestclassifier__max_features': 4, 'randomforestclassifier__n_estimators': 10}\n"
     ]
    },
    {
     "ename": "KeyboardInterrupt",
     "evalue": "",
     "output_type": "error",
     "traceback": [
      "\u001b[1;31m---------------------------------------------------------------------------\u001b[0m",
      "\u001b[1;31mKeyboardInterrupt\u001b[0m                         Traceback (most recent call last)",
      "\u001b[1;32m<ipython-input-25-a9d03f0ac80f>\u001b[0m in \u001b[0;36m<module>\u001b[1;34m\u001b[0m\n\u001b[0;32m     32\u001b[0m \u001b[1;31m# Print the test score of the best model\u001b[0m\u001b[1;33m\u001b[0m\u001b[1;33m\u001b[0m\u001b[1;33m\u001b[0m\u001b[0m\n\u001b[0;32m     33\u001b[0m \u001b[0mclfRFC\u001b[0m \u001b[1;33m=\u001b[0m \u001b[0mgs\u001b[0m\u001b[1;33m.\u001b[0m\u001b[0mbest_estimator_\u001b[0m\u001b[1;33m\u001b[0m\u001b[1;33m\u001b[0m\u001b[0m\n\u001b[1;32m---> 34\u001b[1;33m \u001b[0mprint\u001b[0m\u001b[1;33m(\u001b[0m\u001b[1;34m'Test accuracy: %.3f'\u001b[0m \u001b[1;33m%\u001b[0m \u001b[0mclfRFC\u001b[0m\u001b[1;33m.\u001b[0m\u001b[0mscore\u001b[0m\u001b[1;33m(\u001b[0m\u001b[0mmsg_test\u001b[0m\u001b[1;33m,\u001b[0m \u001b[0mlabel_test\u001b[0m\u001b[1;33m)\u001b[0m\u001b[1;33m)\u001b[0m\u001b[1;33m\u001b[0m\u001b[1;33m\u001b[0m\u001b[0m\n\u001b[0m",
      "\u001b[1;32m~\\anaconda3\\lib\\site-packages\\sklearn\\utils\\metaestimators.py\u001b[0m in \u001b[0;36m<lambda>\u001b[1;34m(*args, **kwargs)\u001b[0m\n\u001b[0;32m    117\u001b[0m \u001b[1;33m\u001b[0m\u001b[0m\n\u001b[0;32m    118\u001b[0m         \u001b[1;31m# lambda, but not partial, allows help() to work with update_wrapper\u001b[0m\u001b[1;33m\u001b[0m\u001b[1;33m\u001b[0m\u001b[1;33m\u001b[0m\u001b[0m\n\u001b[1;32m--> 119\u001b[1;33m         \u001b[0mout\u001b[0m \u001b[1;33m=\u001b[0m \u001b[1;32mlambda\u001b[0m \u001b[1;33m*\u001b[0m\u001b[0margs\u001b[0m\u001b[1;33m,\u001b[0m \u001b[1;33m**\u001b[0m\u001b[0mkwargs\u001b[0m\u001b[1;33m:\u001b[0m \u001b[0mself\u001b[0m\u001b[1;33m.\u001b[0m\u001b[0mfn\u001b[0m\u001b[1;33m(\u001b[0m\u001b[0mobj\u001b[0m\u001b[1;33m,\u001b[0m \u001b[1;33m*\u001b[0m\u001b[0margs\u001b[0m\u001b[1;33m,\u001b[0m \u001b[1;33m**\u001b[0m\u001b[0mkwargs\u001b[0m\u001b[1;33m)\u001b[0m\u001b[1;33m\u001b[0m\u001b[1;33m\u001b[0m\u001b[0m\n\u001b[0m\u001b[0;32m    120\u001b[0m         \u001b[1;31m# update the docstring of the returned function\u001b[0m\u001b[1;33m\u001b[0m\u001b[1;33m\u001b[0m\u001b[1;33m\u001b[0m\u001b[0m\n\u001b[0;32m    121\u001b[0m         \u001b[0mupdate_wrapper\u001b[0m\u001b[1;33m(\u001b[0m\u001b[0mout\u001b[0m\u001b[1;33m,\u001b[0m \u001b[0mself\u001b[0m\u001b[1;33m.\u001b[0m\u001b[0mfn\u001b[0m\u001b[1;33m)\u001b[0m\u001b[1;33m\u001b[0m\u001b[1;33m\u001b[0m\u001b[0m\n",
      "\u001b[1;32m~\\anaconda3\\lib\\site-packages\\sklearn\\pipeline.py\u001b[0m in \u001b[0;36mscore\u001b[1;34m(self, X, y, sample_weight)\u001b[0m\n\u001b[0;32m    605\u001b[0m         \u001b[0mXt\u001b[0m \u001b[1;33m=\u001b[0m \u001b[0mX\u001b[0m\u001b[1;33m\u001b[0m\u001b[1;33m\u001b[0m\u001b[0m\n\u001b[0;32m    606\u001b[0m         \u001b[1;32mfor\u001b[0m \u001b[0m_\u001b[0m\u001b[1;33m,\u001b[0m \u001b[0mname\u001b[0m\u001b[1;33m,\u001b[0m \u001b[0mtransform\u001b[0m \u001b[1;32min\u001b[0m \u001b[0mself\u001b[0m\u001b[1;33m.\u001b[0m\u001b[0m_iter\u001b[0m\u001b[1;33m(\u001b[0m\u001b[0mwith_final\u001b[0m\u001b[1;33m=\u001b[0m\u001b[1;32mFalse\u001b[0m\u001b[1;33m)\u001b[0m\u001b[1;33m:\u001b[0m\u001b[1;33m\u001b[0m\u001b[1;33m\u001b[0m\u001b[0m\n\u001b[1;32m--> 607\u001b[1;33m             \u001b[0mXt\u001b[0m \u001b[1;33m=\u001b[0m \u001b[0mtransform\u001b[0m\u001b[1;33m.\u001b[0m\u001b[0mtransform\u001b[0m\u001b[1;33m(\u001b[0m\u001b[0mXt\u001b[0m\u001b[1;33m)\u001b[0m\u001b[1;33m\u001b[0m\u001b[1;33m\u001b[0m\u001b[0m\n\u001b[0m\u001b[0;32m    608\u001b[0m         \u001b[0mscore_params\u001b[0m \u001b[1;33m=\u001b[0m \u001b[1;33m{\u001b[0m\u001b[1;33m}\u001b[0m\u001b[1;33m\u001b[0m\u001b[1;33m\u001b[0m\u001b[0m\n\u001b[0;32m    609\u001b[0m         \u001b[1;32mif\u001b[0m \u001b[0msample_weight\u001b[0m \u001b[1;32mis\u001b[0m \u001b[1;32mnot\u001b[0m \u001b[1;32mNone\u001b[0m\u001b[1;33m:\u001b[0m\u001b[1;33m\u001b[0m\u001b[1;33m\u001b[0m\u001b[0m\n",
      "\u001b[1;32m~\\anaconda3\\lib\\site-packages\\sklearn\\pipeline.py\u001b[0m in \u001b[0;36m_transform\u001b[1;34m(self, X)\u001b[0m\n\u001b[0;32m    547\u001b[0m         \u001b[0mXt\u001b[0m \u001b[1;33m=\u001b[0m \u001b[0mX\u001b[0m\u001b[1;33m\u001b[0m\u001b[1;33m\u001b[0m\u001b[0m\n\u001b[0;32m    548\u001b[0m         \u001b[1;32mfor\u001b[0m \u001b[0m_\u001b[0m\u001b[1;33m,\u001b[0m \u001b[0m_\u001b[0m\u001b[1;33m,\u001b[0m \u001b[0mtransform\u001b[0m \u001b[1;32min\u001b[0m \u001b[0mself\u001b[0m\u001b[1;33m.\u001b[0m\u001b[0m_iter\u001b[0m\u001b[1;33m(\u001b[0m\u001b[1;33m)\u001b[0m\u001b[1;33m:\u001b[0m\u001b[1;33m\u001b[0m\u001b[1;33m\u001b[0m\u001b[0m\n\u001b[1;32m--> 549\u001b[1;33m             \u001b[0mXt\u001b[0m \u001b[1;33m=\u001b[0m \u001b[0mtransform\u001b[0m\u001b[1;33m.\u001b[0m\u001b[0mtransform\u001b[0m\u001b[1;33m(\u001b[0m\u001b[0mXt\u001b[0m\u001b[1;33m)\u001b[0m\u001b[1;33m\u001b[0m\u001b[1;33m\u001b[0m\u001b[0m\n\u001b[0m\u001b[0;32m    550\u001b[0m         \u001b[1;32mreturn\u001b[0m \u001b[0mXt\u001b[0m\u001b[1;33m\u001b[0m\u001b[1;33m\u001b[0m\u001b[0m\n\u001b[0;32m    551\u001b[0m \u001b[1;33m\u001b[0m\u001b[0m\n",
      "\u001b[1;32m~\\anaconda3\\lib\\site-packages\\sklearn\\feature_extraction\\text.py\u001b[0m in \u001b[0;36mtransform\u001b[1;34m(self, raw_documents)\u001b[0m\n\u001b[0;32m   1247\u001b[0m \u001b[1;33m\u001b[0m\u001b[0m\n\u001b[0;32m   1248\u001b[0m         \u001b[1;31m# use the same matrix-building strategy as fit_transform\u001b[0m\u001b[1;33m\u001b[0m\u001b[1;33m\u001b[0m\u001b[1;33m\u001b[0m\u001b[0m\n\u001b[1;32m-> 1249\u001b[1;33m         \u001b[0m_\u001b[0m\u001b[1;33m,\u001b[0m \u001b[0mX\u001b[0m \u001b[1;33m=\u001b[0m \u001b[0mself\u001b[0m\u001b[1;33m.\u001b[0m\u001b[0m_count_vocab\u001b[0m\u001b[1;33m(\u001b[0m\u001b[0mraw_documents\u001b[0m\u001b[1;33m,\u001b[0m \u001b[0mfixed_vocab\u001b[0m\u001b[1;33m=\u001b[0m\u001b[1;32mTrue\u001b[0m\u001b[1;33m)\u001b[0m\u001b[1;33m\u001b[0m\u001b[1;33m\u001b[0m\u001b[0m\n\u001b[0m\u001b[0;32m   1250\u001b[0m         \u001b[1;32mif\u001b[0m \u001b[0mself\u001b[0m\u001b[1;33m.\u001b[0m\u001b[0mbinary\u001b[0m\u001b[1;33m:\u001b[0m\u001b[1;33m\u001b[0m\u001b[1;33m\u001b[0m\u001b[0m\n\u001b[0;32m   1251\u001b[0m             \u001b[0mX\u001b[0m\u001b[1;33m.\u001b[0m\u001b[0mdata\u001b[0m\u001b[1;33m.\u001b[0m\u001b[0mfill\u001b[0m\u001b[1;33m(\u001b[0m\u001b[1;36m1\u001b[0m\u001b[1;33m)\u001b[0m\u001b[1;33m\u001b[0m\u001b[1;33m\u001b[0m\u001b[0m\n",
      "\u001b[1;32m~\\anaconda3\\lib\\site-packages\\sklearn\\feature_extraction\\text.py\u001b[0m in \u001b[0;36m_count_vocab\u001b[1;34m(self, raw_documents, fixed_vocab)\u001b[0m\n\u001b[0;32m   1108\u001b[0m         \u001b[1;32mfor\u001b[0m \u001b[0mdoc\u001b[0m \u001b[1;32min\u001b[0m \u001b[0mraw_documents\u001b[0m\u001b[1;33m:\u001b[0m\u001b[1;33m\u001b[0m\u001b[1;33m\u001b[0m\u001b[0m\n\u001b[0;32m   1109\u001b[0m             \u001b[0mfeature_counter\u001b[0m \u001b[1;33m=\u001b[0m \u001b[1;33m{\u001b[0m\u001b[1;33m}\u001b[0m\u001b[1;33m\u001b[0m\u001b[1;33m\u001b[0m\u001b[0m\n\u001b[1;32m-> 1110\u001b[1;33m             \u001b[1;32mfor\u001b[0m \u001b[0mfeature\u001b[0m \u001b[1;32min\u001b[0m \u001b[0manalyze\u001b[0m\u001b[1;33m(\u001b[0m\u001b[0mdoc\u001b[0m\u001b[1;33m)\u001b[0m\u001b[1;33m:\u001b[0m\u001b[1;33m\u001b[0m\u001b[1;33m\u001b[0m\u001b[0m\n\u001b[0m\u001b[0;32m   1111\u001b[0m                 \u001b[1;32mtry\u001b[0m\u001b[1;33m:\u001b[0m\u001b[1;33m\u001b[0m\u001b[1;33m\u001b[0m\u001b[0m\n\u001b[0;32m   1112\u001b[0m                     \u001b[0mfeature_idx\u001b[0m \u001b[1;33m=\u001b[0m \u001b[0mvocabulary\u001b[0m\u001b[1;33m[\u001b[0m\u001b[0mfeature\u001b[0m\u001b[1;33m]\u001b[0m\u001b[1;33m\u001b[0m\u001b[1;33m\u001b[0m\u001b[0m\n",
      "\u001b[1;32m~\\anaconda3\\lib\\site-packages\\sklearn\\feature_extraction\\text.py\u001b[0m in \u001b[0;36m_analyze\u001b[1;34m(doc, analyzer, tokenizer, ngrams, preprocessor, decoder, stop_words)\u001b[0m\n\u001b[0;32m     99\u001b[0m         \u001b[0mdoc\u001b[0m \u001b[1;33m=\u001b[0m \u001b[0mdecoder\u001b[0m\u001b[1;33m(\u001b[0m\u001b[0mdoc\u001b[0m\u001b[1;33m)\u001b[0m\u001b[1;33m\u001b[0m\u001b[1;33m\u001b[0m\u001b[0m\n\u001b[0;32m    100\u001b[0m     \u001b[1;32mif\u001b[0m \u001b[0manalyzer\u001b[0m \u001b[1;32mis\u001b[0m \u001b[1;32mnot\u001b[0m \u001b[1;32mNone\u001b[0m\u001b[1;33m:\u001b[0m\u001b[1;33m\u001b[0m\u001b[1;33m\u001b[0m\u001b[0m\n\u001b[1;32m--> 101\u001b[1;33m         \u001b[0mdoc\u001b[0m \u001b[1;33m=\u001b[0m \u001b[0manalyzer\u001b[0m\u001b[1;33m(\u001b[0m\u001b[0mdoc\u001b[0m\u001b[1;33m)\u001b[0m\u001b[1;33m\u001b[0m\u001b[1;33m\u001b[0m\u001b[0m\n\u001b[0m\u001b[0;32m    102\u001b[0m     \u001b[1;32melse\u001b[0m\u001b[1;33m:\u001b[0m\u001b[1;33m\u001b[0m\u001b[1;33m\u001b[0m\u001b[0m\n\u001b[0;32m    103\u001b[0m         \u001b[1;32mif\u001b[0m \u001b[0mpreprocessor\u001b[0m \u001b[1;32mis\u001b[0m \u001b[1;32mnot\u001b[0m \u001b[1;32mNone\u001b[0m\u001b[1;33m:\u001b[0m\u001b[1;33m\u001b[0m\u001b[1;33m\u001b[0m\u001b[0m\n",
      "\u001b[1;32m<ipython-input-8-f30116590910>\u001b[0m in \u001b[0;36mtext_process\u001b[1;34m(mess)\u001b[0m\n\u001b[0;32m     13\u001b[0m \u001b[1;32mdef\u001b[0m \u001b[0mtext_process\u001b[0m\u001b[1;33m(\u001b[0m\u001b[0mmess\u001b[0m\u001b[1;33m)\u001b[0m\u001b[1;33m:\u001b[0m\u001b[1;33m\u001b[0m\u001b[1;33m\u001b[0m\u001b[0m\n\u001b[0;32m     14\u001b[0m     \u001b[1;31m#Convert emojis to words\u001b[0m\u001b[1;33m\u001b[0m\u001b[1;33m\u001b[0m\u001b[1;33m\u001b[0m\u001b[0m\n\u001b[1;32m---> 15\u001b[1;33m     \u001b[0mmess\u001b[0m \u001b[1;33m=\u001b[0m \u001b[0mconvert_emojis_to_word\u001b[0m\u001b[1;33m(\u001b[0m\u001b[0mmess\u001b[0m\u001b[1;33m)\u001b[0m\u001b[1;33m\u001b[0m\u001b[1;33m\u001b[0m\u001b[0m\n\u001b[0m\u001b[0;32m     16\u001b[0m \u001b[1;33m\u001b[0m\u001b[0m\n\u001b[0;32m     17\u001b[0m     \u001b[1;31m# Check characters to see if they are in punctuation\u001b[0m\u001b[1;33m\u001b[0m\u001b[1;33m\u001b[0m\u001b[1;33m\u001b[0m\u001b[0m\n",
      "\u001b[1;32m<ipython-input-8-f30116590910>\u001b[0m in \u001b[0;36mconvert_emojis_to_word\u001b[1;34m(mess)\u001b[0m\n\u001b[0;32m      8\u001b[0m \u001b[1;32mdef\u001b[0m \u001b[0mconvert_emojis_to_word\u001b[0m\u001b[1;33m(\u001b[0m\u001b[0mmess\u001b[0m\u001b[1;33m)\u001b[0m\u001b[1;33m:\u001b[0m\u001b[1;33m\u001b[0m\u001b[1;33m\u001b[0m\u001b[0m\n\u001b[0;32m      9\u001b[0m     \u001b[1;32mfor\u001b[0m \u001b[0memot\u001b[0m \u001b[1;32min\u001b[0m \u001b[0mEmoji_Dict\u001b[0m\u001b[1;33m:\u001b[0m\u001b[1;33m\u001b[0m\u001b[1;33m\u001b[0m\u001b[0m\n\u001b[1;32m---> 10\u001b[1;33m         \u001b[0mmess\u001b[0m \u001b[1;33m=\u001b[0m \u001b[0mre\u001b[0m\u001b[1;33m.\u001b[0m\u001b[0msub\u001b[0m\u001b[1;33m(\u001b[0m\u001b[1;34mr'('\u001b[0m\u001b[1;33m+\u001b[0m\u001b[0memot\u001b[0m\u001b[1;33m+\u001b[0m\u001b[1;34m')'\u001b[0m\u001b[1;33m,\u001b[0m \u001b[1;34m\"_\"\u001b[0m\u001b[1;33m.\u001b[0m\u001b[0mjoin\u001b[0m\u001b[1;33m(\u001b[0m\u001b[0mEmoji_Dict\u001b[0m\u001b[1;33m[\u001b[0m\u001b[0memot\u001b[0m\u001b[1;33m]\u001b[0m\u001b[1;33m.\u001b[0m\u001b[0mreplace\u001b[0m\u001b[1;33m(\u001b[0m\u001b[1;34m\",\"\u001b[0m\u001b[1;33m,\u001b[0m\u001b[1;34m\"\"\u001b[0m\u001b[1;33m)\u001b[0m\u001b[1;33m.\u001b[0m\u001b[0mreplace\u001b[0m\u001b[1;33m(\u001b[0m\u001b[1;34m\":\"\u001b[0m\u001b[1;33m,\u001b[0m\u001b[1;34m\"\"\u001b[0m\u001b[1;33m)\u001b[0m\u001b[1;33m.\u001b[0m\u001b[0msplit\u001b[0m\u001b[1;33m(\u001b[0m\u001b[1;33m)\u001b[0m\u001b[1;33m)\u001b[0m\u001b[1;33m,\u001b[0m \u001b[0mmess\u001b[0m\u001b[1;33m)\u001b[0m\u001b[1;33m\u001b[0m\u001b[1;33m\u001b[0m\u001b[0m\n\u001b[0m\u001b[0;32m     11\u001b[0m     \u001b[1;32mreturn\u001b[0m \u001b[0mmess\u001b[0m\u001b[1;33m\u001b[0m\u001b[1;33m\u001b[0m\u001b[0m\n\u001b[0;32m     12\u001b[0m \u001b[1;33m\u001b[0m\u001b[0m\n",
      "\u001b[1;32m~\\anaconda3\\lib\\re.py\u001b[0m in \u001b[0;36msub\u001b[1;34m(pattern, repl, string, count, flags)\u001b[0m\n\u001b[0;32m    208\u001b[0m     \u001b[0ma\u001b[0m \u001b[0mcallable\u001b[0m\u001b[1;33m,\u001b[0m \u001b[0mit\u001b[0m\u001b[0;31m'\u001b[0m\u001b[0ms\u001b[0m \u001b[0mpassed\u001b[0m \u001b[0mthe\u001b[0m \u001b[0mMatch\u001b[0m \u001b[0mobject\u001b[0m \u001b[1;32mand\u001b[0m \u001b[0mmust\u001b[0m \u001b[1;32mreturn\u001b[0m\u001b[1;33m\u001b[0m\u001b[1;33m\u001b[0m\u001b[0m\n\u001b[0;32m    209\u001b[0m     a replacement string to be used.\"\"\"\n\u001b[1;32m--> 210\u001b[1;33m     \u001b[1;32mreturn\u001b[0m \u001b[0m_compile\u001b[0m\u001b[1;33m(\u001b[0m\u001b[0mpattern\u001b[0m\u001b[1;33m,\u001b[0m \u001b[0mflags\u001b[0m\u001b[1;33m)\u001b[0m\u001b[1;33m.\u001b[0m\u001b[0msub\u001b[0m\u001b[1;33m(\u001b[0m\u001b[0mrepl\u001b[0m\u001b[1;33m,\u001b[0m \u001b[0mstring\u001b[0m\u001b[1;33m,\u001b[0m \u001b[0mcount\u001b[0m\u001b[1;33m)\u001b[0m\u001b[1;33m\u001b[0m\u001b[1;33m\u001b[0m\u001b[0m\n\u001b[0m\u001b[0;32m    211\u001b[0m \u001b[1;33m\u001b[0m\u001b[0m\n\u001b[0;32m    212\u001b[0m \u001b[1;32mdef\u001b[0m \u001b[0msubn\u001b[0m\u001b[1;33m(\u001b[0m\u001b[0mpattern\u001b[0m\u001b[1;33m,\u001b[0m \u001b[0mrepl\u001b[0m\u001b[1;33m,\u001b[0m \u001b[0mstring\u001b[0m\u001b[1;33m,\u001b[0m \u001b[0mcount\u001b[0m\u001b[1;33m=\u001b[0m\u001b[1;36m0\u001b[0m\u001b[1;33m,\u001b[0m \u001b[0mflags\u001b[0m\u001b[1;33m=\u001b[0m\u001b[1;36m0\u001b[0m\u001b[1;33m)\u001b[0m\u001b[1;33m:\u001b[0m\u001b[1;33m\u001b[0m\u001b[1;33m\u001b[0m\u001b[0m\n",
      "\u001b[1;32m~\\anaconda3\\lib\\re.py\u001b[0m in \u001b[0;36m_compile\u001b[1;34m(pattern, flags)\u001b[0m\n\u001b[0;32m    302\u001b[0m     \u001b[1;32mif\u001b[0m \u001b[1;32mnot\u001b[0m \u001b[0msre_compile\u001b[0m\u001b[1;33m.\u001b[0m\u001b[0misstring\u001b[0m\u001b[1;33m(\u001b[0m\u001b[0mpattern\u001b[0m\u001b[1;33m)\u001b[0m\u001b[1;33m:\u001b[0m\u001b[1;33m\u001b[0m\u001b[1;33m\u001b[0m\u001b[0m\n\u001b[0;32m    303\u001b[0m         \u001b[1;32mraise\u001b[0m \u001b[0mTypeError\u001b[0m\u001b[1;33m(\u001b[0m\u001b[1;34m\"first argument must be string or compiled pattern\"\u001b[0m\u001b[1;33m)\u001b[0m\u001b[1;33m\u001b[0m\u001b[1;33m\u001b[0m\u001b[0m\n\u001b[1;32m--> 304\u001b[1;33m     \u001b[0mp\u001b[0m \u001b[1;33m=\u001b[0m \u001b[0msre_compile\u001b[0m\u001b[1;33m.\u001b[0m\u001b[0mcompile\u001b[0m\u001b[1;33m(\u001b[0m\u001b[0mpattern\u001b[0m\u001b[1;33m,\u001b[0m \u001b[0mflags\u001b[0m\u001b[1;33m)\u001b[0m\u001b[1;33m\u001b[0m\u001b[1;33m\u001b[0m\u001b[0m\n\u001b[0m\u001b[0;32m    305\u001b[0m     \u001b[1;32mif\u001b[0m \u001b[1;32mnot\u001b[0m \u001b[1;33m(\u001b[0m\u001b[0mflags\u001b[0m \u001b[1;33m&\u001b[0m \u001b[0mDEBUG\u001b[0m\u001b[1;33m)\u001b[0m\u001b[1;33m:\u001b[0m\u001b[1;33m\u001b[0m\u001b[1;33m\u001b[0m\u001b[0m\n\u001b[0;32m    306\u001b[0m         \u001b[1;32mif\u001b[0m \u001b[0mlen\u001b[0m\u001b[1;33m(\u001b[0m\u001b[0m_cache\u001b[0m\u001b[1;33m)\u001b[0m \u001b[1;33m>=\u001b[0m \u001b[0m_MAXCACHE\u001b[0m\u001b[1;33m:\u001b[0m\u001b[1;33m\u001b[0m\u001b[1;33m\u001b[0m\u001b[0m\n",
      "\u001b[1;32m~\\anaconda3\\lib\\sre_compile.py\u001b[0m in \u001b[0;36mcompile\u001b[1;34m(p, flags)\u001b[0m\n\u001b[0;32m    766\u001b[0m         \u001b[0mpattern\u001b[0m \u001b[1;33m=\u001b[0m \u001b[1;32mNone\u001b[0m\u001b[1;33m\u001b[0m\u001b[1;33m\u001b[0m\u001b[0m\n\u001b[0;32m    767\u001b[0m \u001b[1;33m\u001b[0m\u001b[0m\n\u001b[1;32m--> 768\u001b[1;33m     \u001b[0mcode\u001b[0m \u001b[1;33m=\u001b[0m \u001b[0m_code\u001b[0m\u001b[1;33m(\u001b[0m\u001b[0mp\u001b[0m\u001b[1;33m,\u001b[0m \u001b[0mflags\u001b[0m\u001b[1;33m)\u001b[0m\u001b[1;33m\u001b[0m\u001b[1;33m\u001b[0m\u001b[0m\n\u001b[0m\u001b[0;32m    769\u001b[0m \u001b[1;33m\u001b[0m\u001b[0m\n\u001b[0;32m    770\u001b[0m     \u001b[1;32mif\u001b[0m \u001b[0mflags\u001b[0m \u001b[1;33m&\u001b[0m \u001b[0mSRE_FLAG_DEBUG\u001b[0m\u001b[1;33m:\u001b[0m\u001b[1;33m\u001b[0m\u001b[1;33m\u001b[0m\u001b[0m\n",
      "\u001b[1;32m~\\anaconda3\\lib\\sre_compile.py\u001b[0m in \u001b[0;36m_code\u001b[1;34m(p, flags)\u001b[0m\n\u001b[0;32m    605\u001b[0m \u001b[1;33m\u001b[0m\u001b[0m\n\u001b[0;32m    606\u001b[0m     \u001b[1;31m# compile the pattern\u001b[0m\u001b[1;33m\u001b[0m\u001b[1;33m\u001b[0m\u001b[1;33m\u001b[0m\u001b[0m\n\u001b[1;32m--> 607\u001b[1;33m     \u001b[0m_compile\u001b[0m\u001b[1;33m(\u001b[0m\u001b[0mcode\u001b[0m\u001b[1;33m,\u001b[0m \u001b[0mp\u001b[0m\u001b[1;33m.\u001b[0m\u001b[0mdata\u001b[0m\u001b[1;33m,\u001b[0m \u001b[0mflags\u001b[0m\u001b[1;33m)\u001b[0m\u001b[1;33m\u001b[0m\u001b[1;33m\u001b[0m\u001b[0m\n\u001b[0m\u001b[0;32m    608\u001b[0m \u001b[1;33m\u001b[0m\u001b[0m\n\u001b[0;32m    609\u001b[0m     \u001b[0mcode\u001b[0m\u001b[1;33m.\u001b[0m\u001b[0mappend\u001b[0m\u001b[1;33m(\u001b[0m\u001b[0mSUCCESS\u001b[0m\u001b[1;33m)\u001b[0m\u001b[1;33m\u001b[0m\u001b[1;33m\u001b[0m\u001b[0m\n",
      "\u001b[1;32m~\\anaconda3\\lib\\sre_compile.py\u001b[0m in \u001b[0;36m_compile\u001b[1;34m(code, pattern, flags)\u001b[0m\n\u001b[0;32m     88\u001b[0m             \u001b[0miscased\u001b[0m \u001b[1;33m=\u001b[0m \u001b[0m_sre\u001b[0m\u001b[1;33m.\u001b[0m\u001b[0mascii_iscased\u001b[0m\u001b[1;33m\u001b[0m\u001b[1;33m\u001b[0m\u001b[0m\n\u001b[0;32m     89\u001b[0m             \u001b[0mtolower\u001b[0m \u001b[1;33m=\u001b[0m \u001b[0m_sre\u001b[0m\u001b[1;33m.\u001b[0m\u001b[0mascii_tolower\u001b[0m\u001b[1;33m\u001b[0m\u001b[1;33m\u001b[0m\u001b[0m\n\u001b[1;32m---> 90\u001b[1;33m     \u001b[1;32mfor\u001b[0m \u001b[0mop\u001b[0m\u001b[1;33m,\u001b[0m \u001b[0mav\u001b[0m \u001b[1;32min\u001b[0m \u001b[0mpattern\u001b[0m\u001b[1;33m:\u001b[0m\u001b[1;33m\u001b[0m\u001b[1;33m\u001b[0m\u001b[0m\n\u001b[0m\u001b[0;32m     91\u001b[0m         \u001b[1;32mif\u001b[0m \u001b[0mop\u001b[0m \u001b[1;32min\u001b[0m \u001b[0mLITERAL_CODES\u001b[0m\u001b[1;33m:\u001b[0m\u001b[1;33m\u001b[0m\u001b[1;33m\u001b[0m\u001b[0m\n\u001b[0;32m     92\u001b[0m             \u001b[1;32mif\u001b[0m \u001b[1;32mnot\u001b[0m \u001b[0mflags\u001b[0m \u001b[1;33m&\u001b[0m \u001b[0mSRE_FLAG_IGNORECASE\u001b[0m\u001b[1;33m:\u001b[0m\u001b[1;33m\u001b[0m\u001b[1;33m\u001b[0m\u001b[0m\n",
      "\u001b[1;31mKeyboardInterrupt\u001b[0m: "
     ]
    }
   ],
   "source": [
    "#Let's do a grid search for the rfc (model that might be used)\n",
    "\n",
    "\n",
    "pipeline_gs = Pipeline([\n",
    "    ('bow', CountVectorizer(analyzer=text_process)),  # strings to token integer counts\n",
    "    ('tfidf', TfidfTransformer())  # integer counts to weighted TF-IDF scores\n",
    "    ])\n",
    "\n",
    "pip = make_pipeline(pipeline_gs, RandomForestClassifier(criterion='gini', random_state=1))\n",
    "param_grid_rfc = [{\n",
    "    'randomforestclassifier__max_depth':[2,5,10,15],\n",
    "    'randomforestclassifier__max_features':[2, 3, 4],\n",
    "    'randomforestclassifier__n_estimators':[1,5,10,20,50]\n",
    "}]\n",
    "\n",
    "gs = GridSearchCV(estimator = pip,\n",
    "                     param_grid = param_grid_rfc,\n",
    "                     scoring = 'accuracy',\n",
    "                     cv = 4,\n",
    "                     refit = True,\n",
    "                     n_jobs = 1,\n",
    "                     verbose = 10)\n",
    "        \n",
    "gs = gs.fit(msg_train, label_train)\n",
    "# Print the training score of the best model\n",
    "print(gs.best_score_)\n",
    "\n",
    "# Print the model parameters of the best model\n",
    "print(gs.best_params_)\n",
    "\n",
    "# Print the test score of the best model\n",
    "clfRFC = gs.best_estimator_\n",
    "print('Test accuracy: %.3f' % clfRFC.score(msg_test, label_test))"
   ]
  },
  {
   "cell_type": "markdown",
   "metadata": {},
   "source": [
    "K-Nearest-Neighbor - Grid Search"
   ]
  },
  {
   "cell_type": "code",
   "execution_count": null,
   "metadata": {},
   "outputs": [],
   "source": [
    "knn_gs = KNeighborsClassifier()\n",
    "k_range = list(range(1, 15))\n",
    "param_grid_knn = dict(n_neighbors=k_range)\n",
    "  \n",
    "# defining parameter range\n",
    "pip = make_pipeline(pipeline_gs, KNeighborsClassifier())\n",
    "grid = GridSearchCV(estimator = pip,\n",
    "                     param_grid = param_grid_knn,\n",
    "                     cv=4,\n",
    "                     scoring='accuracy',\n",
    "                     return_train_score=False,\n",
    "                     verbose=10)\n",
    "  \n",
    "# fitting the model for grid search\n",
    "grid_search = grid.fit(msg_train, label_train)\n",
    "print(grid_search.best_params_)\n",
    "accuracy = grid_search.best_score_ *100\n",
    "print(\"Accuracy for our training dataset with tuning is : {:.2f}%\".format(accuracy))"
   ]
  },
  {
   "cell_type": "markdown",
   "metadata": {},
   "source": [
    "Support Vector Machine - Grid Search"
   ]
  },
  {
   "cell_type": "code",
   "execution_count": 45,
   "metadata": {},
   "outputs": [
    {
     "name": "stdout",
     "output_type": "stream",
     "text": [
      "Fitting 4 folds for each of 45 candidates, totalling 180 fits\n",
      "[CV] C=0.1, max_iter=100, random_state=5 .............................\n"
     ]
    },
    {
     "name": "stderr",
     "output_type": "stream",
     "text": [
      "[Parallel(n_jobs=1)]: Using backend SequentialBackend with 1 concurrent workers.\n"
     ]
    },
    {
     "ename": "ValueError",
     "evalue": "Invalid parameter C for estimator Pipeline(steps=[('bow',\n                 CountVectorizer(analyzer=<function text_process at 0x00000160DE04C670>)),\n                ('tfidf', TfidfTransformer()), ('clf', LinearSVC())]). Check the list of available parameters with `estimator.get_params().keys()`.",
     "output_type": "error",
     "traceback": [
      "\u001b[1;31m---------------------------------------------------------------------------\u001b[0m",
      "\u001b[1;31mValueError\u001b[0m                                Traceback (most recent call last)",
      "\u001b[1;32m<ipython-input-45-cfc58737632c>\u001b[0m in \u001b[0;36m<module>\u001b[1;34m\u001b[0m\n\u001b[0;32m     22\u001b[0m \u001b[1;33m\u001b[0m\u001b[0m\n\u001b[0;32m     23\u001b[0m \u001b[1;31m# fitting the model for grid search\u001b[0m\u001b[1;33m\u001b[0m\u001b[1;33m\u001b[0m\u001b[1;33m\u001b[0m\u001b[0m\n\u001b[1;32m---> 24\u001b[1;33m \u001b[0mgrid_search\u001b[0m \u001b[1;33m=\u001b[0m \u001b[0mgrid\u001b[0m\u001b[1;33m.\u001b[0m\u001b[0mfit\u001b[0m\u001b[1;33m(\u001b[0m\u001b[0mmsg_train\u001b[0m\u001b[1;33m,\u001b[0m \u001b[0mlabel_train\u001b[0m\u001b[1;33m)\u001b[0m\u001b[1;33m\u001b[0m\u001b[1;33m\u001b[0m\u001b[0m\n\u001b[0m\u001b[0;32m     25\u001b[0m \u001b[0mprint\u001b[0m\u001b[1;33m(\u001b[0m\u001b[0mgrid_search\u001b[0m\u001b[1;33m.\u001b[0m\u001b[0mbest_params_\u001b[0m\u001b[1;33m)\u001b[0m\u001b[1;33m\u001b[0m\u001b[1;33m\u001b[0m\u001b[0m\n\u001b[0;32m     26\u001b[0m \u001b[0maccuracy\u001b[0m \u001b[1;33m=\u001b[0m \u001b[0mgrid_search\u001b[0m\u001b[1;33m.\u001b[0m\u001b[0mbest_score_\u001b[0m \u001b[1;33m*\u001b[0m\u001b[1;36m100\u001b[0m\u001b[1;33m\u001b[0m\u001b[1;33m\u001b[0m\u001b[0m\n",
      "\u001b[1;32m~\\anaconda3\\lib\\site-packages\\sklearn\\utils\\validation.py\u001b[0m in \u001b[0;36minner_f\u001b[1;34m(*args, **kwargs)\u001b[0m\n\u001b[0;32m     71\u001b[0m                           FutureWarning)\n\u001b[0;32m     72\u001b[0m         \u001b[0mkwargs\u001b[0m\u001b[1;33m.\u001b[0m\u001b[0mupdate\u001b[0m\u001b[1;33m(\u001b[0m\u001b[1;33m{\u001b[0m\u001b[0mk\u001b[0m\u001b[1;33m:\u001b[0m \u001b[0marg\u001b[0m \u001b[1;32mfor\u001b[0m \u001b[0mk\u001b[0m\u001b[1;33m,\u001b[0m \u001b[0marg\u001b[0m \u001b[1;32min\u001b[0m \u001b[0mzip\u001b[0m\u001b[1;33m(\u001b[0m\u001b[0msig\u001b[0m\u001b[1;33m.\u001b[0m\u001b[0mparameters\u001b[0m\u001b[1;33m,\u001b[0m \u001b[0margs\u001b[0m\u001b[1;33m)\u001b[0m\u001b[1;33m}\u001b[0m\u001b[1;33m)\u001b[0m\u001b[1;33m\u001b[0m\u001b[1;33m\u001b[0m\u001b[0m\n\u001b[1;32m---> 73\u001b[1;33m         \u001b[1;32mreturn\u001b[0m \u001b[0mf\u001b[0m\u001b[1;33m(\u001b[0m\u001b[1;33m**\u001b[0m\u001b[0mkwargs\u001b[0m\u001b[1;33m)\u001b[0m\u001b[1;33m\u001b[0m\u001b[1;33m\u001b[0m\u001b[0m\n\u001b[0m\u001b[0;32m     74\u001b[0m     \u001b[1;32mreturn\u001b[0m \u001b[0minner_f\u001b[0m\u001b[1;33m\u001b[0m\u001b[1;33m\u001b[0m\u001b[0m\n\u001b[0;32m     75\u001b[0m \u001b[1;33m\u001b[0m\u001b[0m\n",
      "\u001b[1;32m~\\anaconda3\\lib\\site-packages\\sklearn\\model_selection\\_search.py\u001b[0m in \u001b[0;36mfit\u001b[1;34m(self, X, y, groups, **fit_params)\u001b[0m\n\u001b[0;32m    734\u001b[0m                 \u001b[1;32mreturn\u001b[0m \u001b[0mresults\u001b[0m\u001b[1;33m\u001b[0m\u001b[1;33m\u001b[0m\u001b[0m\n\u001b[0;32m    735\u001b[0m \u001b[1;33m\u001b[0m\u001b[0m\n\u001b[1;32m--> 736\u001b[1;33m             \u001b[0mself\u001b[0m\u001b[1;33m.\u001b[0m\u001b[0m_run_search\u001b[0m\u001b[1;33m(\u001b[0m\u001b[0mevaluate_candidates\u001b[0m\u001b[1;33m)\u001b[0m\u001b[1;33m\u001b[0m\u001b[1;33m\u001b[0m\u001b[0m\n\u001b[0m\u001b[0;32m    737\u001b[0m \u001b[1;33m\u001b[0m\u001b[0m\n\u001b[0;32m    738\u001b[0m         \u001b[1;31m# For multi-metric evaluation, store the best_index_, best_params_ and\u001b[0m\u001b[1;33m\u001b[0m\u001b[1;33m\u001b[0m\u001b[1;33m\u001b[0m\u001b[0m\n",
      "\u001b[1;32m~\\anaconda3\\lib\\site-packages\\sklearn\\model_selection\\_search.py\u001b[0m in \u001b[0;36m_run_search\u001b[1;34m(self, evaluate_candidates)\u001b[0m\n\u001b[0;32m   1186\u001b[0m     \u001b[1;32mdef\u001b[0m \u001b[0m_run_search\u001b[0m\u001b[1;33m(\u001b[0m\u001b[0mself\u001b[0m\u001b[1;33m,\u001b[0m \u001b[0mevaluate_candidates\u001b[0m\u001b[1;33m)\u001b[0m\u001b[1;33m:\u001b[0m\u001b[1;33m\u001b[0m\u001b[1;33m\u001b[0m\u001b[0m\n\u001b[0;32m   1187\u001b[0m         \u001b[1;34m\"\"\"Search all candidates in param_grid\"\"\"\u001b[0m\u001b[1;33m\u001b[0m\u001b[1;33m\u001b[0m\u001b[0m\n\u001b[1;32m-> 1188\u001b[1;33m         \u001b[0mevaluate_candidates\u001b[0m\u001b[1;33m(\u001b[0m\u001b[0mParameterGrid\u001b[0m\u001b[1;33m(\u001b[0m\u001b[0mself\u001b[0m\u001b[1;33m.\u001b[0m\u001b[0mparam_grid\u001b[0m\u001b[1;33m)\u001b[0m\u001b[1;33m)\u001b[0m\u001b[1;33m\u001b[0m\u001b[1;33m\u001b[0m\u001b[0m\n\u001b[0m\u001b[0;32m   1189\u001b[0m \u001b[1;33m\u001b[0m\u001b[0m\n\u001b[0;32m   1190\u001b[0m \u001b[1;33m\u001b[0m\u001b[0m\n",
      "\u001b[1;32m~\\anaconda3\\lib\\site-packages\\sklearn\\model_selection\\_search.py\u001b[0m in \u001b[0;36mevaluate_candidates\u001b[1;34m(candidate_params)\u001b[0m\n\u001b[0;32m    706\u001b[0m                               n_splits, n_candidates, n_candidates * n_splits))\n\u001b[0;32m    707\u001b[0m \u001b[1;33m\u001b[0m\u001b[0m\n\u001b[1;32m--> 708\u001b[1;33m                 out = parallel(delayed(_fit_and_score)(clone(base_estimator),\n\u001b[0m\u001b[0;32m    709\u001b[0m                                                        \u001b[0mX\u001b[0m\u001b[1;33m,\u001b[0m \u001b[0my\u001b[0m\u001b[1;33m,\u001b[0m\u001b[1;33m\u001b[0m\u001b[1;33m\u001b[0m\u001b[0m\n\u001b[0;32m    710\u001b[0m                                                        \u001b[0mtrain\u001b[0m\u001b[1;33m=\u001b[0m\u001b[0mtrain\u001b[0m\u001b[1;33m,\u001b[0m \u001b[0mtest\u001b[0m\u001b[1;33m=\u001b[0m\u001b[0mtest\u001b[0m\u001b[1;33m,\u001b[0m\u001b[1;33m\u001b[0m\u001b[1;33m\u001b[0m\u001b[0m\n",
      "\u001b[1;32m~\\anaconda3\\lib\\site-packages\\joblib\\parallel.py\u001b[0m in \u001b[0;36m__call__\u001b[1;34m(self, iterable)\u001b[0m\n\u001b[0;32m   1027\u001b[0m             \u001b[1;31m# remaining jobs.\u001b[0m\u001b[1;33m\u001b[0m\u001b[1;33m\u001b[0m\u001b[1;33m\u001b[0m\u001b[0m\n\u001b[0;32m   1028\u001b[0m             \u001b[0mself\u001b[0m\u001b[1;33m.\u001b[0m\u001b[0m_iterating\u001b[0m \u001b[1;33m=\u001b[0m \u001b[1;32mFalse\u001b[0m\u001b[1;33m\u001b[0m\u001b[1;33m\u001b[0m\u001b[0m\n\u001b[1;32m-> 1029\u001b[1;33m             \u001b[1;32mif\u001b[0m \u001b[0mself\u001b[0m\u001b[1;33m.\u001b[0m\u001b[0mdispatch_one_batch\u001b[0m\u001b[1;33m(\u001b[0m\u001b[0miterator\u001b[0m\u001b[1;33m)\u001b[0m\u001b[1;33m:\u001b[0m\u001b[1;33m\u001b[0m\u001b[1;33m\u001b[0m\u001b[0m\n\u001b[0m\u001b[0;32m   1030\u001b[0m                 \u001b[0mself\u001b[0m\u001b[1;33m.\u001b[0m\u001b[0m_iterating\u001b[0m \u001b[1;33m=\u001b[0m \u001b[0mself\u001b[0m\u001b[1;33m.\u001b[0m\u001b[0m_original_iterator\u001b[0m \u001b[1;32mis\u001b[0m \u001b[1;32mnot\u001b[0m \u001b[1;32mNone\u001b[0m\u001b[1;33m\u001b[0m\u001b[1;33m\u001b[0m\u001b[0m\n\u001b[0;32m   1031\u001b[0m \u001b[1;33m\u001b[0m\u001b[0m\n",
      "\u001b[1;32m~\\anaconda3\\lib\\site-packages\\joblib\\parallel.py\u001b[0m in \u001b[0;36mdispatch_one_batch\u001b[1;34m(self, iterator)\u001b[0m\n\u001b[0;32m    845\u001b[0m                 \u001b[1;32mreturn\u001b[0m \u001b[1;32mFalse\u001b[0m\u001b[1;33m\u001b[0m\u001b[1;33m\u001b[0m\u001b[0m\n\u001b[0;32m    846\u001b[0m             \u001b[1;32melse\u001b[0m\u001b[1;33m:\u001b[0m\u001b[1;33m\u001b[0m\u001b[1;33m\u001b[0m\u001b[0m\n\u001b[1;32m--> 847\u001b[1;33m                 \u001b[0mself\u001b[0m\u001b[1;33m.\u001b[0m\u001b[0m_dispatch\u001b[0m\u001b[1;33m(\u001b[0m\u001b[0mtasks\u001b[0m\u001b[1;33m)\u001b[0m\u001b[1;33m\u001b[0m\u001b[1;33m\u001b[0m\u001b[0m\n\u001b[0m\u001b[0;32m    848\u001b[0m                 \u001b[1;32mreturn\u001b[0m \u001b[1;32mTrue\u001b[0m\u001b[1;33m\u001b[0m\u001b[1;33m\u001b[0m\u001b[0m\n\u001b[0;32m    849\u001b[0m \u001b[1;33m\u001b[0m\u001b[0m\n",
      "\u001b[1;32m~\\anaconda3\\lib\\site-packages\\joblib\\parallel.py\u001b[0m in \u001b[0;36m_dispatch\u001b[1;34m(self, batch)\u001b[0m\n\u001b[0;32m    763\u001b[0m         \u001b[1;32mwith\u001b[0m \u001b[0mself\u001b[0m\u001b[1;33m.\u001b[0m\u001b[0m_lock\u001b[0m\u001b[1;33m:\u001b[0m\u001b[1;33m\u001b[0m\u001b[1;33m\u001b[0m\u001b[0m\n\u001b[0;32m    764\u001b[0m             \u001b[0mjob_idx\u001b[0m \u001b[1;33m=\u001b[0m \u001b[0mlen\u001b[0m\u001b[1;33m(\u001b[0m\u001b[0mself\u001b[0m\u001b[1;33m.\u001b[0m\u001b[0m_jobs\u001b[0m\u001b[1;33m)\u001b[0m\u001b[1;33m\u001b[0m\u001b[1;33m\u001b[0m\u001b[0m\n\u001b[1;32m--> 765\u001b[1;33m             \u001b[0mjob\u001b[0m \u001b[1;33m=\u001b[0m \u001b[0mself\u001b[0m\u001b[1;33m.\u001b[0m\u001b[0m_backend\u001b[0m\u001b[1;33m.\u001b[0m\u001b[0mapply_async\u001b[0m\u001b[1;33m(\u001b[0m\u001b[0mbatch\u001b[0m\u001b[1;33m,\u001b[0m \u001b[0mcallback\u001b[0m\u001b[1;33m=\u001b[0m\u001b[0mcb\u001b[0m\u001b[1;33m)\u001b[0m\u001b[1;33m\u001b[0m\u001b[1;33m\u001b[0m\u001b[0m\n\u001b[0m\u001b[0;32m    766\u001b[0m             \u001b[1;31m# A job can complete so quickly than its callback is\u001b[0m\u001b[1;33m\u001b[0m\u001b[1;33m\u001b[0m\u001b[1;33m\u001b[0m\u001b[0m\n\u001b[0;32m    767\u001b[0m             \u001b[1;31m# called before we get here, causing self._jobs to\u001b[0m\u001b[1;33m\u001b[0m\u001b[1;33m\u001b[0m\u001b[1;33m\u001b[0m\u001b[0m\n",
      "\u001b[1;32m~\\anaconda3\\lib\\site-packages\\joblib\\_parallel_backends.py\u001b[0m in \u001b[0;36mapply_async\u001b[1;34m(self, func, callback)\u001b[0m\n\u001b[0;32m    206\u001b[0m     \u001b[1;32mdef\u001b[0m \u001b[0mapply_async\u001b[0m\u001b[1;33m(\u001b[0m\u001b[0mself\u001b[0m\u001b[1;33m,\u001b[0m \u001b[0mfunc\u001b[0m\u001b[1;33m,\u001b[0m \u001b[0mcallback\u001b[0m\u001b[1;33m=\u001b[0m\u001b[1;32mNone\u001b[0m\u001b[1;33m)\u001b[0m\u001b[1;33m:\u001b[0m\u001b[1;33m\u001b[0m\u001b[1;33m\u001b[0m\u001b[0m\n\u001b[0;32m    207\u001b[0m         \u001b[1;34m\"\"\"Schedule a func to be run\"\"\"\u001b[0m\u001b[1;33m\u001b[0m\u001b[1;33m\u001b[0m\u001b[0m\n\u001b[1;32m--> 208\u001b[1;33m         \u001b[0mresult\u001b[0m \u001b[1;33m=\u001b[0m \u001b[0mImmediateResult\u001b[0m\u001b[1;33m(\u001b[0m\u001b[0mfunc\u001b[0m\u001b[1;33m)\u001b[0m\u001b[1;33m\u001b[0m\u001b[1;33m\u001b[0m\u001b[0m\n\u001b[0m\u001b[0;32m    209\u001b[0m         \u001b[1;32mif\u001b[0m \u001b[0mcallback\u001b[0m\u001b[1;33m:\u001b[0m\u001b[1;33m\u001b[0m\u001b[1;33m\u001b[0m\u001b[0m\n\u001b[0;32m    210\u001b[0m             \u001b[0mcallback\u001b[0m\u001b[1;33m(\u001b[0m\u001b[0mresult\u001b[0m\u001b[1;33m)\u001b[0m\u001b[1;33m\u001b[0m\u001b[1;33m\u001b[0m\u001b[0m\n",
      "\u001b[1;32m~\\anaconda3\\lib\\site-packages\\joblib\\_parallel_backends.py\u001b[0m in \u001b[0;36m__init__\u001b[1;34m(self, batch)\u001b[0m\n\u001b[0;32m    570\u001b[0m         \u001b[1;31m# Don't delay the application, to avoid keeping the input\u001b[0m\u001b[1;33m\u001b[0m\u001b[1;33m\u001b[0m\u001b[1;33m\u001b[0m\u001b[0m\n\u001b[0;32m    571\u001b[0m         \u001b[1;31m# arguments in memory\u001b[0m\u001b[1;33m\u001b[0m\u001b[1;33m\u001b[0m\u001b[1;33m\u001b[0m\u001b[0m\n\u001b[1;32m--> 572\u001b[1;33m         \u001b[0mself\u001b[0m\u001b[1;33m.\u001b[0m\u001b[0mresults\u001b[0m \u001b[1;33m=\u001b[0m \u001b[0mbatch\u001b[0m\u001b[1;33m(\u001b[0m\u001b[1;33m)\u001b[0m\u001b[1;33m\u001b[0m\u001b[1;33m\u001b[0m\u001b[0m\n\u001b[0m\u001b[0;32m    573\u001b[0m \u001b[1;33m\u001b[0m\u001b[0m\n\u001b[0;32m    574\u001b[0m     \u001b[1;32mdef\u001b[0m \u001b[0mget\u001b[0m\u001b[1;33m(\u001b[0m\u001b[0mself\u001b[0m\u001b[1;33m)\u001b[0m\u001b[1;33m:\u001b[0m\u001b[1;33m\u001b[0m\u001b[1;33m\u001b[0m\u001b[0m\n",
      "\u001b[1;32m~\\anaconda3\\lib\\site-packages\\joblib\\parallel.py\u001b[0m in \u001b[0;36m__call__\u001b[1;34m(self)\u001b[0m\n\u001b[0;32m    250\u001b[0m         \u001b[1;31m# change the default number of processes to -1\u001b[0m\u001b[1;33m\u001b[0m\u001b[1;33m\u001b[0m\u001b[1;33m\u001b[0m\u001b[0m\n\u001b[0;32m    251\u001b[0m         \u001b[1;32mwith\u001b[0m \u001b[0mparallel_backend\u001b[0m\u001b[1;33m(\u001b[0m\u001b[0mself\u001b[0m\u001b[1;33m.\u001b[0m\u001b[0m_backend\u001b[0m\u001b[1;33m,\u001b[0m \u001b[0mn_jobs\u001b[0m\u001b[1;33m=\u001b[0m\u001b[0mself\u001b[0m\u001b[1;33m.\u001b[0m\u001b[0m_n_jobs\u001b[0m\u001b[1;33m)\u001b[0m\u001b[1;33m:\u001b[0m\u001b[1;33m\u001b[0m\u001b[1;33m\u001b[0m\u001b[0m\n\u001b[1;32m--> 252\u001b[1;33m             return [func(*args, **kwargs)\n\u001b[0m\u001b[0;32m    253\u001b[0m                     for func, args, kwargs in self.items]\n\u001b[0;32m    254\u001b[0m \u001b[1;33m\u001b[0m\u001b[0m\n",
      "\u001b[1;32m~\\anaconda3\\lib\\site-packages\\joblib\\parallel.py\u001b[0m in \u001b[0;36m<listcomp>\u001b[1;34m(.0)\u001b[0m\n\u001b[0;32m    250\u001b[0m         \u001b[1;31m# change the default number of processes to -1\u001b[0m\u001b[1;33m\u001b[0m\u001b[1;33m\u001b[0m\u001b[1;33m\u001b[0m\u001b[0m\n\u001b[0;32m    251\u001b[0m         \u001b[1;32mwith\u001b[0m \u001b[0mparallel_backend\u001b[0m\u001b[1;33m(\u001b[0m\u001b[0mself\u001b[0m\u001b[1;33m.\u001b[0m\u001b[0m_backend\u001b[0m\u001b[1;33m,\u001b[0m \u001b[0mn_jobs\u001b[0m\u001b[1;33m=\u001b[0m\u001b[0mself\u001b[0m\u001b[1;33m.\u001b[0m\u001b[0m_n_jobs\u001b[0m\u001b[1;33m)\u001b[0m\u001b[1;33m:\u001b[0m\u001b[1;33m\u001b[0m\u001b[1;33m\u001b[0m\u001b[0m\n\u001b[1;32m--> 252\u001b[1;33m             return [func(*args, **kwargs)\n\u001b[0m\u001b[0;32m    253\u001b[0m                     for func, args, kwargs in self.items]\n\u001b[0;32m    254\u001b[0m \u001b[1;33m\u001b[0m\u001b[0m\n",
      "\u001b[1;32m~\\anaconda3\\lib\\site-packages\\sklearn\\model_selection\\_validation.py\u001b[0m in \u001b[0;36m_fit_and_score\u001b[1;34m(estimator, X, y, scorer, train, test, verbose, parameters, fit_params, return_train_score, return_parameters, return_n_test_samples, return_times, return_estimator, error_score)\u001b[0m\n\u001b[0;32m    518\u001b[0m             \u001b[0mcloned_parameters\u001b[0m\u001b[1;33m[\u001b[0m\u001b[0mk\u001b[0m\u001b[1;33m]\u001b[0m \u001b[1;33m=\u001b[0m \u001b[0mclone\u001b[0m\u001b[1;33m(\u001b[0m\u001b[0mv\u001b[0m\u001b[1;33m,\u001b[0m \u001b[0msafe\u001b[0m\u001b[1;33m=\u001b[0m\u001b[1;32mFalse\u001b[0m\u001b[1;33m)\u001b[0m\u001b[1;33m\u001b[0m\u001b[1;33m\u001b[0m\u001b[0m\n\u001b[0;32m    519\u001b[0m \u001b[1;33m\u001b[0m\u001b[0m\n\u001b[1;32m--> 520\u001b[1;33m         \u001b[0mestimator\u001b[0m \u001b[1;33m=\u001b[0m \u001b[0mestimator\u001b[0m\u001b[1;33m.\u001b[0m\u001b[0mset_params\u001b[0m\u001b[1;33m(\u001b[0m\u001b[1;33m**\u001b[0m\u001b[0mcloned_parameters\u001b[0m\u001b[1;33m)\u001b[0m\u001b[1;33m\u001b[0m\u001b[1;33m\u001b[0m\u001b[0m\n\u001b[0m\u001b[0;32m    521\u001b[0m \u001b[1;33m\u001b[0m\u001b[0m\n\u001b[0;32m    522\u001b[0m     \u001b[0mstart_time\u001b[0m \u001b[1;33m=\u001b[0m \u001b[0mtime\u001b[0m\u001b[1;33m.\u001b[0m\u001b[0mtime\u001b[0m\u001b[1;33m(\u001b[0m\u001b[1;33m)\u001b[0m\u001b[1;33m\u001b[0m\u001b[1;33m\u001b[0m\u001b[0m\n",
      "\u001b[1;32m~\\anaconda3\\lib\\site-packages\\sklearn\\pipeline.py\u001b[0m in \u001b[0;36mset_params\u001b[1;34m(self, **kwargs)\u001b[0m\n\u001b[0;32m    139\u001b[0m         \u001b[0mself\u001b[0m\u001b[1;33m\u001b[0m\u001b[1;33m\u001b[0m\u001b[0m\n\u001b[0;32m    140\u001b[0m         \"\"\"\n\u001b[1;32m--> 141\u001b[1;33m         \u001b[0mself\u001b[0m\u001b[1;33m.\u001b[0m\u001b[0m_set_params\u001b[0m\u001b[1;33m(\u001b[0m\u001b[1;34m'steps'\u001b[0m\u001b[1;33m,\u001b[0m \u001b[1;33m**\u001b[0m\u001b[0mkwargs\u001b[0m\u001b[1;33m)\u001b[0m\u001b[1;33m\u001b[0m\u001b[1;33m\u001b[0m\u001b[0m\n\u001b[0m\u001b[0;32m    142\u001b[0m         \u001b[1;32mreturn\u001b[0m \u001b[0mself\u001b[0m\u001b[1;33m\u001b[0m\u001b[1;33m\u001b[0m\u001b[0m\n\u001b[0;32m    143\u001b[0m \u001b[1;33m\u001b[0m\u001b[0m\n",
      "\u001b[1;32m~\\anaconda3\\lib\\site-packages\\sklearn\\utils\\metaestimators.py\u001b[0m in \u001b[0;36m_set_params\u001b[1;34m(self, attr, **params)\u001b[0m\n\u001b[0;32m     51\u001b[0m                 \u001b[0mself\u001b[0m\u001b[1;33m.\u001b[0m\u001b[0m_replace_estimator\u001b[0m\u001b[1;33m(\u001b[0m\u001b[0mattr\u001b[0m\u001b[1;33m,\u001b[0m \u001b[0mname\u001b[0m\u001b[1;33m,\u001b[0m \u001b[0mparams\u001b[0m\u001b[1;33m.\u001b[0m\u001b[0mpop\u001b[0m\u001b[1;33m(\u001b[0m\u001b[0mname\u001b[0m\u001b[1;33m)\u001b[0m\u001b[1;33m)\u001b[0m\u001b[1;33m\u001b[0m\u001b[1;33m\u001b[0m\u001b[0m\n\u001b[0;32m     52\u001b[0m         \u001b[1;31m# 3. Step parameters and other initialisation arguments\u001b[0m\u001b[1;33m\u001b[0m\u001b[1;33m\u001b[0m\u001b[1;33m\u001b[0m\u001b[0m\n\u001b[1;32m---> 53\u001b[1;33m         \u001b[0msuper\u001b[0m\u001b[1;33m(\u001b[0m\u001b[1;33m)\u001b[0m\u001b[1;33m.\u001b[0m\u001b[0mset_params\u001b[0m\u001b[1;33m(\u001b[0m\u001b[1;33m**\u001b[0m\u001b[0mparams\u001b[0m\u001b[1;33m)\u001b[0m\u001b[1;33m\u001b[0m\u001b[1;33m\u001b[0m\u001b[0m\n\u001b[0m\u001b[0;32m     54\u001b[0m         \u001b[1;32mreturn\u001b[0m \u001b[0mself\u001b[0m\u001b[1;33m\u001b[0m\u001b[1;33m\u001b[0m\u001b[0m\n\u001b[0;32m     55\u001b[0m \u001b[1;33m\u001b[0m\u001b[0m\n",
      "\u001b[1;32m~\\anaconda3\\lib\\site-packages\\sklearn\\base.py\u001b[0m in \u001b[0;36mset_params\u001b[1;34m(self, **params)\u001b[0m\n\u001b[0;32m    247\u001b[0m             \u001b[0mkey\u001b[0m\u001b[1;33m,\u001b[0m \u001b[0mdelim\u001b[0m\u001b[1;33m,\u001b[0m \u001b[0msub_key\u001b[0m \u001b[1;33m=\u001b[0m \u001b[0mkey\u001b[0m\u001b[1;33m.\u001b[0m\u001b[0mpartition\u001b[0m\u001b[1;33m(\u001b[0m\u001b[1;34m'__'\u001b[0m\u001b[1;33m)\u001b[0m\u001b[1;33m\u001b[0m\u001b[1;33m\u001b[0m\u001b[0m\n\u001b[0;32m    248\u001b[0m             \u001b[1;32mif\u001b[0m \u001b[0mkey\u001b[0m \u001b[1;32mnot\u001b[0m \u001b[1;32min\u001b[0m \u001b[0mvalid_params\u001b[0m\u001b[1;33m:\u001b[0m\u001b[1;33m\u001b[0m\u001b[1;33m\u001b[0m\u001b[0m\n\u001b[1;32m--> 249\u001b[1;33m                 raise ValueError('Invalid parameter %s for estimator %s. '\n\u001b[0m\u001b[0;32m    250\u001b[0m                                  \u001b[1;34m'Check the list of available parameters '\u001b[0m\u001b[1;33m\u001b[0m\u001b[1;33m\u001b[0m\u001b[0m\n\u001b[0;32m    251\u001b[0m                                  \u001b[1;34m'with `estimator.get_params().keys()`.'\u001b[0m \u001b[1;33m%\u001b[0m\u001b[1;33m\u001b[0m\u001b[1;33m\u001b[0m\u001b[0m\n",
      "\u001b[1;31mValueError\u001b[0m: Invalid parameter C for estimator Pipeline(steps=[('bow',\n                 CountVectorizer(analyzer=<function text_process at 0x00000160DE04C670>)),\n                ('tfidf', TfidfTransformer()), ('clf', LinearSVC())]). Check the list of available parameters with `estimator.get_params().keys()`."
     ]
    }
   ],
   "source": [
    "#TODO\n",
    "svc_gs = LinearSVC()\n",
    "\n",
    "pipeline_gs = Pipeline([\n",
    "    ('bow', CountVectorizer(analyzer=text_process)),  # strings to token integer counts\n",
    "    ('tfidf', TfidfTransformer()),\n",
    "    ('clf', svc_gs)\n",
    "    ])\n",
    "\n",
    "pip = make_pipeline(pipeline_gs, svc_gs)\n",
    "\n",
    "# defining parameter range\n",
    "param_grid_svc = {'C': [0.1, 1, 10, 100, 1000],\n",
    "              'max_iter': [100, 1000, 10000],\n",
    "              'random_state': [5,50,143]}\n",
    " \n",
    "grid = GridSearchCV(estimator=pip,\n",
    "                    param_grid = param_grid_svc,\n",
    "                    cv=4,\n",
    "                    refit = True, \n",
    "                    verbose = 10)\n",
    " \n",
    "# fitting the model for grid search\n",
    "grid_search = grid.fit(msg_train, label_train)\n",
    "print(grid_search.best_params_)\n",
    "accuracy = grid_search.best_score_ *100\n",
    "print(\"Accuracy for our training dataset with tuning is : {:.2f}%\".format(accuracy))"
   ]
  },
  {
   "cell_type": "code",
   "execution_count": 29,
   "metadata": {},
   "outputs": [
    {
     "data": {
      "text/plain": [
       "dict_keys(['C', 'class_weight', 'dual', 'fit_intercept', 'intercept_scaling', 'loss', 'max_iter', 'multi_class', 'penalty', 'random_state', 'tol', 'verbose'])"
      ]
     },
     "execution_count": 29,
     "metadata": {},
     "output_type": "execute_result"
    }
   ],
   "source": [
    "LinearSVC().get_params().keys()"
   ]
  },
  {
   "cell_type": "code",
   "execution_count": 3,
   "metadata": {},
   "outputs": [],
   "source": [
    "#A NEW DAY, NEW OPPORTUNITY\n",
    "df = pd.read_csv('train.txt',sep=';')  "
   ]
  },
  {
   "cell_type": "code",
   "execution_count": 4,
   "metadata": {},
   "outputs": [],
   "source": [
    "df.rename({'i didnt feel humiliated':'text','sadness':'label'}, axis = 1, inplace=True)"
   ]
  },
  {
   "cell_type": "code",
   "execution_count": 5,
   "metadata": {},
   "outputs": [
    {
     "data": {
      "text/html": [
       "<div>\n",
       "<style scoped>\n",
       "    .dataframe tbody tr th:only-of-type {\n",
       "        vertical-align: middle;\n",
       "    }\n",
       "\n",
       "    .dataframe tbody tr th {\n",
       "        vertical-align: top;\n",
       "    }\n",
       "\n",
       "    .dataframe thead th {\n",
       "        text-align: right;\n",
       "    }\n",
       "</style>\n",
       "<table border=\"1\" class=\"dataframe\">\n",
       "  <thead>\n",
       "    <tr style=\"text-align: right;\">\n",
       "      <th></th>\n",
       "      <th>text</th>\n",
       "      <th>label</th>\n",
       "    </tr>\n",
       "  </thead>\n",
       "  <tbody>\n",
       "    <tr>\n",
       "      <th>0</th>\n",
       "      <td>i can go from feeling so hopeless to so damned...</td>\n",
       "      <td>sadness</td>\n",
       "    </tr>\n",
       "    <tr>\n",
       "      <th>1</th>\n",
       "      <td>im grabbing a minute to post i feel greedy wrong</td>\n",
       "      <td>anger</td>\n",
       "    </tr>\n",
       "    <tr>\n",
       "      <th>2</th>\n",
       "      <td>i am ever feeling nostalgic about the fireplac...</td>\n",
       "      <td>love</td>\n",
       "    </tr>\n",
       "    <tr>\n",
       "      <th>3</th>\n",
       "      <td>i am feeling grouchy</td>\n",
       "      <td>anger</td>\n",
       "    </tr>\n",
       "    <tr>\n",
       "      <th>4</th>\n",
       "      <td>ive been feeling a little burdened lately wasn...</td>\n",
       "      <td>sadness</td>\n",
       "    </tr>\n",
       "  </tbody>\n",
       "</table>\n",
       "</div>"
      ],
      "text/plain": [
       "                                                text    label\n",
       "0  i can go from feeling so hopeless to so damned...  sadness\n",
       "1   im grabbing a minute to post i feel greedy wrong    anger\n",
       "2  i am ever feeling nostalgic about the fireplac...     love\n",
       "3                               i am feeling grouchy    anger\n",
       "4  ive been feeling a little burdened lately wasn...  sadness"
      ]
     },
     "execution_count": 5,
     "metadata": {},
     "output_type": "execute_result"
    }
   ],
   "source": [
    "df.head()"
   ]
  },
  {
   "cell_type": "code",
   "execution_count": 51,
   "metadata": {},
   "outputs": [],
   "source": [
    "bow_transformer = CountVectorizer(analyzer=text_process).fit(df['text'])\n",
    "text_bow = bow_transformer.transform(df['text'])"
   ]
  },
  {
   "cell_type": "code",
   "execution_count": 6,
   "metadata": {},
   "outputs": [
    {
     "ename": "NameError",
     "evalue": "name 'text_bow' is not defined",
     "output_type": "error",
     "traceback": [
      "\u001b[1;31m---------------------------------------------------------------------------\u001b[0m",
      "\u001b[1;31mNameError\u001b[0m                                 Traceback (most recent call last)",
      "\u001b[1;32m<ipython-input-6-436e440ba2d9>\u001b[0m in \u001b[0;36m<module>\u001b[1;34m\u001b[0m\n\u001b[1;32m----> 1\u001b[1;33m \u001b[0mprint\u001b[0m\u001b[1;33m(\u001b[0m\u001b[1;34m'Shape of Sparse Matrix: '\u001b[0m\u001b[1;33m,\u001b[0m \u001b[0mtext_bow\u001b[0m\u001b[1;33m.\u001b[0m\u001b[0mshape\u001b[0m\u001b[1;33m)\u001b[0m\u001b[1;33m\u001b[0m\u001b[1;33m\u001b[0m\u001b[0m\n\u001b[0m\u001b[0;32m      2\u001b[0m \u001b[0mprint\u001b[0m\u001b[1;33m(\u001b[0m\u001b[1;34m'Amount of Non-Zero occurences: '\u001b[0m\u001b[1;33m,\u001b[0m \u001b[0mtext_bow\u001b[0m\u001b[1;33m.\u001b[0m\u001b[0mnnz\u001b[0m\u001b[1;33m)\u001b[0m\u001b[1;33m\u001b[0m\u001b[1;33m\u001b[0m\u001b[0m\n",
      "\u001b[1;31mNameError\u001b[0m: name 'text_bow' is not defined"
     ]
    }
   ],
   "source": [
    "print('Shape of Sparse Matrix: ', text_bow.shape)\n",
    "print('Amount of Non-Zero occurences: ', text_bow.nnz)"
   ]
  },
  {
   "cell_type": "code",
   "execution_count": 7,
   "metadata": {},
   "outputs": [
    {
     "name": "stdout",
     "output_type": "stream",
     "text": [
      "12799 3200 15999\n"
     ]
    }
   ],
   "source": [
    "#Train/test splits\n",
    "msg_train, msg_test, label_train, label_test = \\\n",
    "train_test_split(df['text'], df['label'], test_size=0.2)\n",
    "\n",
    "print(len(msg_train), len(msg_test), len(msg_train) + len(msg_test))"
   ]
  },
  {
   "cell_type": "code",
   "execution_count": 8,
   "metadata": {},
   "outputs": [],
   "source": [
    "vect = CountVectorizer()\n",
    "msg_train_vect = vect.fit_transform(msg_train)\n",
    "msg_test_vect = vect.fit_transform(msg_test)"
   ]
  },
  {
   "cell_type": "code",
   "execution_count": 11,
   "metadata": {},
   "outputs": [
    {
     "name": "stdout",
     "output_type": "stream",
     "text": [
      "Model used:  Naive Bayes\n",
      "Cross Validation Scores:  [0.72734375 0.72539062 0.71875    0.71679688 0.71942165]\n",
      "Classification Report: \n",
      "              precision    recall  f1-score   support\n",
      "\n",
      "       anger       0.33      0.97      0.49       135\n",
      "        fear       0.28      0.88      0.42       119\n",
      "         joy       0.97      0.64      0.77      1679\n",
      "        love       0.06      0.93      0.11        15\n",
      "     sadness       0.91      0.70      0.79      1251\n",
      "    surprise       0.01      1.00      0.02         1\n",
      "\n",
      "    accuracy                           0.69      3200\n",
      "   macro avg       0.43      0.85      0.43      3200\n",
      "weighted avg       0.89      0.69      0.75      3200\n",
      "\n",
      "Confusion Matrix: \n",
      "[[ 131    3    1    0    0    0]\n",
      " [   4  105    0    0    1    9]\n",
      " [ 129  143 1068  185   84   70]\n",
      " [   0    0    1   14    0    0]\n",
      " [ 136  128   33   42  878   34]\n",
      " [   0    0    0    0    0    1]]\n",
      "Accuracy Score:  0.6865625\n",
      "\n",
      "\n",
      "\n",
      "Model used:  Random Forest Classifier\n",
      "Cross Validation Scores:  [0.86875    0.86171875 0.86054688 0.85195312 0.85971082]\n",
      "Classification Report: \n",
      "              precision    recall  f1-score   support\n",
      "\n",
      "       anger       0.85      0.84      0.85       408\n",
      "        fear       0.88      0.79      0.83       421\n",
      "         joy       0.91      0.87      0.89      1161\n",
      "        love       0.64      0.83      0.72       187\n",
      "     sadness       0.90      0.93      0.92       929\n",
      "    surprise       0.67      0.81      0.73        94\n",
      "\n",
      "    accuracy                           0.87      3200\n",
      "   macro avg       0.81      0.85      0.82      3200\n",
      "weighted avg       0.88      0.87      0.87      3200\n",
      "\n",
      "Confusion Matrix: \n",
      "[[ 342   15   22    1   28    0]\n",
      " [  25  334   12    1   23   26]\n",
      " [  14    8 1009   82   40    8]\n",
      " [   1    1   26  155    4    0]\n",
      " [  16   14   27    2  866    4]\n",
      " [   2    7    7    0    2   76]]\n",
      "Accuracy Score:  0.869375\n",
      "\n",
      "\n",
      "\n",
      "Model used:  Support Vector Machine\n",
      "Cross Validation Scores:  [0.88554687 0.88398438 0.871875   0.8765625  0.87846815]\n",
      "Classification Report: \n",
      "              precision    recall  f1-score   support\n",
      "\n",
      "       anger       0.84      0.88      0.86       386\n",
      "        fear       0.85      0.85      0.85       378\n",
      "         joy       0.92      0.88      0.90      1163\n",
      "        love       0.65      0.81      0.72       192\n",
      "     sadness       0.91      0.90      0.91       972\n",
      "    surprise       0.70      0.73      0.72       109\n",
      "\n",
      "    accuracy                           0.87      3200\n",
      "   macro avg       0.81      0.84      0.83      3200\n",
      "weighted avg       0.88      0.87      0.87      3200\n",
      "\n",
      "Confusion Matrix: \n",
      "[[ 338   11   11    1   25    0]\n",
      " [  12  321    7    1   14   23]\n",
      " [  16   14 1019   69   38    7]\n",
      " [   3    2   28  156    1    2]\n",
      " [  29   19   29   14  879    2]\n",
      " [   2   12    9    0    6   80]]\n",
      "Accuracy Score:  0.8728125\n",
      "\n",
      "\n",
      "\n",
      "Model used:  K-Nearest-Neighbor\n",
      "Cross Validation Scores:  [0.3765625  0.353125   0.36210938 0.36914062 0.37710043]\n",
      "Classification Report: \n",
      "              precision    recall  f1-score   support\n",
      "\n",
      "       anger       0.81      0.64      0.71       504\n",
      "        fear       0.73      0.73      0.73       380\n",
      "         joy       0.85      0.78      0.81      1193\n",
      "        love       0.46      0.74      0.57       149\n",
      "     sadness       0.78      0.82      0.80       912\n",
      "    surprise       0.41      0.76      0.53        62\n",
      "\n",
      "    accuracy                           0.76      3200\n",
      "   macro avg       0.67      0.75      0.69      3200\n",
      "weighted avg       0.78      0.76      0.77      3200\n",
      "\n",
      "Confusion Matrix: \n",
      "[[323  32  50  22  64  13]\n",
      " [ 12 278  30   6  31  23]\n",
      " [ 33  23 935  77 107  18]\n",
      " [  2   1  17 111  13   5]\n",
      " [ 30  37  65  25 747   8]\n",
      " [  0   8   6   0   1  47]]\n",
      "Accuracy Score:  0.7628125\n",
      "\n",
      "\n",
      "\n"
     ]
    }
   ],
   "source": [
    "#Test the models\n",
    "classifiers = {\n",
    "    'Naive Bayes': MultinomialNB(),\n",
    "    'Random Forest Classifier': RandomForestClassifier(random_state=143, n_jobs=8),\n",
    "    'Support Vector Machine': LinearSVC(max_iter=10000, random_state=143),\n",
    "    'K-Nearest-Neighbor': KNeighborsClassifier(n_neighbors=4)\n",
    "}\n",
    "\n",
    "for clas in classifiers: \n",
    "    \n",
    "    #Create pipeline\n",
    "    pipeline = Pipeline([\n",
    "    ('bow', CountVectorizer(analyzer=text_process)),  # strings to token integer counts\n",
    "    ('tfidf', TfidfTransformer()),  # integer counts to weighted TF-IDF scores\n",
    "    ('classifier', classifiers[clas])  # train on TF-IDF vectors\n",
    "    ])\n",
    "\n",
    "    #Fitting pipeline\n",
    "    pipeline.fit(msg_train,label_train)\n",
    "\n",
    "    #Cross-Validation\n",
    "    scores = cross_val_score(classifiers[clas], msg_train_vect, label_train)\n",
    "\n",
    "    #Model resulting metrics\n",
    "    preds = pipeline.predict(msg_test)\n",
    "    print('Model used: ', clas)\n",
    "    print('Cross Validation Scores: ',scores)\n",
    "    print('Classification Report: ')\n",
    "    print(classification_report(preds,label_test))\n",
    "    print('Confusion Matrix: ')\n",
    "    print(confusion_matrix(preds,label_test))\n",
    "    print(\"Accuracy Score: \", accuracy_score(preds, label_test))\n",
    "    print('\\n\\n')"
   ]
  },
  {
   "cell_type": "code",
   "execution_count": null,
   "metadata": {},
   "outputs": [],
   "source": [
    "sparsity = (100.0 * text_bow.nnz / (text_bow.shape[0] * text_bow.shape[1]))\n",
    "print('sparsity: {}'.format(round(sparsity)))"
   ]
  },
  {
   "cell_type": "code",
   "execution_count": null,
   "metadata": {},
   "outputs": [],
   "source": [
    "#LSTM"
   ]
  }
 ],
 "metadata": {
  "interpreter": {
   "hash": "432661d2962cb742e4547be49fd1bd1a3aad3863ddba98d84d2d501011667c5d"
  },
  "kernelspec": {
   "display_name": "Python 3.8.3 ('base')",
   "language": "python",
   "name": "python3"
  },
  "language_info": {
   "codemirror_mode": {
    "name": "ipython",
    "version": 3
   },
   "file_extension": ".py",
   "mimetype": "text/x-python",
   "name": "python",
   "nbconvert_exporter": "python",
   "pygments_lexer": "ipython3",
   "version": "3.8.3"
  },
  "orig_nbformat": 4
 },
 "nbformat": 4,
 "nbformat_minor": 2
}
